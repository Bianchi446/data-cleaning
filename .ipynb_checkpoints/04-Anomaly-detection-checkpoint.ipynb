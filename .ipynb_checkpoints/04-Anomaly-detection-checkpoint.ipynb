{
 "cells": [
  {
   "cell_type": "code",
   "execution_count": 10,
   "id": "5a9a771f-b5d7-41e8-a168-fbf82c102f11",
   "metadata": {},
   "outputs": [
    {
     "name": "stdout",
     "output_type": "stream",
     "text": [
      "The rpy2.ipython extension is already loaded. To reload it, use:\n",
      "  %reload_ext rpy2.ipython\n"
     ]
    }
   ],
   "source": [
    "from src.setup import * \n",
    "%load_ext rpy2.ipython "
   ]
  },
  {
   "cell_type": "code",
   "execution_count": 3,
   "id": "673d7c0c-0253-41ee-ac38-a2c4170264f5",
   "metadata": {},
   "outputs": [
    {
     "name": "stdout",
     "output_type": "stream",
     "text": [
      "--- Please select a CRAN mirror for use in this session ---\n"
     ]
    },
    {
     "name": "stderr",
     "output_type": "stream",
     "text": [
      "* installing *source* package ‘RPostgreSQL’ ...\n",
      "** package ‘RPostgreSQL’ successfully unpacked and MD5 sums checked\n",
      "** using staged installation\n"
     ]
    },
    {
     "name": "stdout",
     "output_type": "stream",
     "text": [
      "checking build system type... x86_64-conda-linux-gnu\n",
      "checking host system type... x86_64-conda-linux-gnu\n",
      "checking target system type... x86_64-conda-linux-gnu\n",
      "checking for pg_config... /home/jose/anaconda3/bin/pg_config\n",
      "PG_CONFIG_BINDIR = /home/jose/anaconda3/bin\n",
      "PG_CONFIG_DOCDIR = /home/jose/anaconda3/share/doc\n",
      "PG_CONFIG_HTMLDIR = /home/jose/anaconda3/share/doc\n",
      "PG_CONFIG_INCLUDEDIR = /home/jose/anaconda3/include\n",
      "PG_CONFIG_PKGINCLUDEDIR = /home/jose/anaconda3/include\n",
      "PG_CONFIG_INCLUDEDIR-SERVER = /home/jose/anaconda3/include/server\n",
      "PG_CONFIG_LIBDIR = /home/jose/anaconda3/lib\n",
      "PG_CONFIG_PKGLIBDIR = /home/jose/anaconda3/lib\n",
      "PG_CONFIG_LOCALEDIR = /home/jose/anaconda3/share/locale\n",
      "PG_CONFIG_MANDIR = /home/jose/anaconda3/share/man\n",
      "PG_CONFIG_SHAREDIR = /home/jose/anaconda3/share\n",
      "PG_CONFIG_SYSCONFDIR = /home/jose/anaconda3/etc\n",
      "PG_CONFIG_PGXS = /home/jose/anaconda3/lib/pgxs/src/makefiles/pgxs.mk\n",
      "PG_CONFIG_CONFIGURE = '--prefix=/home/jose/anaconda3' '--with-readline' '--with-libraries=/home/jose/anaconda3/lib' '--with-includes=/home/jose/anaconda3/include' '--with-openssl' '--with-gssapi' 'PG_SYSROOT=undefined' 'build_alias=x86_64-conda-linux-gnu' 'host_alias=x86_64-conda-linux-gnu' 'CC=x86_64-conda-linux-gnu-cc' 'CFLAGS=-march=nocona -mtune=haswell -ftree-vectorize -fPIC -fstack-protector-strong -fno-plt -O2 -ffunction-sections -pipe -isystem /home/jose/anaconda3/include -fdebug-prefix-map=/croot/postgresql-split_1687379831887/work=/usr/local/src/conda/postgresql-split-12.15 -fdebug-prefix-map=/home/jose/anaconda3=/usr/local/src/conda-prefix' 'LDFLAGS=cflwarnl,-O2 cflwarnl,--sort-common cflwarnl,--as-needed cflwarnl,-z,relro cflwarnl,-z,now cflwarnl,--disable-new-dtags cflwarnl,--gc-sections cflwarnl,-rpath,/home/jose/anaconda3/lib cflwarnl,-rpath-link,/home/jose/anaconda3/lib -L/home/jose/anaconda3/lib' 'CPPFLAGS=-DNDEBUG -D_FORTIFY_SOURCE=2 -O2 -isystem /home/jose/anaconda3/include' 'CXX=' 'CPP=/croot/postgresql-split_1687379831887/_build_env/bin/x86_64-conda-linux-gnu-cpp' 'PKG_CONFIG_PATH=/home/jose/anaconda3/lib/pkgconfig'\n",
      "PG_CONFIG_CC = x86_64-conda-linux-gnu-cc\n",
      "PG_CONFIG_CPPFLAGS = -DNDEBUG -D_FORTIFY_SOURCE=2 -O2 -isystem /home/jose/anaconda3/include -D_GNU_SOURCE -I/home/jose/anaconda3/include\n",
      "PG_CONFIG_CFLAGS = cflwarnall cflwarnmissing-prototypes cflwarnpointer-arith cflwarndeclaration-after-statement cflwarnerror=vla cflwarnendif-labels cflwarnmissing-format-attribute cflwarnformat-security -fno-strict-aliasing -fwrapv -fexcess-precision=standard cflwarnno-format-truncation cflwarnno-stringop-truncation -march=nocona -mtune=haswell -ftree-vectorize -fPIC -fstack-protector-strong -fno-plt -O2 -ffunction-sections -pipe -isystem /home/jose/anaconda3/include -fdebug-prefix-map=/croot/postgresql-split_1687379831887/work=/usr/local/src/conda/postgresql-split-12.15 -fdebug-prefix-map=/home/jose/anaconda3=/usr/local/src/conda-prefix\n",
      "PG_CONFIG_CFLAGS_SL = -fPIC\n",
      "PG_CONFIG_LDFLAGS = cflwarnl,-O2 cflwarnl,--sort-common cflwarnl,--as-needed cflwarnl,-z,relro cflwarnl,-z,now cflwarnl,--disable-new-dtags cflwarnl,--gc-sections cflwarnl,-rpath,/home/jose/anaconda3/lib cflwarnl,-rpath-link,/home/jose/anaconda3/lib -L/home/jose/anaconda3/lib -L/home/jose/anaconda3/lib cflwarnl,--as-needed cflwarnl,-rpath,'/home/jose/anaconda3/lib',--disable-new-dtags\n",
      "PG_CONFIG_LDFLAGS_EX = \n",
      "PG_CONFIG_LDFLAGS_SL = \n",
      "PG_CONFIG_LIBS = -lpgcommon -lpgport -lpthread -lssl -lcrypto -lgssapi_krb5 -lz -lreadline -lrt -lcrypt -ldl -lm \n",
      "PG_CONFIG_VERSION = PostgreSQL 12.15\n",
      "configure: checking for PostgreSQL header files\n",
      "/home/jose/anaconda3/lib\n",
      "/home/jose/anaconda3/include\n",
      "/home/jose/anaconda3/envs/data-cleaning/bin/x86_64-conda-linux-gnu-cc -march=nocona -mtune=haswell -ftree-vectorize -fPIC -fstack-protector-strong -fno-plt -O2 -ffunction-sections -pipe -isystem /home/jose/anaconda3/envs/data-cleaning/include -I/home/jose/anaconda3/include -L/home/jose/anaconda3/lib conftest.c -lpq -o pqconftest\n",
      "./pqconftest\n",
      "140010...runs fine\n",
      "checking for \"/home/jose/anaconda3/include/libpq-fe.h\"... yes\n",
      "configure: creating ./config.status\n",
      "config.status: creating src/Makevars\n",
      "x86_64-conda-linux-gnu-cc -I\"/home/jose/anaconda3/envs/data-cleaning/lib/R/include\" -DNDEBUG -I/home/jose/anaconda3/include  -DNDEBUG -D_FORTIFY_SOURCE=2 -O2 -isystem /home/jose/anaconda3/envs/data-cleaning/include -I/home/jose/anaconda3/envs/data-cleaning/include -Wl,-rpath-link,/home/jose/anaconda3/envs/data-cleaning/lib   -fpic  -march=nocona -mtune=haswell -ftree-vectorize -fPIC -fstack-protector-strong -fno-plt -O2 -ffunction-sections -pipe -isystem /home/jose/anaconda3/envs/data-cleaning/include -fdebug-prefix-map=/home/builder/r-4.2.0/miniconda/envs/r-4.2.0/conda-bld/r-base_1653520836469/work=/usr/local/src/conda/r-base-4.2.0 -fdebug-prefix-map=/home/jose/anaconda3/envs/data-cleaning=/usr/local/src/conda-prefix  -c RS-DBI.c -o RS-DBI.o\n"
     ]
    },
    {
     "name": "stderr",
     "output_type": "stream",
     "text": [
      "** libs\n"
     ]
    },
    {
     "name": "stdout",
     "output_type": "stream",
     "text": [
      "x86_64-conda-linux-gnu-cc -I\"/home/jose/anaconda3/envs/data-cleaning/lib/R/include\" -DNDEBUG -I/home/jose/anaconda3/include  -DNDEBUG -D_FORTIFY_SOURCE=2 -O2 -isystem /home/jose/anaconda3/envs/data-cleaning/include -I/home/jose/anaconda3/envs/data-cleaning/include -Wl,-rpath-link,/home/jose/anaconda3/envs/data-cleaning/lib   -fpic  -march=nocona -mtune=haswell -ftree-vectorize -fPIC -fstack-protector-strong -fno-plt -O2 -ffunction-sections -pipe -isystem /home/jose/anaconda3/envs/data-cleaning/include -fdebug-prefix-map=/home/builder/r-4.2.0/miniconda/envs/r-4.2.0/conda-bld/r-base_1653520836469/work=/usr/local/src/conda/r-base-4.2.0 -fdebug-prefix-map=/home/jose/anaconda3/envs/data-cleaning=/usr/local/src/conda-prefix  -c RS-PQescape.c -o RS-PQescape.o\n",
      "x86_64-conda-linux-gnu-cc -I\"/home/jose/anaconda3/envs/data-cleaning/lib/R/include\" -DNDEBUG -I/home/jose/anaconda3/include  -DNDEBUG -D_FORTIFY_SOURCE=2 -O2 -isystem /home/jose/anaconda3/envs/data-cleaning/include -I/home/jose/anaconda3/envs/data-cleaning/include -Wl,-rpath-link,/home/jose/anaconda3/envs/data-cleaning/lib   -fpic  -march=nocona -mtune=haswell -ftree-vectorize -fPIC -fstack-protector-strong -fno-plt -O2 -ffunction-sections -pipe -isystem /home/jose/anaconda3/envs/data-cleaning/include -fdebug-prefix-map=/home/builder/r-4.2.0/miniconda/envs/r-4.2.0/conda-bld/r-base_1653520836469/work=/usr/local/src/conda/r-base-4.2.0 -fdebug-prefix-map=/home/jose/anaconda3/envs/data-cleaning=/usr/local/src/conda-prefix  -c RS-PostgreSQL.c -o RS-PostgreSQL.o\n",
      "x86_64-conda-linux-gnu-cc -I\"/home/jose/anaconda3/envs/data-cleaning/lib/R/include\" -DNDEBUG -I/home/jose/anaconda3/include  -DNDEBUG -D_FORTIFY_SOURCE=2 -O2 -isystem /home/jose/anaconda3/envs/data-cleaning/include -I/home/jose/anaconda3/envs/data-cleaning/include -Wl,-rpath-link,/home/jose/anaconda3/envs/data-cleaning/lib   -fpic  -march=nocona -mtune=haswell -ftree-vectorize -fPIC -fstack-protector-strong -fno-plt -O2 -ffunction-sections -pipe -isystem /home/jose/anaconda3/envs/data-cleaning/include -fdebug-prefix-map=/home/builder/r-4.2.0/miniconda/envs/r-4.2.0/conda-bld/r-base_1653520836469/work=/usr/local/src/conda/r-base-4.2.0 -fdebug-prefix-map=/home/jose/anaconda3/envs/data-cleaning=/usr/local/src/conda-prefix  -c RS-pgsql-copy.c -o RS-pgsql-copy.o\n",
      "x86_64-conda-linux-gnu-cc -I\"/home/jose/anaconda3/envs/data-cleaning/lib/R/include\" -DNDEBUG -I/home/jose/anaconda3/include  -DNDEBUG -D_FORTIFY_SOURCE=2 -O2 -isystem /home/jose/anaconda3/envs/data-cleaning/include -I/home/jose/anaconda3/envs/data-cleaning/include -Wl,-rpath-link,/home/jose/anaconda3/envs/data-cleaning/lib   -fpic  -march=nocona -mtune=haswell -ftree-vectorize -fPIC -fstack-protector-strong -fno-plt -O2 -ffunction-sections -pipe -isystem /home/jose/anaconda3/envs/data-cleaning/include -fdebug-prefix-map=/home/builder/r-4.2.0/miniconda/envs/r-4.2.0/conda-bld/r-base_1653520836469/work=/usr/local/src/conda/r-base-4.2.0 -fdebug-prefix-map=/home/jose/anaconda3/envs/data-cleaning=/usr/local/src/conda-prefix  -c RS-pgsql-getResult.c -o RS-pgsql-getResult.o\n",
      "x86_64-conda-linux-gnu-cc -I\"/home/jose/anaconda3/envs/data-cleaning/lib/R/include\" -DNDEBUG -I/home/jose/anaconda3/include  -DNDEBUG -D_FORTIFY_SOURCE=2 -O2 -isystem /home/jose/anaconda3/envs/data-cleaning/include -I/home/jose/anaconda3/envs/data-cleaning/include -Wl,-rpath-link,/home/jose/anaconda3/envs/data-cleaning/lib   -fpic  -march=nocona -mtune=haswell -ftree-vectorize -fPIC -fstack-protector-strong -fno-plt -O2 -ffunction-sections -pipe -isystem /home/jose/anaconda3/envs/data-cleaning/include -fdebug-prefix-map=/home/builder/r-4.2.0/miniconda/envs/r-4.2.0/conda-bld/r-base_1653520836469/work=/usr/local/src/conda/r-base-4.2.0 -fdebug-prefix-map=/home/jose/anaconda3/envs/data-cleaning=/usr/local/src/conda-prefix  -c RS-pgsql-pqexec.c -o RS-pgsql-pqexec.o\n",
      "x86_64-conda-linux-gnu-cc -I\"/home/jose/anaconda3/envs/data-cleaning/lib/R/include\" -DNDEBUG -I/home/jose/anaconda3/include  -DNDEBUG -D_FORTIFY_SOURCE=2 -O2 -isystem /home/jose/anaconda3/envs/data-cleaning/include -I/home/jose/anaconda3/envs/data-cleaning/include -Wl,-rpath-link,/home/jose/anaconda3/envs/data-cleaning/lib   -fpic  -march=nocona -mtune=haswell -ftree-vectorize -fPIC -fstack-protector-strong -fno-plt -O2 -ffunction-sections -pipe -isystem /home/jose/anaconda3/envs/data-cleaning/include -fdebug-prefix-map=/home/builder/r-4.2.0/miniconda/envs/r-4.2.0/conda-bld/r-base_1653520836469/work=/usr/local/src/conda/r-base-4.2.0 -fdebug-prefix-map=/home/jose/anaconda3/envs/data-cleaning=/usr/local/src/conda-prefix  -c RS-pgsql-pqexecparams.c -o RS-pgsql-pqexecparams.o\n",
      "x86_64-conda-linux-gnu-cc -shared -L/home/jose/anaconda3/envs/data-cleaning/lib/R/lib -Wl,-O2 -Wl,--sort-common -Wl,--as-needed -Wl,-z,relro -Wl,-z,now -Wl,--disable-new-dtags -Wl,--gc-sections -Wl,-rpath,/home/jose/anaconda3/envs/data-cleaning/lib -Wl,-rpath-link,/home/jose/anaconda3/envs/data-cleaning/lib -L/home/jose/anaconda3/envs/data-cleaning/lib -Wl,-rpath-link,/home/jose/anaconda3/envs/data-cleaning/lib -Wl,-rpath-link,/home/jose/anaconda3/envs/data-cleaning/lib -o RPostgreSQL.so RS-DBI.o RS-PQescape.o RS-PostgreSQL.o RS-pgsql-copy.o RS-pgsql-getResult.o RS-pgsql-pqexec.o RS-pgsql-pqexecparams.o -L/home/jose/anaconda3/lib -lpq -L/home/jose/anaconda3/envs/data-cleaning/lib/R/lib -lR\n"
     ]
    },
    {
     "name": "stderr",
     "output_type": "stream",
     "text": [
      "installing to /home/jose/anaconda3/envs/data-cleaning/lib/R/library/00LOCK-RPostgreSQL/00new/RPostgreSQL/libs\n",
      "** R\n",
      "** inst\n",
      "** byte-compile and prepare package for lazy loading\n",
      "** help\n",
      "*** installing help indices\n",
      "** building package indices\n",
      "** testing if installed package can be loaded from temporary location\n",
      "** checking absolute paths in shared objects and dynamic libraries\n",
      "** testing if installed package can be loaded from final location\n",
      "** testing if installed package keeps a record of temporary installation path\n",
      "* DONE (RPostgreSQL)\n"
     ]
    },
    {
     "data": {
      "text/plain": [
       "── Attaching packages ─────────────────────────────────────── tidyverse 1.3.1 ──\n",
       "✔ ggplot2 3.3.6     ✔ purrr   0.3.4\n",
       "✔ tibble  3.1.7     ✔ dplyr   1.0.9\n",
       "✔ tidyr   1.2.0     ✔ stringr 1.4.0\n",
       "✔ readr   2.1.2     ✔ forcats 0.5.1\n",
       "── Conflicts ────────────────────────────────────────── tidyverse_conflicts() ──\n",
       "✖ dplyr::filter() masks stats::filter()\n",
       "✖ dplyr::lag()    masks stats::lag()\n",
       "trying URL 'https://mirror.las.iastate.edu/CRAN/src/contrib/RPostgreSQL_0.7-6.tar.gz'\n",
       "Content type 'application/x-gzip' length 576636 bytes (563 KB)\n",
       "==================================================\n",
       "downloaded 563 KB\n",
       "\n",
       "\n",
       "The downloaded source packages are in\n",
       "\t‘/tmp/RtmptV1A11/downloaded_packages’\n",
       "Updating HTML index of packages in '.Library'\n",
       "Making 'packages.html' ... done\n"
      ]
     },
     "metadata": {},
     "output_type": "display_data"
    }
   ],
   "source": [
    "%%R\n",
    "library(tidyverse)\n",
    "install.packages(\"RPostgreSQL\")"
   ]
  },
  {
   "cell_type": "code",
   "execution_count": 11,
   "id": "49c94dd2-a9e3-4573-a3c3-b2d3729927b0",
   "metadata": {},
   "outputs": [
    {
     "name": "stdout",
     "output_type": "stream",
     "text": [
      "n=7: \n",
      " method1 : 1.109\n",
      " method2 : 1.000 \n",
      "n=8: \n",
      " method1 : 1.229\n",
      " method2 : 1.000 \n",
      "n=9: \n",
      " method1 : nan\n",
      " method2 : 1.000 \n"
     ]
    }
   ],
   "source": [
    "for n in range(7, 10):\n",
    "    exp1 = 2**n\n",
    "    a = (22/7) ** exp1 \n",
    "    b = π ** exp1\n",
    "\n",
    "    res1 = (a * a) / (b * b)\n",
    "    res2 = (a / b) * (b / a)\n",
    "\n",
    "    print(f\"n={n}: \\n \"\n",
    "         f\"method1 : {res1:.3f}\\n \"\n",
    "         f\"method2 : {res2:.3f} \") "
   ]
  },
  {
   "cell_type": "markdown",
   "id": "aa520900-06b9-461d-939b-4f3a0d2682f8",
   "metadata": {},
   "source": [
    "## SQL "
   ]
  },
  {
   "cell_type": "code",
   "execution_count": 14,
   "id": "2a2db27c-454d-4d5d-ba8f-4053c954ad33",
   "metadata": {},
   "outputs": [],
   "source": [
    "def connect_local():\n",
    "    user = 'postgres'\n",
    "    pwd = 'taylor'\n",
    "    host = 'localhost'\n",
    "    port = '5432'  \n",
    "    db = 'dirty'\n",
    "    con = psycopg2.connect(database=db, host=host, user=user, password=pwd)\n",
    "    engine = create_engine(f'postgresql://{user}:{pwd}@{host}:{port}/{db}')\n",
    "    return con, engine"
   ]
  },
  {
   "cell_type": "code",
   "execution_count": 29,
   "id": "eb3ce5ca-c4d7-4410-8fb8-3bb1a830421b",
   "metadata": {},
   "outputs": [
    {
     "name": "stdout",
     "output_type": "stream",
     "text": [
      "1 |  nan | Not Number\n",
      "2 | 1.23 | A number  \n",
      "3 | None | A Null    \n",
      "4 | 3.45 | Santiago  \n",
      "5 | 6.78 |           \n",
      "6 | 9.01 | None\n"
     ]
    }
   ],
   "source": [
    "con, engine = connect_local()\n",
    "cur = con.cursor()\n",
    "# Look at table named \"missing\"\n",
    "cur.execute(\"SELECT * FROM missing\")\n",
    "for n, (a, b) in enumerate(cur):\n",
    "    print(f\"{n+1} | {str(a):>4s} | {b}\")"
   ]
  },
  {
   "cell_type": "code",
   "execution_count": 30,
   "id": "8a30f20b-8af6-4293-90bd-5e6e3a982ffc",
   "metadata": {},
   "outputs": [
    {
     "name": "stdout",
     "output_type": "stream",
     "text": [
      "# A tibble: 3 × 2\n",
      "    val str  \n",
      "  <dbl> <chr>\n",
      "1    NA this \n",
      "2   NaN that \n",
      "3     0 <NA> \n"
     ]
    }
   ],
   "source": [
    "%%R\n",
    "# Notice NULL is simply ignored in the construction\n",
    "    tibble(val = c(NULL, NA, NaN, 0),\n",
    "            str = c(\"this\", \"that\", NA))"
   ]
  },
  {
   "cell_type": "code",
   "execution_count": 35,
   "id": "1330dc6d-795b-49ed-8345-604ae19fd51f",
   "metadata": {},
   "outputs": [
    {
     "name": "stdout",
     "output_type": "stream",
     "text": [
      "# A tibble: 6 × 2\n",
      "       a b           \n",
      "   <dbl> <chr>       \n",
      "1 NaN    \"Not Number\"\n",
      "2   1.23 \"A number  \"\n",
      "3  NA    \"A Null    \"\n",
      "4   3.45 \"Santiago  \"\n",
      "5   6.78 \"          \"\n",
      "6   9.01  <NA>       \n"
     ]
    }
   ],
   "source": [
    "%%R\n",
    "library(RPostgreSQL)\n",
    "\n",
    "dvr <- dbDriver('PostgreSQL')\n",
    "con <- dbConnect(dvr, dbname='dirty', host='localhost', port=5432, user='postgres', password='taylor')\n",
    "sql <- \"SELECT * FROM Missing\"\n",
    "data <- tibble(dbGetQuery(con, sql))\n",
    "data"
   ]
  },
  {
   "cell_type": "code",
   "execution_count": 36,
   "id": "76d56ee2-7ea5-425a-9756-9955f34b0bb3",
   "metadata": {},
   "outputs": [
    {
     "data": {
      "text/html": [
       "<div>\n",
       "<style scoped>\n",
       "    .dataframe tbody tr th:only-of-type {\n",
       "        vertical-align: middle;\n",
       "    }\n",
       "\n",
       "    .dataframe tbody tr th {\n",
       "        vertical-align: top;\n",
       "    }\n",
       "\n",
       "    .dataframe thead th {\n",
       "        text-align: right;\n",
       "    }\n",
       "</style>\n",
       "<table border=\"1\" class=\"dataframe\">\n",
       "  <thead>\n",
       "    <tr style=\"text-align: right;\">\n",
       "      <th></th>\n",
       "      <th>a</th>\n",
       "      <th>b</th>\n",
       "    </tr>\n",
       "  </thead>\n",
       "  <tbody>\n",
       "    <tr>\n",
       "      <th>0</th>\n",
       "      <td>NaN</td>\n",
       "      <td>Not Number</td>\n",
       "    </tr>\n",
       "    <tr>\n",
       "      <th>1</th>\n",
       "      <td>1.23</td>\n",
       "      <td>A number</td>\n",
       "    </tr>\n",
       "    <tr>\n",
       "      <th>2</th>\n",
       "      <td>NaN</td>\n",
       "      <td>A Null</td>\n",
       "    </tr>\n",
       "    <tr>\n",
       "      <th>3</th>\n",
       "      <td>3.45</td>\n",
       "      <td>Santiago</td>\n",
       "    </tr>\n",
       "    <tr>\n",
       "      <th>4</th>\n",
       "      <td>6.78</td>\n",
       "      <td></td>\n",
       "    </tr>\n",
       "    <tr>\n",
       "      <th>5</th>\n",
       "      <td>9.01</td>\n",
       "      <td>None</td>\n",
       "    </tr>\n",
       "  </tbody>\n",
       "</table>\n",
       "</div>"
      ],
      "text/plain": [
       "      a           b\n",
       "0   NaN  Not Number\n",
       "1  1.23  A number  \n",
       "2   NaN  A Null    \n",
       "3  3.45  Santiago  \n",
       "4  6.78            \n",
       "5  9.01        None"
      ]
     },
     "execution_count": 36,
     "metadata": {},
     "output_type": "execute_result"
    }
   ],
   "source": [
    "# Pandas produces a less accurate data frame \n",
    "\n",
    "pd.read_sql(\"SELECT * FROM missing\", engine)"
   ]
  },
  {
   "cell_type": "markdown",
   "id": "cc1eb2f1-3548-44b4-9861-f85a0e923a35",
   "metadata": {},
   "source": [
    "### Hierarchical formats"
   ]
  },
  {
   "cell_type": "code",
   "execution_count": 38,
   "id": "a25524ed-51a4-46d9-b48c-ca19c795b7ee",
   "metadata": {},
   "outputs": [
    {
     "data": {
      "text/plain": [
       "['NaN', 'null', 'Infinity']"
      ]
     },
     "execution_count": 38,
     "metadata": {},
     "output_type": "execute_result"
    }
   ],
   "source": [
    "json.loads('[\"NaN\", \"null\", \"Infinity\"]')"
   ]
  },
  {
   "cell_type": "code",
   "execution_count": 39,
   "id": "290845b4-835c-40b0-aa83-b2664f4483a2",
   "metadata": {},
   "outputs": [
    {
     "data": {
      "text/plain": [
       "[nan, None, inf]"
      ]
     },
     "execution_count": 39,
     "metadata": {},
     "output_type": "execute_result"
    }
   ],
   "source": [
    "# Hierarchical formats like JSON \n",
    "\n",
    "json.loads('[NaN, null, Infinity]')"
   ]
  },
  {
   "cell_type": "code",
   "execution_count": 43,
   "id": "101be22b-addd-49fb-97dd-5d998a801738",
   "metadata": {},
   "outputs": [
    {
     "data": {
      "text/html": [
       "<div>\n",
       "<style scoped>\n",
       "    .dataframe tbody tr th:only-of-type {\n",
       "        vertical-align: middle;\n",
       "    }\n",
       "\n",
       "    .dataframe tbody tr th {\n",
       "        vertical-align: top;\n",
       "    }\n",
       "\n",
       "    .dataframe thead th {\n",
       "        text-align: right;\n",
       "    }\n",
       "</style>\n",
       "<table border=\"1\" class=\"dataframe\">\n",
       "  <thead>\n",
       "    <tr style=\"text-align: right;\">\n",
       "      <th></th>\n",
       "      <th>a</th>\n",
       "      <th>b</th>\n",
       "    </tr>\n",
       "  </thead>\n",
       "  <tbody>\n",
       "    <tr>\n",
       "      <th>1</th>\n",
       "      <td>NaN</td>\n",
       "      <td>Not number</td>\n",
       "    </tr>\n",
       "    <tr>\n",
       "      <th>2</th>\n",
       "      <td>1.23</td>\n",
       "      <td>A number</td>\n",
       "    </tr>\n",
       "    <tr>\n",
       "      <th>3</th>\n",
       "      <td>NaN</td>\n",
       "      <td>A null</td>\n",
       "    </tr>\n",
       "    <tr>\n",
       "      <th>4</th>\n",
       "      <td>3.45</td>\n",
       "      <td>Santiago</td>\n",
       "    </tr>\n",
       "    <tr>\n",
       "      <th>5</th>\n",
       "      <td>6.78</td>\n",
       "      <td></td>\n",
       "    </tr>\n",
       "    <tr>\n",
       "      <th>6</th>\n",
       "      <td>9.01</td>\n",
       "      <td>NaN</td>\n",
       "    </tr>\n",
       "  </tbody>\n",
       "</table>\n",
       "</div>"
      ],
      "text/plain": [
       "      a           b\n",
       "1   NaN  Not number\n",
       "2  1.23    A number\n",
       "3   NaN      A null\n",
       "4  3.45    Santiago\n",
       "5  6.78            \n",
       "6  9.01         NaN"
      ]
     },
     "execution_count": 43,
     "metadata": {},
     "output_type": "execute_result"
    }
   ],
   "source": [
    "json_data = '''\n",
    "    {\"a\": {\"1\": NaN, \"2\": 1.23, \"4\": 3.45, \"5\": 6.78, \"6\": 9.01},\n",
    "    \"b\": {\"1\": \"Not number\", \"2\": \"A number\", \"3\": \"A null\",\n",
    "    \"4\": \"Santiago\", \"5\": \"\"}}'''\n",
    "\n",
    "pd.read_json(json_data).sort_index()\n"
   ]
  },
  {
   "cell_type": "code",
   "execution_count": 59,
   "id": "39baa21b-d8fc-4cd5-a6ae-ca8201f09ac9",
   "metadata": {},
   "outputs": [
    {
     "name": "stdout",
     "output_type": "stream",
     "text": [
      "Row 1, Col a: Not a Number\n",
      "Row 3, Col a: Missing\n",
      "Row 5, Col b: Empty value ''\n",
      "Row 6, Col b: Missing\n"
     ]
    }
   ],
   "source": [
    "data = json.loads(json_data)\n",
    "rows = {row for dct in data.values()\n",
    "            for row in dct.keys()}\n",
    "\n",
    "for row in sorted(rows):\n",
    "    for col in data.keys():\n",
    "        val = data[col].get(row)\n",
    "        if val is None:\n",
    "            print(f\"Row {row}, Col {col}: Missing\")\n",
    "        elif isinstance(val, float) and math.isnan(val):\n",
    "            print(f\"Row {row}, Col {col}: Not a Number\")\n",
    "        elif not val:\n",
    "            print(f\"Row {row}, Col {col}: Empty value {repr(val)}\")"
   ]
  },
  {
   "cell_type": "markdown",
   "id": "51e545d5-de2a-407b-9200-8aedab4eb304",
   "metadata": {},
   "source": [
    "### Sentinels "
   ]
  },
  {
   "cell_type": "code",
   "execution_count": 69,
   "id": "4483be89-048c-4642-9ee3-b078fb529fa5",
   "metadata": {},
   "outputs": [
    {
     "data": {
      "text/html": [
       "<div>\n",
       "<style scoped>\n",
       "    .dataframe tbody tr th:only-of-type {\n",
       "        vertical-align: middle;\n",
       "    }\n",
       "\n",
       "    .dataframe tbody tr th {\n",
       "        vertical-align: top;\n",
       "    }\n",
       "\n",
       "    .dataframe thead th {\n",
       "        text-align: right;\n",
       "    }\n",
       "</style>\n",
       "<table border=\"1\" class=\"dataframe\">\n",
       "  <thead>\n",
       "    <tr style=\"text-align: right;\">\n",
       "      <th></th>\n",
       "      <th>STATION</th>\n",
       "      <th>DATE</th>\n",
       "      <th>TEMP</th>\n",
       "      <th>VISIB</th>\n",
       "      <th>GUST</th>\n",
       "      <th>DEWP</th>\n",
       "    </tr>\n",
       "  </thead>\n",
       "  <tbody>\n",
       "    <tr>\n",
       "      <th>0</th>\n",
       "      <td>1001499999</td>\n",
       "      <td>2019-01-01</td>\n",
       "      <td>39.7</td>\n",
       "      <td>6.2</td>\n",
       "      <td>52.1</td>\n",
       "      <td>30.4</td>\n",
       "    </tr>\n",
       "    <tr>\n",
       "      <th>1</th>\n",
       "      <td>1001499999</td>\n",
       "      <td>2019-01-02</td>\n",
       "      <td>36.4</td>\n",
       "      <td>6.2</td>\n",
       "      <td>999.9</td>\n",
       "      <td>29.8</td>\n",
       "    </tr>\n",
       "    <tr>\n",
       "      <th>2</th>\n",
       "      <td>1001499999</td>\n",
       "      <td>2019-01-03</td>\n",
       "      <td>36.5</td>\n",
       "      <td>3.3</td>\n",
       "      <td>999.9</td>\n",
       "      <td>35.6</td>\n",
       "    </tr>\n",
       "    <tr>\n",
       "      <th>3</th>\n",
       "      <td>1001499999</td>\n",
       "      <td>UNKNOWN</td>\n",
       "      <td>45.6</td>\n",
       "      <td>2.2</td>\n",
       "      <td>22.0</td>\n",
       "      <td>44.8</td>\n",
       "    </tr>\n",
       "    <tr>\n",
       "      <th>...</th>\n",
       "      <td>...</td>\n",
       "      <td>...</td>\n",
       "      <td>...</td>\n",
       "      <td>...</td>\n",
       "      <td>...</td>\n",
       "      <td>...</td>\n",
       "    </tr>\n",
       "    <tr>\n",
       "      <th>295</th>\n",
       "      <td>1001499999</td>\n",
       "      <td>2019-12-17</td>\n",
       "      <td>40.5</td>\n",
       "      <td>6.2</td>\n",
       "      <td>999.9</td>\n",
       "      <td>39.2</td>\n",
       "    </tr>\n",
       "    <tr>\n",
       "      <th>296</th>\n",
       "      <td>1001499999</td>\n",
       "      <td>2019-12-18</td>\n",
       "      <td>38.8</td>\n",
       "      <td>6.2</td>\n",
       "      <td>999.9</td>\n",
       "      <td>38.2</td>\n",
       "    </tr>\n",
       "    <tr>\n",
       "      <th>297</th>\n",
       "      <td>1001499999</td>\n",
       "      <td>2019-12-19</td>\n",
       "      <td>45.5</td>\n",
       "      <td>6.1</td>\n",
       "      <td>999.9</td>\n",
       "      <td>42.7</td>\n",
       "    </tr>\n",
       "    <tr>\n",
       "      <th>298</th>\n",
       "      <td>1001499999</td>\n",
       "      <td>2019-12-20</td>\n",
       "      <td>51.8</td>\n",
       "      <td>6.2</td>\n",
       "      <td>35.0</td>\n",
       "      <td>41.2</td>\n",
       "    </tr>\n",
       "  </tbody>\n",
       "</table>\n",
       "<p>299 rows × 6 columns</p>\n",
       "</div>"
      ],
      "text/plain": [
       "        STATION        DATE  TEMP  VISIB   GUST  DEWP\n",
       "0    1001499999  2019-01-01  39.7    6.2   52.1  30.4\n",
       "1    1001499999  2019-01-02  36.4    6.2  999.9  29.8\n",
       "2    1001499999  2019-01-03  36.5    3.3  999.9  35.6\n",
       "3    1001499999     UNKNOWN  45.6    2.2   22.0  44.8\n",
       "..          ...         ...   ...    ...    ...   ...\n",
       "295  1001499999  2019-12-17  40.5    6.2  999.9  39.2\n",
       "296  1001499999  2019-12-18  38.8    6.2  999.9  38.2\n",
       "297  1001499999  2019-12-19  45.5    6.1  999.9  42.7\n",
       "298  1001499999  2019-12-20  51.8    6.2   35.0  41.2\n",
       "\n",
       "[299 rows x 6 columns]"
      ]
     },
     "execution_count": 69,
     "metadata": {},
     "output_type": "execute_result"
    }
   ],
   "source": [
    "sorstokken = pd.read_csv('data/sorstokken-no.csv.gz')\n",
    "sorstokken"
   ]
  },
  {
   "cell_type": "code",
   "execution_count": null,
   "id": "6773085a-0b2b-4fbb-b960-3ba81359919d",
   "metadata": {},
   "outputs": [],
   "source": [
    "pd.DataFrame([sorstokken.min(), sorstokken.max()])\n"
   ]
  },
  {
   "cell_type": "code",
   "execution_count": 67,
   "id": "e3a15d86-fa17-4014-bff5-9ebec3c375b9",
   "metadata": {},
   "outputs": [
    {
     "name": "stdout",
     "output_type": "stream",
     "text": [
      "Normal max:\n",
      "VISIB 6.8 ...standard deviation w/ & w/o sentinel: 254.4 / 0.7\n",
      "GUST 62.2 ...standard deviation w/ & w/o sentinel: 452.4 / 8.1\n"
     ]
    }
   ],
   "source": [
    "xprint(\"Normal max:\")\n",
    "for col in ['VISIB', 'GUST']:\n",
    "    s = sorstokken[col]\n",
    "    print(col, s[s < 999.9].max(),\n",
    "        \"...standard deviation w/ & w/o sentinel:\",\n",
    "        f\"{s.std():.1f} / {s[s < 999.9].std():.1f}\")"
   ]
  },
  {
   "cell_type": "code",
   "execution_count": 70,
   "id": "91166ff8-f81f-4975-aa46-9fca8dcafa5d",
   "metadata": {},
   "outputs": [
    {
     "data": {
      "text/html": [
       "<div>\n",
       "<style scoped>\n",
       "    .dataframe tbody tr th:only-of-type {\n",
       "        vertical-align: middle;\n",
       "    }\n",
       "\n",
       "    .dataframe tbody tr th {\n",
       "        vertical-align: top;\n",
       "    }\n",
       "\n",
       "    .dataframe thead th {\n",
       "        text-align: right;\n",
       "    }\n",
       "</style>\n",
       "<table border=\"1\" class=\"dataframe\">\n",
       "  <thead>\n",
       "    <tr style=\"text-align: right;\">\n",
       "      <th></th>\n",
       "      <th>STATION</th>\n",
       "      <th>DATE</th>\n",
       "      <th>TEMP</th>\n",
       "      <th>VISIB</th>\n",
       "      <th>GUST</th>\n",
       "      <th>DEWP</th>\n",
       "    </tr>\n",
       "  </thead>\n",
       "  <tbody>\n",
       "    <tr>\n",
       "      <th>0</th>\n",
       "      <td>1001499999</td>\n",
       "      <td>2019-01-01</td>\n",
       "      <td>39.7</td>\n",
       "      <td>6.2</td>\n",
       "      <td>52.1</td>\n",
       "      <td>30.4</td>\n",
       "    </tr>\n",
       "    <tr>\n",
       "      <th>1</th>\n",
       "      <td>1001499999</td>\n",
       "      <td>2019-01-02</td>\n",
       "      <td>36.4</td>\n",
       "      <td>6.2</td>\n",
       "      <td>NaN</td>\n",
       "      <td>29.8</td>\n",
       "    </tr>\n",
       "    <tr>\n",
       "      <th>2</th>\n",
       "      <td>1001499999</td>\n",
       "      <td>2019-01-03</td>\n",
       "      <td>36.5</td>\n",
       "      <td>3.3</td>\n",
       "      <td>NaN</td>\n",
       "      <td>35.6</td>\n",
       "    </tr>\n",
       "    <tr>\n",
       "      <th>3</th>\n",
       "      <td>1001499999</td>\n",
       "      <td>NaT</td>\n",
       "      <td>45.6</td>\n",
       "      <td>2.2</td>\n",
       "      <td>22.0</td>\n",
       "      <td>44.8</td>\n",
       "    </tr>\n",
       "    <tr>\n",
       "      <th>4</th>\n",
       "      <td>1001499999</td>\n",
       "      <td>2019-01-06</td>\n",
       "      <td>42.5</td>\n",
       "      <td>1.9</td>\n",
       "      <td>NaN</td>\n",
       "      <td>42.5</td>\n",
       "    </tr>\n",
       "  </tbody>\n",
       "</table>\n",
       "</div>"
      ],
      "text/plain": [
       "      STATION       DATE  TEMP  VISIB  GUST  DEWP\n",
       "0  1001499999 2019-01-01  39.7    6.2  52.1  30.4\n",
       "1  1001499999 2019-01-02  36.4    6.2   NaN  29.8\n",
       "2  1001499999 2019-01-03  36.5    3.3   NaN  35.6\n",
       "3  1001499999        NaT  45.6    2.2  22.0  44.8\n",
       "4  1001499999 2019-01-06  42.5    1.9   NaN  42.5"
      ]
     },
     "execution_count": 70,
     "metadata": {},
     "output_type": "execute_result"
    }
   ],
   "source": [
    "sorstokken = pd.read_csv('data/sorstokken-no.csv.gz',\n",
    "na_values={'DATE': 'UNKNOWN',\n",
    "'VISIB': '999.9',\n",
    "'GUST': '999.9'},\n",
    "parse_dates=['DATE'])\n",
    "sorstokken.head()"
   ]
  },
  {
   "cell_type": "markdown",
   "id": "eba387b0-307b-451e-bc35-726f77693636",
   "metadata": {},
   "source": [
    "### Miscoded data "
   ]
  },
  {
   "cell_type": "code",
   "execution_count": 73,
   "id": "13518369-366d-47d9-8175-314cba66fbbc",
   "metadata": {},
   "outputs": [
    {
     "data": {
      "text/html": [
       "<div>\n",
       "<style scoped>\n",
       "    .dataframe tbody tr th:only-of-type {\n",
       "        vertical-align: middle;\n",
       "    }\n",
       "\n",
       "    .dataframe tbody tr th {\n",
       "        vertical-align: top;\n",
       "    }\n",
       "\n",
       "    .dataframe thead th {\n",
       "        text-align: right;\n",
       "    }\n",
       "</style>\n",
       "<table border=\"1\" class=\"dataframe\">\n",
       "  <thead>\n",
       "    <tr style=\"text-align: right;\">\n",
       "      <th></th>\n",
       "      <th>min</th>\n",
       "      <th>max</th>\n",
       "      <th>dtypes</th>\n",
       "    </tr>\n",
       "  </thead>\n",
       "  <tbody>\n",
       "    <tr>\n",
       "      <th>0</th>\n",
       "      <td>&lt;bound method DataFrame.min of      erythema  ...</td>\n",
       "      <td>&lt;bound method DataFrame.max of      erythema  ...</td>\n",
       "      <td>erythema                                 int64...</td>\n",
       "    </tr>\n",
       "  </tbody>\n",
       "</table>\n",
       "</div>"
      ],
      "text/plain": [
       "                                                 min  \\\n",
       "0  <bound method DataFrame.min of      erythema  ...   \n",
       "\n",
       "                                                 max  \\\n",
       "0  <bound method DataFrame.max of      erythema  ...   \n",
       "\n",
       "                                              dtypes  \n",
       "0  erythema                                 int64...  "
      ]
     },
     "execution_count": 73,
     "metadata": {},
     "output_type": "execute_result"
    }
   ],
   "source": [
    "# PROBLEM WITH URI SSQL\n",
    "\n",
    "from src.dermatology import * \n",
    "(pd.DataFrame(\n",
    "    [derm.min, derm.max, derm.dtypes])\n",
    "    .T\n",
    "    .rename(columns={0 : \"min\", 1 : \"max\", 2 : \"dtypes\"})\n",
    ")"
   ]
  },
  {
   "cell_type": "code",
   "execution_count": 89,
   "id": "c5ed1f56-fc80-45c8-a346-ab4ed3fb5809",
   "metadata": {},
   "outputs": [
    {
     "data": {
      "text/html": [
       "<div>\n",
       "<style scoped>\n",
       "    .dataframe tbody tr th:only-of-type {\n",
       "        vertical-align: middle;\n",
       "    }\n",
       "\n",
       "    .dataframe tbody tr th {\n",
       "        vertical-align: top;\n",
       "    }\n",
       "\n",
       "    .dataframe thead th {\n",
       "        text-align: right;\n",
       "    }\n",
       "</style>\n",
       "<table border=\"1\" class=\"dataframe\">\n",
       "  <thead>\n",
       "    <tr style=\"text-align: right;\">\n",
       "      <th></th>\n",
       "      <th>Height</th>\n",
       "      <th>Weight</th>\n",
       "      <th>Hair_Length</th>\n",
       "      <th>Favorite</th>\n",
       "    </tr>\n",
       "  </thead>\n",
       "  <tbody>\n",
       "    <tr>\n",
       "      <th>21492</th>\n",
       "      <td>176.958650</td>\n",
       "      <td>72.604585</td>\n",
       "      <td>14.0</td>\n",
       "      <td>red</td>\n",
       "    </tr>\n",
       "    <tr>\n",
       "      <th>9488</th>\n",
       "      <td>169.000221</td>\n",
       "      <td>79.559843</td>\n",
       "      <td>0.0</td>\n",
       "      <td>blue</td>\n",
       "    </tr>\n",
       "    <tr>\n",
       "      <th>16933</th>\n",
       "      <td>171.104306</td>\n",
       "      <td>71.125528</td>\n",
       "      <td>5.5</td>\n",
       "      <td>red</td>\n",
       "    </tr>\n",
       "    <tr>\n",
       "      <th>12604</th>\n",
       "      <td>174.481084</td>\n",
       "      <td>79.496237</td>\n",
       "      <td>8.1</td>\n",
       "      <td>blue</td>\n",
       "    </tr>\n",
       "    <tr>\n",
       "      <th>...</th>\n",
       "      <td>...</td>\n",
       "      <td>...</td>\n",
       "      <td>...</td>\n",
       "      <td>...</td>\n",
       "    </tr>\n",
       "    <tr>\n",
       "      <th>16891</th>\n",
       "      <td>161.082025</td>\n",
       "      <td>66.870001</td>\n",
       "      <td>2.2</td>\n",
       "      <td>green</td>\n",
       "    </tr>\n",
       "    <tr>\n",
       "      <th>23292</th>\n",
       "      <td>167.611476</td>\n",
       "      <td>69.205187</td>\n",
       "      <td>51.6</td>\n",
       "      <td>red</td>\n",
       "    </tr>\n",
       "    <tr>\n",
       "      <th>10704</th>\n",
       "      <td>174.933381</td>\n",
       "      <td>81.193297</td>\n",
       "      <td>17.0</td>\n",
       "      <td>blue</td>\n",
       "    </tr>\n",
       "    <tr>\n",
       "      <th>5146</th>\n",
       "      <td>175.966272</td>\n",
       "      <td>84.100250</td>\n",
       "      <td>61.9</td>\n",
       "      <td>blue</td>\n",
       "    </tr>\n",
       "  </tbody>\n",
       "</table>\n",
       "<p>100 rows × 4 columns</p>\n",
       "</div>"
      ],
      "text/plain": [
       "           Height     Weight  Hair_Length Favorite\n",
       "21492  176.958650  72.604585         14.0      red\n",
       "9488   169.000221  79.559843          0.0     blue\n",
       "16933  171.104306  71.125528          5.5      red\n",
       "12604  174.481084  79.496237          8.1     blue\n",
       "...           ...        ...          ...      ...\n",
       "16891  161.082025  66.870001          2.2    green\n",
       "23292  167.611476  69.205187         51.6      red\n",
       "10704  174.933381  81.193297         17.0     blue\n",
       "5146   175.966272  84.100250         61.9     blue\n",
       "\n",
       "[100 rows x 4 columns]"
      ]
     },
     "execution_count": 89,
     "metadata": {},
     "output_type": "execute_result"
    }
   ],
   "source": [
    "humans = pd.read_csv('data/humans-err.csv')\n",
    "# random_state for deterministic sample\n",
    "humans.sample(100, random_state=1)"
   ]
  },
  {
   "cell_type": "code",
   "execution_count": 76,
   "id": "42af7831-62f7-492d-af62-2fef396c7741",
   "metadata": {},
   "outputs": [
    {
     "data": {
      "text/plain": [
       "array(['red', 'green', 'blue', 'Red', ' red', 'grееn', 'blüe',\n",
       "       'chartreuse'], dtype=object)"
      ]
     },
     "execution_count": 76,
     "metadata": {},
     "output_type": "execute_result"
    }
   ],
   "source": [
    "humans.Favorite.unique()"
   ]
  },
  {
   "cell_type": "code",
   "execution_count": 77,
   "id": "6b63c8f0-6419-4439-84c5-3e9d9272df73",
   "metadata": {},
   "outputs": [
    {
     "data": {
      "text/plain": [
       "Favorite\n",
       "red           9576\n",
       "blue          7961\n",
       "green         7458\n",
       "Red              1\n",
       " red             1\n",
       "grееn            1\n",
       "blüe             1\n",
       "chartreuse       1\n",
       "Name: count, dtype: int64"
      ]
     },
     "execution_count": 77,
     "metadata": {},
     "output_type": "execute_result"
    }
   ],
   "source": [
    "# Getting the intention of the data \n",
    "\n",
    "humans.Favorite.value_counts()"
   ]
  },
  {
   "cell_type": "code",
   "execution_count": 79,
   "id": "c2f1d5d3-36b7-4f49-a9ac-00c0ee386851",
   "metadata": {},
   "outputs": [
    {
     "name": "stdout",
     "output_type": "stream",
     "text": [
      "       red [32, 114, 101, 100]\n",
      "       Red [82, 101, 100]\n",
      "      blue [98, 108, 117, 101]\n",
      "      blüe [98, 108, 252, 101]\n",
      "chartreuse [99, 104, 97, 114, 116, 114, 101, 117, 115, 101]\n",
      "     green [103, 114, 101, 101, 110]\n",
      "     grееn [103, 114, 1077, 1077, 110]\n",
      "       red [114, 101, 100]\n"
     ]
    }
   ],
   "source": [
    "for color in sorted(humans.Favorite.unique()):\n",
    "    print(f\"{color:>10s}\", [ord(c) for c in color])"
   ]
  },
  {
   "cell_type": "code",
   "execution_count": 87,
   "id": "add669ce-6e3e-4eb4-b2e6-c206ae7d34cc",
   "metadata": {},
   "outputs": [
    {
     "data": {
      "text/html": [
       "<div>\n",
       "<style scoped>\n",
       "    .dataframe tbody tr th:only-of-type {\n",
       "        vertical-align: middle;\n",
       "    }\n",
       "\n",
       "    .dataframe tbody tr th {\n",
       "        vertical-align: top;\n",
       "    }\n",
       "\n",
       "    .dataframe thead th {\n",
       "        text-align: right;\n",
       "    }\n",
       "</style>\n",
       "<table border=\"1\" class=\"dataframe\">\n",
       "  <thead>\n",
       "    <tr style=\"text-align: right;\">\n",
       "      <th></th>\n",
       "      <th>Height</th>\n",
       "      <th>Weight</th>\n",
       "      <th>Hair_Length</th>\n",
       "      <th>Favorite</th>\n",
       "    </tr>\n",
       "  </thead>\n",
       "  <tbody>\n",
       "    <tr>\n",
       "      <th>0</th>\n",
       "      <td>167.089607</td>\n",
       "      <td>64.806216</td>\n",
       "      <td>71.1</td>\n",
       "      <td>red</td>\n",
       "    </tr>\n",
       "    <tr>\n",
       "      <th>1</th>\n",
       "      <td>181.648633</td>\n",
       "      <td>78.281527</td>\n",
       "      <td>18.5</td>\n",
       "      <td>red</td>\n",
       "    </tr>\n",
       "    <tr>\n",
       "      <th>2</th>\n",
       "      <td>176.272800</td>\n",
       "      <td>87.767722</td>\n",
       "      <td>77.1</td>\n",
       "      <td>green</td>\n",
       "    </tr>\n",
       "    <tr>\n",
       "      <th>3</th>\n",
       "      <td>173.270164</td>\n",
       "      <td>81.635672</td>\n",
       "      <td>97.2</td>\n",
       "      <td>green</td>\n",
       "    </tr>\n",
       "    <tr>\n",
       "      <th>...</th>\n",
       "      <td>...</td>\n",
       "      <td>...</td>\n",
       "      <td>...</td>\n",
       "      <td>...</td>\n",
       "    </tr>\n",
       "    <tr>\n",
       "      <th>24996</th>\n",
       "      <td>163.952580</td>\n",
       "      <td>68.936137</td>\n",
       "      <td>11.7</td>\n",
       "      <td>blue</td>\n",
       "    </tr>\n",
       "    <tr>\n",
       "      <th>24997</th>\n",
       "      <td>164.334317</td>\n",
       "      <td>67.830516</td>\n",
       "      <td>22.7</td>\n",
       "      <td>green</td>\n",
       "    </tr>\n",
       "    <tr>\n",
       "      <th>24998</th>\n",
       "      <td>171.524117</td>\n",
       "      <td>75.861686</td>\n",
       "      <td>8.8</td>\n",
       "      <td>blue</td>\n",
       "    </tr>\n",
       "    <tr>\n",
       "      <th>24999</th>\n",
       "      <td>174.949129</td>\n",
       "      <td>71.620899</td>\n",
       "      <td>78.5</td>\n",
       "      <td>green</td>\n",
       "    </tr>\n",
       "  </tbody>\n",
       "</table>\n",
       "<p>25000 rows × 4 columns</p>\n",
       "</div>"
      ],
      "text/plain": [
       "           Height     Weight  Hair_Length Favorite\n",
       "0      167.089607  64.806216         71.1      red\n",
       "1      181.648633  78.281527         18.5      red\n",
       "2      176.272800  87.767722         77.1    green\n",
       "3      173.270164  81.635672         97.2    green\n",
       "...           ...        ...          ...      ...\n",
       "24996  163.952580  68.936137         11.7     blue\n",
       "24997  164.334317  67.830516         22.7    green\n",
       "24998  171.524117  75.861686          8.8     blue\n",
       "24999  174.949129  71.620899         78.5    green\n",
       "\n",
       "[25000 rows x 4 columns]"
      ]
     },
     "execution_count": 87,
     "metadata": {},
     "output_type": "execute_result"
    }
   ],
   "source": [
    "# Translating troublesome values \n",
    "\n",
    "humans.loc[humans.Favorite.isin([\"Red\", \"red\"]), \"Favorite\"] = 'red'\n",
    "humans.loc[humans.Favorite == 'Chartreuse' , \"Favorite\"] = 'Chartreuse'\n",
    "humans.loc[humans.Favorite == 'blüe', 'Favorite'] = 'blue'\n",
    "humans.loc[humans.Favorite == 'green', 'Favorite'] = 'green'\n",
    "humans"
   ]
  },
  {
   "cell_type": "code",
   "execution_count": 96,
   "id": "bcda0cf2-1098-4d56-abe3-6e1771d525a1",
   "metadata": {},
   "outputs": [
    {
     "data": {
      "text/plain": [
       "False"
      ]
     },
     "execution_count": 96,
     "metadata": {},
     "output_type": "execute_result"
    }
   ],
   "source": [
    "# Limiting \n",
    "\n",
    "((humans.Height< 93) | (humans.Height > 213)).any() "
   ]
  },
  {
   "cell_type": "code",
   "execution_count": 99,
   "id": "12132ca7-c486-4528-9576-e11b0eafcca5",
   "metadata": {},
   "outputs": [
    {
     "data": {
      "text/plain": [
       "False"
      ]
     },
     "execution_count": 99,
     "metadata": {},
     "output_type": "execute_result"
    }
   ],
   "source": [
    "((humans.Height < 93) | (humans.Height > 213)).any()"
   ]
  },
  {
   "cell_type": "code",
   "execution_count": 104,
   "id": "cf03bc90-908d-4184-8d5e-591adfda354a",
   "metadata": {},
   "outputs": [
    {
     "data": {
      "text/html": [
       "<div>\n",
       "<style scoped>\n",
       "    .dataframe tbody tr th:only-of-type {\n",
       "        vertical-align: middle;\n",
       "    }\n",
       "\n",
       "    .dataframe tbody tr th {\n",
       "        vertical-align: top;\n",
       "    }\n",
       "\n",
       "    .dataframe thead th {\n",
       "        text-align: right;\n",
       "    }\n",
       "</style>\n",
       "<table border=\"1\" class=\"dataframe\">\n",
       "  <thead>\n",
       "    <tr style=\"text-align: right;\">\n",
       "      <th></th>\n",
       "      <th>Height</th>\n",
       "      <th>Weight</th>\n",
       "      <th>Hair_Length</th>\n",
       "      <th>Favorite</th>\n",
       "    </tr>\n",
       "  </thead>\n",
       "  <tbody>\n",
       "    <tr>\n",
       "      <th>1984</th>\n",
       "      <td>165.634695</td>\n",
       "      <td>62.979993</td>\n",
       "      <td>127.0</td>\n",
       "      <td>red</td>\n",
       "    </tr>\n",
       "    <tr>\n",
       "      <th>8929</th>\n",
       "      <td>175.186061</td>\n",
       "      <td>73.899992</td>\n",
       "      <td>120.6</td>\n",
       "      <td>blue</td>\n",
       "    </tr>\n",
       "    <tr>\n",
       "      <th>14673</th>\n",
       "      <td>174.948037</td>\n",
       "      <td>77.644434</td>\n",
       "      <td>130.1</td>\n",
       "      <td>blue</td>\n",
       "    </tr>\n",
       "    <tr>\n",
       "      <th>14735</th>\n",
       "      <td>176.385525</td>\n",
       "      <td>68.735397</td>\n",
       "      <td>121.7</td>\n",
       "      <td>green</td>\n",
       "    </tr>\n",
       "    <tr>\n",
       "      <th>16672</th>\n",
       "      <td>173.172298</td>\n",
       "      <td>71.814699</td>\n",
       "      <td>121.4</td>\n",
       "      <td>red</td>\n",
       "    </tr>\n",
       "    <tr>\n",
       "      <th>17093</th>\n",
       "      <td>169.771111</td>\n",
       "      <td>77.958278</td>\n",
       "      <td>133.2</td>\n",
       "      <td>blue</td>\n",
       "    </tr>\n",
       "  </tbody>\n",
       "</table>\n",
       "</div>"
      ],
      "text/plain": [
       "           Height     Weight  Hair_Length Favorite\n",
       "1984   165.634695  62.979993        127.0      red\n",
       "8929   175.186061  73.899992        120.6     blue\n",
       "14673  174.948037  77.644434        130.1     blue\n",
       "14735  176.385525  68.735397        121.7    green\n",
       "16672  173.172298  71.814699        121.4      red\n",
       "17093  169.771111  77.958278        133.2     blue"
      ]
     },
     "execution_count": 104,
     "metadata": {},
     "output_type": "execute_result"
    }
   ],
   "source": [
    "humans.query(\"Hair_Length > 120\")"
   ]
  },
  {
   "cell_type": "code",
   "execution_count": 108,
   "id": "5de64ded-1775-4584-80a7-a5665077d264",
   "metadata": {},
   "outputs": [
    {
     "data": {
      "text/html": [
       "<div>\n",
       "<style scoped>\n",
       "    .dataframe tbody tr th:only-of-type {\n",
       "        vertical-align: middle;\n",
       "    }\n",
       "\n",
       "    .dataframe tbody tr th {\n",
       "        vertical-align: top;\n",
       "    }\n",
       "\n",
       "    .dataframe thead th {\n",
       "        text-align: right;\n",
       "    }\n",
       "</style>\n",
       "<table border=\"1\" class=\"dataframe\">\n",
       "  <thead>\n",
       "    <tr style=\"text-align: right;\">\n",
       "      <th></th>\n",
       "      <th>Height</th>\n",
       "      <th>Weight</th>\n",
       "      <th>Hair_Length</th>\n",
       "      <th>Favorite</th>\n",
       "      <th>Hair_length</th>\n",
       "    </tr>\n",
       "  </thead>\n",
       "  <tbody>\n",
       "    <tr>\n",
       "      <th>1984</th>\n",
       "      <td>165.634695</td>\n",
       "      <td>62.979993</td>\n",
       "      <td>127.0</td>\n",
       "      <td>red</td>\n",
       "      <td>120.0</td>\n",
       "    </tr>\n",
       "    <tr>\n",
       "      <th>4146</th>\n",
       "      <td>173.930107</td>\n",
       "      <td>72.701456</td>\n",
       "      <td>119.6</td>\n",
       "      <td>red</td>\n",
       "      <td>119.6</td>\n",
       "    </tr>\n",
       "    <tr>\n",
       "      <th>8929</th>\n",
       "      <td>175.186061</td>\n",
       "      <td>73.899992</td>\n",
       "      <td>120.6</td>\n",
       "      <td>blue</td>\n",
       "      <td>120.0</td>\n",
       "    </tr>\n",
       "    <tr>\n",
       "      <th>9259</th>\n",
       "      <td>179.215974</td>\n",
       "      <td>82.538890</td>\n",
       "      <td>119.4</td>\n",
       "      <td>green</td>\n",
       "      <td>119.4</td>\n",
       "    </tr>\n",
       "    <tr>\n",
       "      <th>14673</th>\n",
       "      <td>174.948037</td>\n",
       "      <td>77.644434</td>\n",
       "      <td>130.1</td>\n",
       "      <td>blue</td>\n",
       "      <td>120.0</td>\n",
       "    </tr>\n",
       "    <tr>\n",
       "      <th>14735</th>\n",
       "      <td>176.385525</td>\n",
       "      <td>68.735397</td>\n",
       "      <td>121.7</td>\n",
       "      <td>green</td>\n",
       "      <td>120.0</td>\n",
       "    </tr>\n",
       "    <tr>\n",
       "      <th>16672</th>\n",
       "      <td>173.172298</td>\n",
       "      <td>71.814699</td>\n",
       "      <td>121.4</td>\n",
       "      <td>red</td>\n",
       "      <td>120.0</td>\n",
       "    </tr>\n",
       "    <tr>\n",
       "      <th>17093</th>\n",
       "      <td>169.771111</td>\n",
       "      <td>77.958278</td>\n",
       "      <td>133.2</td>\n",
       "      <td>blue</td>\n",
       "      <td>120.0</td>\n",
       "    </tr>\n",
       "  </tbody>\n",
       "</table>\n",
       "</div>"
      ],
      "text/plain": [
       "           Height     Weight  Hair_Length Favorite  Hair_length\n",
       "1984   165.634695  62.979993        127.0      red        120.0\n",
       "4146   173.930107  72.701456        119.6      red        119.6\n",
       "8929   175.186061  73.899992        120.6     blue        120.0\n",
       "9259   179.215974  82.538890        119.4    green        119.4\n",
       "14673  174.948037  77.644434        130.1     blue        120.0\n",
       "14735  176.385525  68.735397        121.7    green        120.0\n",
       "16672  173.172298  71.814699        121.4      red        120.0\n",
       "17093  169.771111  77.958278        133.2     blue        120.0"
      ]
     },
     "execution_count": 108,
     "metadata": {},
     "output_type": "execute_result"
    }
   ],
   "source": [
    "humans2 = humans.copy()\n",
    "humans2[\"Hair_length\"] = humans.Hair_Length.clip(upper=120)\n",
    "humans2[humans2.Hair_Length > 119] "
   ]
  },
  {
   "cell_type": "code",
   "execution_count": 111,
   "id": "c11e149e-36d4-46ad-9f34-8574c4a4188f",
   "metadata": {},
   "outputs": [
    {
     "data": {
      "text/html": [
       "<div>\n",
       "<style scoped>\n",
       "    .dataframe tbody tr th:only-of-type {\n",
       "        vertical-align: middle;\n",
       "    }\n",
       "\n",
       "    .dataframe tbody tr th {\n",
       "        vertical-align: top;\n",
       "    }\n",
       "\n",
       "    .dataframe thead th {\n",
       "        text-align: right;\n",
       "    }\n",
       "</style>\n",
       "<table border=\"1\" class=\"dataframe\">\n",
       "  <thead>\n",
       "    <tr style=\"text-align: right;\">\n",
       "      <th></th>\n",
       "      <th>Height</th>\n",
       "      <th>Weight</th>\n",
       "      <th>Hair_Length</th>\n",
       "      <th>Favorite</th>\n",
       "      <th>Hair_length</th>\n",
       "    </tr>\n",
       "  </thead>\n",
       "  <tbody>\n",
       "    <tr>\n",
       "      <th>6</th>\n",
       "      <td>177.297182</td>\n",
       "      <td>81.153493</td>\n",
       "      <td>0.0</td>\n",
       "      <td>blue</td>\n",
       "      <td>0.0</td>\n",
       "    </tr>\n",
       "    <tr>\n",
       "      <th>217</th>\n",
       "      <td>171.893967</td>\n",
       "      <td>68.553526</td>\n",
       "      <td>0.0</td>\n",
       "      <td>blue</td>\n",
       "      <td>0.0</td>\n",
       "    </tr>\n",
       "    <tr>\n",
       "      <th>240</th>\n",
       "      <td>161.862237</td>\n",
       "      <td>76.914599</td>\n",
       "      <td>0.0</td>\n",
       "      <td>blue</td>\n",
       "      <td>0.0</td>\n",
       "    </tr>\n",
       "    <tr>\n",
       "      <th>354</th>\n",
       "      <td>172.972247</td>\n",
       "      <td>73.175032</td>\n",
       "      <td>0.0</td>\n",
       "      <td>red</td>\n",
       "      <td>0.0</td>\n",
       "    </tr>\n",
       "    <tr>\n",
       "      <th>...</th>\n",
       "      <td>...</td>\n",
       "      <td>...</td>\n",
       "      <td>...</td>\n",
       "      <td>...</td>\n",
       "      <td>...</td>\n",
       "    </tr>\n",
       "    <tr>\n",
       "      <th>24834</th>\n",
       "      <td>170.991301</td>\n",
       "      <td>67.652660</td>\n",
       "      <td>0.0</td>\n",
       "      <td>green</td>\n",
       "      <td>0.0</td>\n",
       "    </tr>\n",
       "    <tr>\n",
       "      <th>24892</th>\n",
       "      <td>177.002643</td>\n",
       "      <td>77.286141</td>\n",
       "      <td>0.0</td>\n",
       "      <td>green</td>\n",
       "      <td>0.0</td>\n",
       "    </tr>\n",
       "    <tr>\n",
       "      <th>24919</th>\n",
       "      <td>169.012286</td>\n",
       "      <td>74.593809</td>\n",
       "      <td>0.0</td>\n",
       "      <td>blue</td>\n",
       "      <td>0.0</td>\n",
       "    </tr>\n",
       "    <tr>\n",
       "      <th>24967</th>\n",
       "      <td>169.061308</td>\n",
       "      <td>65.985481</td>\n",
       "      <td>0.0</td>\n",
       "      <td>green</td>\n",
       "      <td>0.0</td>\n",
       "    </tr>\n",
       "  </tbody>\n",
       "</table>\n",
       "<p>517 rows × 5 columns</p>\n",
       "</div>"
      ],
      "text/plain": [
       "           Height     Weight  Hair_Length Favorite  Hair_length\n",
       "6      177.297182  81.153493          0.0     blue          0.0\n",
       "217    171.893967  68.553526          0.0     blue          0.0\n",
       "240    161.862237  76.914599          0.0     blue          0.0\n",
       "354    172.972247  73.175032          0.0      red          0.0\n",
       "...           ...        ...          ...      ...          ...\n",
       "24834  170.991301  67.652660          0.0    green          0.0\n",
       "24892  177.002643  77.286141          0.0    green          0.0\n",
       "24919  169.012286  74.593809          0.0     blue          0.0\n",
       "24967  169.061308  65.985481          0.0    green          0.0\n",
       "\n",
       "[517 rows x 5 columns]"
      ]
     },
     "execution_count": 111,
     "metadata": {},
     "output_type": "execute_result"
    }
   ],
   "source": [
    "humans2[humans2.Hair_Length == 0]"
   ]
  },
  {
   "cell_type": "code",
   "execution_count": 113,
   "id": "a2f38be6-0170-4ff8-ad91-7c6b6b085e13",
   "metadata": {},
   "outputs": [
    {
     "data": {
      "text/html": [
       "<div>\n",
       "<style scoped>\n",
       "    .dataframe tbody tr th:only-of-type {\n",
       "        vertical-align: middle;\n",
       "    }\n",
       "\n",
       "    .dataframe tbody tr th {\n",
       "        vertical-align: top;\n",
       "    }\n",
       "\n",
       "    .dataframe thead th {\n",
       "        text-align: right;\n",
       "    }\n",
       "</style>\n",
       "<table border=\"1\" class=\"dataframe\">\n",
       "  <thead>\n",
       "    <tr style=\"text-align: right;\">\n",
       "      <th></th>\n",
       "      <th>Height</th>\n",
       "      <th>Weight</th>\n",
       "      <th>Hair_Length</th>\n",
       "      <th>Favorite</th>\n",
       "      <th>Hair_length</th>\n",
       "    </tr>\n",
       "  </thead>\n",
       "  <tbody>\n",
       "    <tr>\n",
       "      <th>493</th>\n",
       "      <td>167.703398</td>\n",
       "      <td>72.567763</td>\n",
       "      <td>-1.0</td>\n",
       "      <td>blue</td>\n",
       "      <td>-1.0</td>\n",
       "    </tr>\n",
       "    <tr>\n",
       "      <th>528</th>\n",
       "      <td>167.355393</td>\n",
       "      <td>60.276190</td>\n",
       "      <td>-20.7</td>\n",
       "      <td>green</td>\n",
       "      <td>-20.7</td>\n",
       "    </tr>\n",
       "    <tr>\n",
       "      <th>562</th>\n",
       "      <td>172.416114</td>\n",
       "      <td>60.867457</td>\n",
       "      <td>-68.1</td>\n",
       "      <td>green</td>\n",
       "      <td>-68.1</td>\n",
       "    </tr>\n",
       "    <tr>\n",
       "      <th>569</th>\n",
       "      <td>177.644146</td>\n",
       "      <td>74.027147</td>\n",
       "      <td>-5.9</td>\n",
       "      <td>green</td>\n",
       "      <td>-5.9</td>\n",
       "    </tr>\n",
       "    <tr>\n",
       "      <th>...</th>\n",
       "      <td>...</td>\n",
       "      <td>...</td>\n",
       "      <td>...</td>\n",
       "      <td>...</td>\n",
       "      <td>...</td>\n",
       "    </tr>\n",
       "    <tr>\n",
       "      <th>24055</th>\n",
       "      <td>172.831608</td>\n",
       "      <td>74.096660</td>\n",
       "      <td>-13.3</td>\n",
       "      <td>red</td>\n",
       "      <td>-13.3</td>\n",
       "    </tr>\n",
       "    <tr>\n",
       "      <th>24063</th>\n",
       "      <td>172.687488</td>\n",
       "      <td>69.466838</td>\n",
       "      <td>-14.2</td>\n",
       "      <td>green</td>\n",
       "      <td>-14.2</td>\n",
       "    </tr>\n",
       "    <tr>\n",
       "      <th>24386</th>\n",
       "      <td>176.668430</td>\n",
       "      <td>62.984811</td>\n",
       "      <td>-1.0</td>\n",
       "      <td>green</td>\n",
       "      <td>-1.0</td>\n",
       "    </tr>\n",
       "    <tr>\n",
       "      <th>24944</th>\n",
       "      <td>172.300925</td>\n",
       "      <td>72.067862</td>\n",
       "      <td>-24.4</td>\n",
       "      <td>red</td>\n",
       "      <td>-24.4</td>\n",
       "    </tr>\n",
       "  </tbody>\n",
       "</table>\n",
       "<p>118 rows × 5 columns</p>\n",
       "</div>"
      ],
      "text/plain": [
       "           Height     Weight  Hair_Length Favorite  Hair_length\n",
       "493    167.703398  72.567763         -1.0     blue         -1.0\n",
       "528    167.355393  60.276190        -20.7    green        -20.7\n",
       "562    172.416114  60.867457        -68.1    green        -68.1\n",
       "569    177.644146  74.027147         -5.9    green         -5.9\n",
       "...           ...        ...          ...      ...          ...\n",
       "24055  172.831608  74.096660        -13.3      red        -13.3\n",
       "24063  172.687488  69.466838        -14.2    green        -14.2\n",
       "24386  176.668430  62.984811         -1.0    green         -1.0\n",
       "24944  172.300925  72.067862        -24.4      red        -24.4\n",
       "\n",
       "[118 rows x 5 columns]"
      ]
     },
     "execution_count": 113,
     "metadata": {},
     "output_type": "execute_result"
    }
   ],
   "source": [
    "# What About the infinite negatives ? \n",
    "\n",
    "neg_hair = humans2[humans2.Hair_Length < 0]\n",
    "neg_hair"
   ]
  },
  {
   "cell_type": "markdown",
   "id": "00f9517f-843b-4459-8aaf-9cd55ff4836d",
   "metadata": {},
   "source": [
    "Using R "
   ]
  },
  {
   "cell_type": "code",
   "execution_count": 117,
   "id": "450b2fcd-df08-439d-8000-f7c62bb327ec",
   "metadata": {},
   "outputs": [
    {
     "name": "stdout",
     "output_type": "stream",
     "text": [
      "   Min. 1st Qu.  Median    Mean 3rd Qu.    Max. \n",
      " -95.70  -38.08  -20.65  -24.35   -5.60   -0.70 \n"
     ]
    }
   ],
   "source": [
    "%%R -i neg_hair\n",
    "summary(neg_hair$Hair_Length)"
   ]
  },
  {
   "cell_type": "code",
   "execution_count": 118,
   "id": "e5a74a82-3dae-4c4f-8cd5-435936f47acd",
   "metadata": {},
   "outputs": [
    {
     "data": {
      "text/plain": [
       "count    118.000000\n",
       "mean     -24.348305\n",
       "std       22.484691\n",
       "min      -95.700000\n",
       "25%      -38.075000\n",
       "50%      -20.650000\n",
       "75%       -5.600000\n",
       "max       -0.700000\n",
       "Name: Hair_Length, dtype: float64"
      ]
     },
     "execution_count": 118,
     "metadata": {},
     "output_type": "execute_result"
    }
   ],
   "source": [
    "neg_hair.Hair_Length.describe()"
   ]
  },
  {
   "cell_type": "code",
   "execution_count": 119,
   "id": "a6beb95b-82aa-4d09-973d-288fdb8c0d2b",
   "metadata": {},
   "outputs": [
    {
     "data": {
      "image/png": "[encoded data removed]",
      "text/plain": [
       "<Figure size 640x480 with 1 Axes>"
      ]
     },
     "metadata": {},
     "output_type": "display_data"
    }
   ],
   "source": [
    "plt.hist(neg_hair.Hair_Length, bins=30)\n",
    "plt.title(\"Distribution of invalid negative hair length\");"
   ]
  },
  {
   "cell_type": "code",
   "execution_count": 120,
   "id": "90162e09-cb7c-435c-b1cb-9d02fde1a86f",
   "metadata": {},
   "outputs": [
    {
     "data": {
      "text/plain": [
       "Hair_Length\n",
       "-1.0     19\n",
       "-41.6     2\n",
       "-10.9     2\n",
       "-6.8      2\n",
       "         ..\n",
       "-25.1     1\n",
       "-13.5     1\n",
       "-42.2     1\n",
       "-24.4     1\n",
       "Name: count, Length: 93, dtype: int64"
      ]
     },
     "execution_count": 120,
     "metadata": {},
     "output_type": "execute_result"
    }
   ],
   "source": [
    "neg_hair.Hair_Length.value_counts()"
   ]
  },
  {
   "cell_type": "code",
   "execution_count": 123,
   "id": "4f21f054-964f-4d95-b2e9-ac2e86e23ec0",
   "metadata": {},
   "outputs": [
    {
     "data": {
      "text/plain": [
       "Text(0.5, 1.0, 'Distribution of correct hair length ')"
      ]
     },
     "execution_count": 123,
     "metadata": {},
     "output_type": "execute_result"
    },
    {
     "data": {
      "image/png": "[encoded data removed]",
      "text/plain": [
       "<Figure size 640x480 with 1 Axes>"
      ]
     },
     "metadata": {},
     "output_type": "display_data"
    }
   ],
   "source": [
    "humans3 = humans2.copy()\n",
    "humans3.loc[humans3.Hair_Length == -1, \"Hair_Length\"] = None\n",
    "humans3[\"Hair_Length\"] = humans3.Hair_Length.abs()\n",
    "\n",
    "plt.hist(humans3.Hair_Length, bins=30)\n",
    "plt.title(\"Distribution of correct hair length \")"
   ]
  },
  {
   "cell_type": "markdown",
   "id": "84965862-f9b6-4ca0-bb48-06e68b75f28d",
   "metadata": {},
   "source": [
    "### Z-score\n",
    "\n",
    "Problem : Calculate the Z-score \n"
   ]
  },
  {
   "cell_type": "code",
   "execution_count": 124,
   "id": "9f6ca9a6-5f5e-4b50-919f-35f428f4d619",
   "metadata": {},
   "outputs": [
    {
     "data": {
      "image/png": "[encoded data removed]",
      "text/plain": [
       "<Figure size 1200x400 with 2 Axes>"
      ]
     },
     "metadata": {},
     "output_type": "display_data"
    }
   ],
   "source": [
    "fig, (ax1, ax2) = plt.subplots(1, 2, figsize=(12, 4))\n",
    "ax1.hist(humans3.Height, bins=50)\n",
    "ax2.hist(humans3.Weight, bins=50)\n",
    "ax1.set_title(\"Distribution of Height\")\n",
    "ax2.set_title(\"Distribution of Weight\");"
   ]
  },
  {
   "cell_type": "markdown",
   "id": "d6ffd2e7-4c7a-4767-9d5a-dc5e198ed56b",
   "metadata": {},
   "source": [
    "If we wish to be more precise in quantifying the normality of variables, we can use\n",
    "statistical tests such and Anderson-Darling, Shapiro-Wilk, or Skewness-Kurtosis"
   ]
  },
  {
   "cell_type": "code",
   "execution_count": 138,
   "id": "da87b91d-7065-4f0b-8649-0e5a4ab23db3",
   "metadata": {},
   "outputs": [
    {
     "name": "stdout",
     "output_type": "stream",
     "text": [
      "Anderson statistic for : Height       :   0.24\n",
      "Anderson statistic for : Weight       :   0.54\n",
      "Anderson statistic for : Hair_Length  : 578.25\n"
     ]
    }
   ],
   "source": [
    "from scipy.stats import anderson \n",
    "\n",
    "for var in (\"Height\", \"Weight\", \"Hair_Length\"):\n",
    "    data = humans3[var][humans3[var].notnull()]\n",
    "    stat = anderson(data, 'norm').statistic\n",
    "    print(f\"Anderson statistic for : {var:<12s} : {stat:6.2f}\")"
   ]
  },
  {
   "cell_type": "code",
   "execution_count": 144,
   "id": "55b208a8-ef74-4582-b9a9-95784aaf8975",
   "metadata": {},
   "outputs": [
    {
     "data": {
      "text/html": [
       "<div>\n",
       "<style scoped>\n",
       "    .dataframe tbody tr th:only-of-type {\n",
       "        vertical-align: middle;\n",
       "    }\n",
       "\n",
       "    .dataframe tbody tr th {\n",
       "        vertical-align: top;\n",
       "    }\n",
       "\n",
       "    .dataframe thead th {\n",
       "        text-align: right;\n",
       "    }\n",
       "</style>\n",
       "<table border=\"1\" class=\"dataframe\">\n",
       "  <thead>\n",
       "    <tr style=\"text-align: right;\">\n",
       "      <th></th>\n",
       "      <th>Height</th>\n",
       "      <th>Weight</th>\n",
       "      <th>Hair_Length</th>\n",
       "      <th>Favorite</th>\n",
       "      <th>Hair_length</th>\n",
       "      <th>zscore_Height</th>\n",
       "      <th>zscore_Weight</th>\n",
       "      <th>zscore_Hair_Length</th>\n",
       "    </tr>\n",
       "  </thead>\n",
       "  <tbody>\n",
       "    <tr>\n",
       "      <th>21492</th>\n",
       "      <td>176.958650</td>\n",
       "      <td>72.604585</td>\n",
       "      <td>14.0</td>\n",
       "      <td>red</td>\n",
       "      <td>14.0</td>\n",
       "      <td>0.880831</td>\n",
       "      <td>-0.042032</td>\n",
       "      <td>-0.568682</td>\n",
       "    </tr>\n",
       "    <tr>\n",
       "      <th>9488</th>\n",
       "      <td>169.000221</td>\n",
       "      <td>79.559843</td>\n",
       "      <td>0.0</td>\n",
       "      <td>blue</td>\n",
       "      <td>0.0</td>\n",
       "      <td>-0.766210</td>\n",
       "      <td>0.997585</td>\n",
       "      <td>-1.224854</td>\n",
       "    </tr>\n",
       "    <tr>\n",
       "      <th>16933</th>\n",
       "      <td>171.104306</td>\n",
       "      <td>71.125528</td>\n",
       "      <td>5.5</td>\n",
       "      <td>red</td>\n",
       "      <td>5.5</td>\n",
       "      <td>-0.330758</td>\n",
       "      <td>-0.263109</td>\n",
       "      <td>-0.967072</td>\n",
       "    </tr>\n",
       "    <tr>\n",
       "      <th>12604</th>\n",
       "      <td>174.481084</td>\n",
       "      <td>79.496237</td>\n",
       "      <td>8.1</td>\n",
       "      <td>blue</td>\n",
       "      <td>8.1</td>\n",
       "      <td>0.368085</td>\n",
       "      <td>0.988078</td>\n",
       "      <td>-0.845211</td>\n",
       "    </tr>\n",
       "    <tr>\n",
       "      <th>8222</th>\n",
       "      <td>171.275578</td>\n",
       "      <td>77.094118</td>\n",
       "      <td>14.6</td>\n",
       "      <td>green</td>\n",
       "      <td>14.6</td>\n",
       "      <td>-0.295312</td>\n",
       "      <td>0.629028</td>\n",
       "      <td>-0.540560</td>\n",
       "    </tr>\n",
       "  </tbody>\n",
       "</table>\n",
       "</div>"
      ],
      "text/plain": [
       "           Height     Weight  Hair_Length Favorite  Hair_length  \\\n",
       "21492  176.958650  72.604585         14.0      red         14.0   \n",
       "9488   169.000221  79.559843          0.0     blue          0.0   \n",
       "16933  171.104306  71.125528          5.5      red          5.5   \n",
       "12604  174.481084  79.496237          8.1     blue          8.1   \n",
       "8222   171.275578  77.094118         14.6    green         14.6   \n",
       "\n",
       "       zscore_Height  zscore_Weight  zscore_Hair_Length  \n",
       "21492       0.880831      -0.042032           -0.568682  \n",
       "9488       -0.766210       0.997585           -1.224854  \n",
       "16933      -0.330758      -0.263109           -0.967072  \n",
       "12604       0.368085       0.988078           -0.845211  \n",
       "8222       -0.295312       0.629028           -0.540560  "
      ]
     },
     "execution_count": 144,
     "metadata": {},
     "output_type": "execute_result"
    }
   ],
   "source": [
    "humans4 = humans3.copy()\n",
    "\n",
    "for var in (\"Height\", \"Weight\", \"Hair_Length\"):\n",
    "    zscore = (humans4[var] - humans4[var].mean()) / humans4[var].std()\n",
    "    humans4[f\"zscore_{var}\"] = zscore\n",
    "\n",
    "humans4.sample(5, random_state=1)"
   ]
  },
  {
   "cell_type": "code",
   "execution_count": 147,
   "id": "c4a7fd0c-2094-4165-b7f4-feb9e29de4c9",
   "metadata": {},
   "outputs": [
    {
     "data": {
      "text/html": [
       "<div>\n",
       "<style scoped>\n",
       "    .dataframe tbody tr th:only-of-type {\n",
       "        vertical-align: middle;\n",
       "    }\n",
       "\n",
       "    .dataframe tbody tr th {\n",
       "        vertical-align: top;\n",
       "    }\n",
       "\n",
       "    .dataframe thead th {\n",
       "        text-align: right;\n",
       "    }\n",
       "</style>\n",
       "<table border=\"1\" class=\"dataframe\">\n",
       "  <thead>\n",
       "    <tr style=\"text-align: right;\">\n",
       "      <th></th>\n",
       "      <th>Height</th>\n",
       "      <th>Weight</th>\n",
       "      <th>Hair_Length</th>\n",
       "      <th>Favorite</th>\n",
       "      <th>Hair_length</th>\n",
       "      <th>zscore_Height</th>\n",
       "      <th>zscore_Weight</th>\n",
       "      <th>zscore_Hair_Length</th>\n",
       "    </tr>\n",
       "  </thead>\n",
       "  <tbody>\n",
       "    <tr>\n",
       "      <th>0</th>\n",
       "      <td>167.089607</td>\n",
       "      <td>64.806216</td>\n",
       "      <td>71.1</td>\n",
       "      <td>red</td>\n",
       "      <td>71.1</td>\n",
       "      <td>-1.161622</td>\n",
       "      <td>-1.207670</td>\n",
       "      <td>2.107563</td>\n",
       "    </tr>\n",
       "    <tr>\n",
       "      <th>1</th>\n",
       "      <td>181.648633</td>\n",
       "      <td>78.281527</td>\n",
       "      <td>18.5</td>\n",
       "      <td>red</td>\n",
       "      <td>18.5</td>\n",
       "      <td>1.851448</td>\n",
       "      <td>0.806513</td>\n",
       "      <td>-0.357769</td>\n",
       "    </tr>\n",
       "    <tr>\n",
       "      <th>2</th>\n",
       "      <td>176.272800</td>\n",
       "      <td>87.767722</td>\n",
       "      <td>77.1</td>\n",
       "      <td>green</td>\n",
       "      <td>77.1</td>\n",
       "      <td>0.738890</td>\n",
       "      <td>2.224434</td>\n",
       "      <td>2.388780</td>\n",
       "    </tr>\n",
       "    <tr>\n",
       "      <th>3</th>\n",
       "      <td>173.270164</td>\n",
       "      <td>81.635672</td>\n",
       "      <td>97.2</td>\n",
       "      <td>green</td>\n",
       "      <td>97.2</td>\n",
       "      <td>0.117478</td>\n",
       "      <td>1.307864</td>\n",
       "      <td>3.330856</td>\n",
       "    </tr>\n",
       "    <tr>\n",
       "      <th>...</th>\n",
       "      <td>...</td>\n",
       "      <td>...</td>\n",
       "      <td>...</td>\n",
       "      <td>...</td>\n",
       "      <td>...</td>\n",
       "      <td>...</td>\n",
       "      <td>...</td>\n",
       "      <td>...</td>\n",
       "    </tr>\n",
       "    <tr>\n",
       "      <th>24996</th>\n",
       "      <td>163.952580</td>\n",
       "      <td>68.936137</td>\n",
       "      <td>11.7</td>\n",
       "      <td>blue</td>\n",
       "      <td>11.7</td>\n",
       "      <td>-1.810847</td>\n",
       "      <td>-0.590362</td>\n",
       "      <td>-0.676481</td>\n",
       "    </tr>\n",
       "    <tr>\n",
       "      <th>24997</th>\n",
       "      <td>164.334317</td>\n",
       "      <td>67.830516</td>\n",
       "      <td>22.7</td>\n",
       "      <td>green</td>\n",
       "      <td>22.7</td>\n",
       "      <td>-1.731844</td>\n",
       "      <td>-0.755622</td>\n",
       "      <td>-0.160917</td>\n",
       "    </tr>\n",
       "    <tr>\n",
       "      <th>24998</th>\n",
       "      <td>171.524117</td>\n",
       "      <td>75.861686</td>\n",
       "      <td>8.8</td>\n",
       "      <td>blue</td>\n",
       "      <td>8.8</td>\n",
       "      <td>-0.243876</td>\n",
       "      <td>0.444814</td>\n",
       "      <td>-0.812403</td>\n",
       "    </tr>\n",
       "    <tr>\n",
       "      <th>24999</th>\n",
       "      <td>174.949129</td>\n",
       "      <td>71.620899</td>\n",
       "      <td>78.5</td>\n",
       "      <td>green</td>\n",
       "      <td>78.5</td>\n",
       "      <td>0.464949</td>\n",
       "      <td>-0.189065</td>\n",
       "      <td>2.454397</td>\n",
       "    </tr>\n",
       "  </tbody>\n",
       "</table>\n",
       "<p>24949 rows × 8 columns</p>\n",
       "</div>"
      ],
      "text/plain": [
       "           Height     Weight  Hair_Length Favorite  Hair_length  \\\n",
       "0      167.089607  64.806216         71.1      red         71.1   \n",
       "1      181.648633  78.281527         18.5      red         18.5   \n",
       "2      176.272800  87.767722         77.1    green         77.1   \n",
       "3      173.270164  81.635672         97.2    green         97.2   \n",
       "...           ...        ...          ...      ...          ...   \n",
       "24996  163.952580  68.936137         11.7     blue         11.7   \n",
       "24997  164.334317  67.830516         22.7    green         22.7   \n",
       "24998  171.524117  75.861686          8.8     blue          8.8   \n",
       "24999  174.949129  71.620899         78.5    green         78.5   \n",
       "\n",
       "       zscore_Height  zscore_Weight  zscore_Hair_Length  \n",
       "0          -1.161622      -1.207670            2.107563  \n",
       "1           1.851448       0.806513           -0.357769  \n",
       "2           0.738890       2.224434            2.388780  \n",
       "3           0.117478       1.307864            3.330856  \n",
       "...              ...            ...                 ...  \n",
       "24996      -1.810847      -0.590362           -0.676481  \n",
       "24997      -1.731844      -0.755622           -0.160917  \n",
       "24998      -0.243876       0.444814           -0.812403  \n",
       "24999       0.464949      -0.189065            2.454397  \n",
       "\n",
       "[24949 rows x 8 columns]"
      ]
     },
     "execution_count": 147,
     "metadata": {},
     "output_type": "execute_result"
    }
   ],
   "source": [
    "humans4[humans4.zscore_Height.abs() < 3 ]"
   ]
  },
  {
   "cell_type": "code",
   "execution_count": 154,
   "id": "97dea831-94d5-4bd5-8f40-0892bb047afd",
   "metadata": {},
   "outputs": [
    {
     "name": "stdout",
     "output_type": "stream",
     "text": [
      "Outlier Weight :  67\n",
      "Outlier Hair Length :  285\n"
     ]
    }
   ],
   "source": [
    "print(\"Outlier Weight : \", (humans4.zscore_Weight.abs() < 3).sum())\n",
    "print(\"Outlier Hair Length : \", (humans4.zscore_Hair_Length.abs() > 3).sum())"
   ]
  },
  {
   "cell_type": "markdown",
   "id": "d89c69a2-5fc3-4c49-8236-2f69a9d8ce7a",
   "metadata": {},
   "source": [
    "#### Interquartile range \n",
    "\n",
    "Using the IQR rather than the z-score makes less of an assumption of normality of a\n",
    "distribution. However, this technique will also fail to produce meaningful answers\n",
    "for power law or exponential data distributions.\n",
    "\n",
    "IQR : Measure the numeric distance between the 25% and 75% quartiles "
   ]
  },
  {
   "cell_type": "code",
   "execution_count": 155,
   "id": "3abf8d7b-b76d-447a-ab0a-fd72e5aac851",
   "metadata": {},
   "outputs": [],
   "source": [
    "# Function defined but not run in this cell\n",
    "def show_boxplots(df, cols, whis=1.5):\n",
    "        # Create as many horizontal plots as we have columns\n",
    "        fig, axes = plt.subplots(len(cols), 1, figsize=(10, 2*len(cols)))\n",
    "        # For each one, plot the non-null data inside it\n",
    "        for n, col in enumerate(cols):\n",
    "            data = df[col][df[col].notnull()]\n",
    "            axes[n].set_title(f'{col} Distribution')\n",
    "            # Extend whiskers to specified IQR multiplier\n",
    "            axes[n].boxplot(data, whis=whis, vert=False, sym='x')\n",
    "            axes[n].set_yticks([])\n",
    "        # Fix spacing of subplots at the end\n",
    "        fig.tight_layout()"
   ]
  },
  {
   "cell_type": "code",
   "execution_count": 157,
   "id": "af22193e-9c0f-4808-bb3b-e0d430f24758",
   "metadata": {},
   "outputs": [
    {
     "data": {
      "image/png": "[encoded data removed]",
      "text/plain": [
       "<Figure size 1000x600 with 3 Axes>"
      ]
     },
     "metadata": {},
     "output_type": "display_data"
    }
   ],
   "source": [
    "show_boxplots(humans4, [\"Weight\", \"Height\", \"Hair_Length\"], 2.5)"
   ]
  },
  {
   "cell_type": "code",
   "execution_count": 159,
   "id": "550eba68-500f-4786-a0b5-47622a08cda7",
   "metadata": {},
   "outputs": [
    {
     "data": {
      "text/html": [
       "<div>\n",
       "<style scoped>\n",
       "    .dataframe tbody tr th:only-of-type {\n",
       "        vertical-align: middle;\n",
       "    }\n",
       "\n",
       "    .dataframe tbody tr th {\n",
       "        vertical-align: top;\n",
       "    }\n",
       "\n",
       "    .dataframe thead th {\n",
       "        text-align: right;\n",
       "    }\n",
       "</style>\n",
       "<table border=\"1\" class=\"dataframe\">\n",
       "  <thead>\n",
       "    <tr style=\"text-align: right;\">\n",
       "      <th></th>\n",
       "      <th>Weight</th>\n",
       "      <th>Height</th>\n",
       "    </tr>\n",
       "  </thead>\n",
       "  <tbody>\n",
       "    <tr>\n",
       "      <th>0.25</th>\n",
       "      <td>68.428823</td>\n",
       "      <td>169.428884</td>\n",
       "    </tr>\n",
       "    <tr>\n",
       "      <th>0.50</th>\n",
       "      <td>72.930616</td>\n",
       "      <td>172.709078</td>\n",
       "    </tr>\n",
       "    <tr>\n",
       "      <th>0.75</th>\n",
       "      <td>77.367039</td>\n",
       "      <td>175.953541</td>\n",
       "    </tr>\n",
       "    <tr>\n",
       "      <th>1.00</th>\n",
       "      <td>98.032504</td>\n",
       "      <td>190.888112</td>\n",
       "    </tr>\n",
       "  </tbody>\n",
       "</table>\n",
       "</div>"
      ],
      "text/plain": [
       "         Weight      Height\n",
       "0.25  68.428823  169.428884\n",
       "0.50  72.930616  172.709078\n",
       "0.75  77.367039  175.953541\n",
       "1.00  98.032504  190.888112"
      ]
     },
     "execution_count": 159,
     "metadata": {},
     "output_type": "execute_result"
    }
   ],
   "source": [
    "quartiles = (\n",
    "    humans4[[\"Weight\", \"Height\"]]\n",
    "    .quantile(q=[0.25, 0.50, 0.75, 1.0]))\n",
    "quartiles"
   ]
  },
  {
   "cell_type": "code",
   "execution_count": 161,
   "id": "8671db63-655f-4367-8f66-3f342e1aa8d1",
   "metadata": {},
   "outputs": [
    {
     "data": {
      "text/plain": [
       "Weight    8.938216\n",
       "Height    6.524657\n",
       "dtype: float64"
      ]
     },
     "execution_count": 161,
     "metadata": {},
     "output_type": "execute_result"
    }
   ],
   "source": [
    "IQR = quartiles.loc[0.75] - quartiles.loc[0.25]\n",
    "IQR"
   ]
  },
  {
   "cell_type": "code",
   "execution_count": 166,
   "id": "3f66626e-eda0-49de-9146-c40e40de5559",
   "metadata": {},
   "outputs": [
    {
     "data": {
      "text/html": [
       "<div>\n",
       "<style scoped>\n",
       "    .dataframe tbody tr th:only-of-type {\n",
       "        vertical-align: middle;\n",
       "    }\n",
       "\n",
       "    .dataframe tbody tr th {\n",
       "        vertical-align: top;\n",
       "    }\n",
       "\n",
       "    .dataframe thead th {\n",
       "        text-align: right;\n",
       "    }\n",
       "</style>\n",
       "<table border=\"1\" class=\"dataframe\">\n",
       "  <thead>\n",
       "    <tr style=\"text-align: right;\">\n",
       "      <th></th>\n",
       "      <th>Height</th>\n",
       "      <th>Weight</th>\n",
       "      <th>Hair_Length</th>\n",
       "      <th>Favorite</th>\n",
       "      <th>Hair_length</th>\n",
       "      <th>zscore_Height</th>\n",
       "      <th>zscore_Weight</th>\n",
       "      <th>zscore_Hair_Length</th>\n",
       "    </tr>\n",
       "  </thead>\n",
       "  <tbody>\n",
       "    <tr>\n",
       "      <th>13971</th>\n",
       "      <td>153.107034</td>\n",
       "      <td>63.155154</td>\n",
       "      <td>4.4</td>\n",
       "      <td>green</td>\n",
       "      <td>4.4</td>\n",
       "      <td>-4.055392</td>\n",
       "      <td>-1.454458</td>\n",
       "      <td>-1.018628</td>\n",
       "    </tr>\n",
       "    <tr>\n",
       "      <th>14106</th>\n",
       "      <td>157.244415</td>\n",
       "      <td>45.062151</td>\n",
       "      <td>70.7</td>\n",
       "      <td>red</td>\n",
       "      <td>70.7</td>\n",
       "      <td>-3.199138</td>\n",
       "      <td>-4.158856</td>\n",
       "      <td>2.088816</td>\n",
       "    </tr>\n",
       "    <tr>\n",
       "      <th>22945</th>\n",
       "      <td>157.293031</td>\n",
       "      <td>44.744929</td>\n",
       "      <td>18.4</td>\n",
       "      <td>red</td>\n",
       "      <td>18.4</td>\n",
       "      <td>-3.189077</td>\n",
       "      <td>-4.206272</td>\n",
       "      <td>-0.362456</td>\n",
       "    </tr>\n",
       "  </tbody>\n",
       "</table>\n",
       "</div>"
      ],
      "text/plain": [
       "           Height     Weight  Hair_Length Favorite  Hair_length  \\\n",
       "13971  153.107034  63.155154          4.4    green          4.4   \n",
       "14106  157.244415  45.062151         70.7      red         70.7   \n",
       "22945  157.293031  44.744929         18.4      red         18.4   \n",
       "\n",
       "       zscore_Height  zscore_Weight  zscore_Hair_Length  \n",
       "13971      -4.055392      -1.454458           -1.018628  \n",
       "14106      -3.199138      -4.158856            2.088816  \n",
       "22945      -3.189077      -4.206272           -0.362456  "
      ]
     },
     "execution_count": 166,
     "metadata": {},
     "output_type": "execute_result"
    }
   ],
   "source": [
    "cond = (\n",
    "    (humans4.Height > 192.265) |\n",
    "    (humans4.Height < 153.117) |\n",
    "    (humans4.Weight > 99.713) |\n",
    "    (humans4.Weight < 46.083))\n",
    "humans4[cond]"
   ]
  },
  {
   "cell_type": "markdown",
   "id": "33417ee7-2819-4dff-8e56-7cb926978539",
   "metadata": {},
   "source": [
    "### Multivariate outliers \n",
    "\n",
    "Concepts:\n",
    "• Variance in deterministic synthetic features\n",
    "\n",
    "• Expectations of relative rarity"
   ]
  },
  {
   "cell_type": "code",
   "execution_count": 172,
   "id": "49ea1886-b8d1-4b42-a07d-bcfc78f3eb86",
   "metadata": {},
   "outputs": [
    {
     "data": {
      "text/html": [
       "<div>\n",
       "<style scoped>\n",
       "    .dataframe tbody tr th:only-of-type {\n",
       "        vertical-align: middle;\n",
       "    }\n",
       "\n",
       "    .dataframe tbody tr th {\n",
       "        vertical-align: top;\n",
       "    }\n",
       "\n",
       "    .dataframe thead th {\n",
       "        text-align: right;\n",
       "    }\n",
       "</style>\n",
       "<table border=\"1\" class=\"dataframe\">\n",
       "  <thead>\n",
       "    <tr style=\"text-align: right;\">\n",
       "      <th></th>\n",
       "      <th>Height</th>\n",
       "      <th>Weight</th>\n",
       "      <th>BMI</th>\n",
       "      <th>zscore_BMI</th>\n",
       "    </tr>\n",
       "  </thead>\n",
       "  <tbody>\n",
       "    <tr>\n",
       "      <th>0</th>\n",
       "      <td>167.089607</td>\n",
       "      <td>64.806216</td>\n",
       "      <td>23.212279</td>\n",
       "      <td>10.777474</td>\n",
       "    </tr>\n",
       "    <tr>\n",
       "      <th>1</th>\n",
       "      <td>181.648633</td>\n",
       "      <td>78.281527</td>\n",
       "      <td>23.724388</td>\n",
       "      <td>11.289583</td>\n",
       "    </tr>\n",
       "    <tr>\n",
       "      <th>2</th>\n",
       "      <td>176.272800</td>\n",
       "      <td>87.767722</td>\n",
       "      <td>28.246473</td>\n",
       "      <td>15.811668</td>\n",
       "    </tr>\n",
       "    <tr>\n",
       "      <th>3</th>\n",
       "      <td>173.270164</td>\n",
       "      <td>81.635672</td>\n",
       "      <td>27.191452</td>\n",
       "      <td>14.756647</td>\n",
       "    </tr>\n",
       "    <tr>\n",
       "      <th>...</th>\n",
       "      <td>...</td>\n",
       "      <td>...</td>\n",
       "      <td>...</td>\n",
       "      <td>...</td>\n",
       "    </tr>\n",
       "    <tr>\n",
       "      <th>24996</th>\n",
       "      <td>163.952580</td>\n",
       "      <td>68.936137</td>\n",
       "      <td>25.645456</td>\n",
       "      <td>13.210651</td>\n",
       "    </tr>\n",
       "    <tr>\n",
       "      <th>24997</th>\n",
       "      <td>164.334317</td>\n",
       "      <td>67.830516</td>\n",
       "      <td>25.117048</td>\n",
       "      <td>12.682243</td>\n",
       "    </tr>\n",
       "    <tr>\n",
       "      <th>24998</th>\n",
       "      <td>171.524117</td>\n",
       "      <td>75.861686</td>\n",
       "      <td>25.785295</td>\n",
       "      <td>13.350490</td>\n",
       "    </tr>\n",
       "    <tr>\n",
       "      <th>24999</th>\n",
       "      <td>174.949129</td>\n",
       "      <td>71.620899</td>\n",
       "      <td>23.400018</td>\n",
       "      <td>10.965213</td>\n",
       "    </tr>\n",
       "  </tbody>\n",
       "</table>\n",
       "<p>25000 rows × 4 columns</p>\n",
       "</div>"
      ],
      "text/plain": [
       "           Height     Weight        BMI  zscore_BMI\n",
       "0      167.089607  64.806216  23.212279   10.777474\n",
       "1      181.648633  78.281527  23.724388   11.289583\n",
       "2      176.272800  87.767722  28.246473   15.811668\n",
       "3      173.270164  81.635672  27.191452   14.756647\n",
       "...           ...        ...        ...         ...\n",
       "24996  163.952580  68.936137  25.645456   13.210651\n",
       "24997  164.334317  67.830516  25.117048   12.682243\n",
       "24998  171.524117  75.861686  25.785295   13.350490\n",
       "24999  174.949129  71.620899  23.400018   10.965213\n",
       "\n",
       "[25000 rows x 4 columns]"
      ]
     },
     "execution_count": 172,
     "metadata": {},
     "output_type": "execute_result"
    }
   ],
   "source": [
    "humans5 = humans4[[\"Height\", \"Weight\"]].copy()\n",
    "\n",
    "# Convert weight from cm to m \n",
    "\n",
    "humans5[\"BMI\"] = humans5.Weight / (humans5.Height/100)**2\n",
    "humans5[\"zscore_BMI\"] = (\n",
    "    (humans5.BMI - humans5.BMI.mean() / humans5.BMI.std())\n",
    ")\n",
    "humans5"
   ]
  },
  {
   "cell_type": "code",
   "execution_count": 173,
   "id": "2d82fe06-729b-4a00-9537-734e005db941",
   "metadata": {},
   "outputs": [
    {
     "data": {
      "text/html": [
       "<div>\n",
       "<style scoped>\n",
       "    .dataframe tbody tr th:only-of-type {\n",
       "        vertical-align: middle;\n",
       "    }\n",
       "\n",
       "    .dataframe tbody tr th {\n",
       "        vertical-align: top;\n",
       "    }\n",
       "\n",
       "    .dataframe thead th {\n",
       "        text-align: right;\n",
       "    }\n",
       "</style>\n",
       "<table border=\"1\" class=\"dataframe\">\n",
       "  <thead>\n",
       "    <tr style=\"text-align: right;\">\n",
       "      <th></th>\n",
       "      <th>Height</th>\n",
       "      <th>Weight</th>\n",
       "      <th>BMI</th>\n",
       "      <th>zscore_BMI</th>\n",
       "    </tr>\n",
       "  </thead>\n",
       "  <tbody>\n",
       "    <tr>\n",
       "      <th>0</th>\n",
       "      <td>167.089607</td>\n",
       "      <td>64.806216</td>\n",
       "      <td>23.212279</td>\n",
       "      <td>10.777474</td>\n",
       "    </tr>\n",
       "    <tr>\n",
       "      <th>1</th>\n",
       "      <td>181.648633</td>\n",
       "      <td>78.281527</td>\n",
       "      <td>23.724388</td>\n",
       "      <td>11.289583</td>\n",
       "    </tr>\n",
       "    <tr>\n",
       "      <th>2</th>\n",
       "      <td>176.272800</td>\n",
       "      <td>87.767722</td>\n",
       "      <td>28.246473</td>\n",
       "      <td>15.811668</td>\n",
       "    </tr>\n",
       "    <tr>\n",
       "      <th>3</th>\n",
       "      <td>173.270164</td>\n",
       "      <td>81.635672</td>\n",
       "      <td>27.191452</td>\n",
       "      <td>14.756647</td>\n",
       "    </tr>\n",
       "    <tr>\n",
       "      <th>...</th>\n",
       "      <td>...</td>\n",
       "      <td>...</td>\n",
       "      <td>...</td>\n",
       "      <td>...</td>\n",
       "    </tr>\n",
       "    <tr>\n",
       "      <th>24996</th>\n",
       "      <td>163.952580</td>\n",
       "      <td>68.936137</td>\n",
       "      <td>25.645456</td>\n",
       "      <td>13.210651</td>\n",
       "    </tr>\n",
       "    <tr>\n",
       "      <th>24997</th>\n",
       "      <td>164.334317</td>\n",
       "      <td>67.830516</td>\n",
       "      <td>25.117048</td>\n",
       "      <td>12.682243</td>\n",
       "    </tr>\n",
       "    <tr>\n",
       "      <th>24998</th>\n",
       "      <td>171.524117</td>\n",
       "      <td>75.861686</td>\n",
       "      <td>25.785295</td>\n",
       "      <td>13.350490</td>\n",
       "    </tr>\n",
       "    <tr>\n",
       "      <th>24999</th>\n",
       "      <td>174.949129</td>\n",
       "      <td>71.620899</td>\n",
       "      <td>23.400018</td>\n",
       "      <td>10.965213</td>\n",
       "    </tr>\n",
       "  </tbody>\n",
       "</table>\n",
       "<p>24999 rows × 4 columns</p>\n",
       "</div>"
      ],
      "text/plain": [
       "           Height     Weight        BMI  zscore_BMI\n",
       "0      167.089607  64.806216  23.212279   10.777474\n",
       "1      181.648633  78.281527  23.724388   11.289583\n",
       "2      176.272800  87.767722  28.246473   15.811668\n",
       "3      173.270164  81.635672  27.191452   14.756647\n",
       "...           ...        ...        ...         ...\n",
       "24996  163.952580  68.936137  25.645456   13.210651\n",
       "24997  164.334317  67.830516  25.117048   12.682243\n",
       "24998  171.524117  75.861686  25.785295   13.350490\n",
       "24999  174.949129  71.620899  23.400018   10.965213\n",
       "\n",
       "[24999 rows x 4 columns]"
      ]
     },
     "execution_count": 173,
     "metadata": {},
     "output_type": "execute_result"
    }
   ],
   "source": [
    "humans5[humans5.zscore_BMI.abs() > 4]"
   ]
  },
  {
   "cell_type": "code",
   "execution_count": null,
   "id": "6cc48cfe-9fc2-44a2-930c-91b7fa462634",
   "metadata": {},
   "outputs": [],
   "source": []
  }
 ],
 "metadata": {
  "kernelspec": {
   "display_name": "Python 3 (ipykernel)",
   "language": "python",
   "name": "python3"
  },
  "language_info": {
   "codemirror_mode": {
    "name": "ipython",
    "version": 3
   },
   "file_extension": ".py",
   "mimetype": "text/x-python",
   "name": "python",
   "nbconvert_exporter": "python",
   "pygments_lexer": "ipython3",
   "version": "3.11.5"
  }
 },
 "nbformat": 4,
 "nbformat_minor": 5
}
