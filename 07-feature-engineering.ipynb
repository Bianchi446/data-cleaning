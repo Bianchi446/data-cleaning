{
 "cells": [
  {
   "cell_type": "code",
   "execution_count": 1,
   "id": "adbf5747-e3d3-4902-988e-a7efa3cf9373",
   "metadata": {},
   "outputs": [],
   "source": [
    "# Feature Engineering : Discipline of creation of new synthetic features based on existing data "
   ]
  },
  {
   "cell_type": "code",
   "execution_count": 2,
   "id": "6620f680-61bc-4a2d-b29d-9d86b34cc2ab",
   "metadata": {},
   "outputs": [],
   "source": [
    "from src.setup import * \n",
    "%load_ext rpy2.ipython "
   ]
  },
  {
   "cell_type": "code",
   "execution_count": 3,
   "id": "de8236ec-1cc8-45cc-85c3-84a9761d8fc4",
   "metadata": {},
   "outputs": [
    {
     "data": {
      "text/plain": [
       "── Attaching packages ─────────────────────────────────────── tidyverse 1.3.1 ──\n",
       "✔ ggplot2 3.3.6     ✔ purrr   0.3.4\n",
       "✔ tibble  3.1.7     ✔ dplyr   1.0.9\n",
       "✔ tidyr   1.2.0     ✔ stringr 1.4.0\n",
       "✔ readr   2.1.2     ✔ forcats 0.5.1\n",
       "── Conflicts ────────────────────────────────────────── tidyverse_conflicts() ──\n",
       "✖ dplyr::filter() masks stats::filter()\n",
       "✖ dplyr::lag()    masks stats::lag()\n"
      ]
     },
     "metadata": {},
     "output_type": "display_data"
    }
   ],
   "source": [
    "%%R \n",
    "library(tidyverse)"
   ]
  },
  {
   "cell_type": "markdown",
   "id": "9fc1ff66-70dc-4b42-a64d-6410ca7d4687",
   "metadata": {},
   "source": [
    "# Datetime fields \n",
    "\n",
    "Concepts:\n",
    "\n",
    "• Combining timestamp components\n",
    "\n",
    "• Date/time operations in data frames\n",
    "\n",
    "• Time deltas\n",
    "\n",
    "• Duplicated timestamps (selection versus averaging)\n",
    "\n",
    "• Resampling and grouping\n",
    "\n",
    "• Interpolation at missing timestamps"
   ]
  },
  {
   "cell_type": "code",
   "execution_count": 6,
   "id": "e5b05716-f0bb-4bec-adc3-170c7f0a9ed3",
   "metadata": {},
   "outputs": [
    {
     "name": "stdout",
     "output_type": "stream",
     "text": [
      "2003 07 25 16 04 27.500000\n",
      "2003 07 25 16 07 27.300000\n",
      "2003 07 25 16 10 27.300000\n",
      "2003 07 25 16 13 27.400000\n",
      "2003 07 25 16 16 27.800000\n",
      "2003 07 25 16 19 27.500000\n",
      "2003 07 25 16 22 27.600000\n",
      "2003 07 25 16 25 27.600000\n",
      "2003 07 25 16 28 27.700000\n",
      "2003 07 25 16 31 27.575000\n",
      "2003 07 25 16 34 27.700000\n",
      "2003 07 25 16 37 27.600000\n",
      "2003 07 25 16 40 27.500000\n",
      "2003 07 25 16 43 27.475000\n",
      "2003 07 25 16 46 27.400000\n",
      "2003 07 25 16 49 27.400000\n",
      "2003 07 25 16 52 27.200000\n",
      "2003 07 25 16 55 27.000000\n",
      "2003 07 25 16 58 27.300000\n",
      "2003 07 25 17 01 27.500000\n",
      "2003 07 25 17 04 27.600000\n",
      "2003 07 25 17 07 27.275000\n",
      "2003 07 25 17 10 27.300000\n",
      "2003 07 25 17 13 27.200000\n",
      "2003 07 25 17 16 26.900000\n",
      "2003 07 25 17 19 26.700000\n",
      "2003 07 25 17 22 26.400000\n",
      "2003 07 25 17 25 26.500000\n",
      "2003 07 25 17 28 26.475000\n",
      "2003 07 25 17 31 26.400000\n"
     ]
    }
   ],
   "source": [
    "%%bash \n",
    "zcat data/glarp/outside.gz | head -30"
   ]
  },
  {
   "cell_type": "code",
   "execution_count": 7,
   "id": "cec0bf54-2c08-497d-9af8-901db5d6e791",
   "metadata": {},
   "outputs": [],
   "source": [
    "# Read the file with pandas as a space-delimited file "
   ]
  },
  {
   "cell_type": "code",
   "execution_count": 9,
   "id": "b5fba9a6-0bde-4284-8898-34d50e92006c",
   "metadata": {},
   "outputs": [
    {
     "data": {
      "text/html": [
       "<div>\n",
       "<style scoped>\n",
       "    .dataframe tbody tr th:only-of-type {\n",
       "        vertical-align: middle;\n",
       "    }\n",
       "\n",
       "    .dataframe tbody tr th {\n",
       "        vertical-align: top;\n",
       "    }\n",
       "\n",
       "    .dataframe thead th {\n",
       "        text-align: right;\n",
       "    }\n",
       "</style>\n",
       "<table border=\"1\" class=\"dataframe\">\n",
       "  <thead>\n",
       "    <tr style=\"text-align: right;\">\n",
       "      <th></th>\n",
       "      <th>year</th>\n",
       "      <th>month</th>\n",
       "      <th>day</th>\n",
       "      <th>hour</th>\n",
       "      <th>minute</th>\n",
       "      <th>degrees</th>\n",
       "    </tr>\n",
       "  </thead>\n",
       "  <tbody>\n",
       "    <tr>\n",
       "      <th>0</th>\n",
       "      <td>2003</td>\n",
       "      <td>7</td>\n",
       "      <td>25</td>\n",
       "      <td>16</td>\n",
       "      <td>4</td>\n",
       "      <td>27.5</td>\n",
       "    </tr>\n",
       "    <tr>\n",
       "      <th>1</th>\n",
       "      <td>2003</td>\n",
       "      <td>7</td>\n",
       "      <td>25</td>\n",
       "      <td>16</td>\n",
       "      <td>7</td>\n",
       "      <td>27.3</td>\n",
       "    </tr>\n",
       "    <tr>\n",
       "      <th>2</th>\n",
       "      <td>2003</td>\n",
       "      <td>7</td>\n",
       "      <td>25</td>\n",
       "      <td>16</td>\n",
       "      <td>10</td>\n",
       "      <td>27.3</td>\n",
       "    </tr>\n",
       "    <tr>\n",
       "      <th>3</th>\n",
       "      <td>2003</td>\n",
       "      <td>7</td>\n",
       "      <td>25</td>\n",
       "      <td>16</td>\n",
       "      <td>13</td>\n",
       "      <td>27.4</td>\n",
       "    </tr>\n",
       "    <tr>\n",
       "      <th>4</th>\n",
       "      <td>2003</td>\n",
       "      <td>7</td>\n",
       "      <td>25</td>\n",
       "      <td>16</td>\n",
       "      <td>16</td>\n",
       "      <td>27.8</td>\n",
       "    </tr>\n",
       "  </tbody>\n",
       "</table>\n",
       "</div>"
      ],
      "text/plain": [
       "   year  month  day  hour  minute  degrees\n",
       "0  2003      7   25    16       4     27.5\n",
       "1  2003      7   25    16       7     27.3\n",
       "2  2003      7   25    16      10     27.3\n",
       "3  2003      7   25    16      13     27.4\n",
       "4  2003      7   25    16      16     27.8"
      ]
     },
     "execution_count": 9,
     "metadata": {},
     "output_type": "execute_result"
    }
   ],
   "source": [
    "temps = pd.read_csv('data/glarp/outside.gz',\n",
    "                    sep=' ',\n",
    "                    header=None,\n",
    "                    names=['year', 'month', 'day', 'hour', 'minute', 'degrees'])\n",
    "temps.head(5)"
   ]
  },
  {
   "cell_type": "markdown",
   "id": "168a5e7e-2e64-40f2-ae51-4debc7a2eb31",
   "metadata": {},
   "source": [
    "### Creating datetimes "
   ]
  },
  {
   "cell_type": "code",
   "execution_count": 11,
   "id": "a691ef49-53ee-4d20-a72b-f2700b2fb691",
   "metadata": {},
   "outputs": [
    {
     "data": {
      "text/html": [
       "<div>\n",
       "<style scoped>\n",
       "    .dataframe tbody tr th:only-of-type {\n",
       "        vertical-align: middle;\n",
       "    }\n",
       "\n",
       "    .dataframe tbody tr th {\n",
       "        vertical-align: top;\n",
       "    }\n",
       "\n",
       "    .dataframe thead th {\n",
       "        text-align: right;\n",
       "    }\n",
       "</style>\n",
       "<table border=\"1\" class=\"dataframe\">\n",
       "  <thead>\n",
       "    <tr style=\"text-align: right;\">\n",
       "      <th></th>\n",
       "      <th>degrees</th>\n",
       "    </tr>\n",
       "  </thead>\n",
       "  <tbody>\n",
       "    <tr>\n",
       "      <th>2003-07-25 16:04:00</th>\n",
       "      <td>27.5</td>\n",
       "    </tr>\n",
       "    <tr>\n",
       "      <th>2003-07-25 16:07:00</th>\n",
       "      <td>27.3</td>\n",
       "    </tr>\n",
       "    <tr>\n",
       "      <th>2003-07-25 16:10:00</th>\n",
       "      <td>27.3</td>\n",
       "    </tr>\n",
       "    <tr>\n",
       "      <th>2003-07-25 16:13:00</th>\n",
       "      <td>27.4</td>\n",
       "    </tr>\n",
       "    <tr>\n",
       "      <th>...</th>\n",
       "      <td>...</td>\n",
       "    </tr>\n",
       "    <tr>\n",
       "      <th>2004-07-16 15:19:00</th>\n",
       "      <td>16.9</td>\n",
       "    </tr>\n",
       "    <tr>\n",
       "      <th>2004-07-16 15:22:00</th>\n",
       "      <td>16.8</td>\n",
       "    </tr>\n",
       "    <tr>\n",
       "      <th>2004-07-16 15:25:00</th>\n",
       "      <td>16.8</td>\n",
       "    </tr>\n",
       "    <tr>\n",
       "      <th>2004-07-16 15:28:00</th>\n",
       "      <td>16.4</td>\n",
       "    </tr>\n",
       "  </tbody>\n",
       "</table>\n",
       "<p>169513 rows × 1 columns</p>\n",
       "</div>"
      ],
      "text/plain": [
       "                     degrees\n",
       "2003-07-25 16:04:00     27.5\n",
       "2003-07-25 16:07:00     27.3\n",
       "2003-07-25 16:10:00     27.3\n",
       "2003-07-25 16:13:00     27.4\n",
       "...                      ...\n",
       "2004-07-16 15:19:00     16.9\n",
       "2004-07-16 15:22:00     16.8\n",
       "2004-07-16 15:25:00     16.8\n",
       "2004-07-16 15:28:00     16.4\n",
       "\n",
       "[169513 rows x 1 columns]"
      ]
     },
     "execution_count": 11,
     "metadata": {},
     "output_type": "execute_result"
    }
   ],
   "source": [
    "# Creating datetime index in pandas \n",
    "\n",
    "ts_fields = ['year', 'month', 'day', 'hour', 'minute']\n",
    "temps.index = pd.to_datetime(temps[ts_fields])\n",
    "temps.drop(columns=ts_fields, inplace=True)\n",
    "temps"
   ]
  },
  {
   "cell_type": "code",
   "execution_count": null,
   "id": "118f9b5b-a382-4ad1-9083-6d4805e49d03",
   "metadata": {},
   "outputs": [],
   "source": []
  },
  {
   "cell_type": "code",
   "execution_count": 13,
   "id": "85b3cde7-929c-44c6-962f-81f5be29eb5c",
   "metadata": {},
   "outputs": [
    {
     "data": {
      "text/plain": [
       "True"
      ]
     },
     "execution_count": 13,
     "metadata": {},
     "output_type": "execute_result"
    }
   ],
   "source": [
    "temps.sort_index(inplace=True)\n",
    "temps.index.is_monotonic_increasing"
   ]
  },
  {
   "cell_type": "markdown",
   "id": "c1552042-d8f0-4b3c-828c-8ec25dede2f0",
   "metadata": {},
   "source": [
    "### Imposing regularity "
   ]
  },
  {
   "cell_type": "code",
   "execution_count": 14,
   "id": "a46e88e0-67c5-4dfd-b3e9-b6c6a95a63cc",
   "metadata": {},
   "outputs": [
    {
     "data": {
      "text/plain": [
       "2003-07-26 19:28:00   0 days 00:06:00\n",
       "2003-07-27 09:10:00   0 days 00:06:00\n",
       "2003-07-29 08:28:00   0 days 00:06:00\n",
       "2003-07-29 11:43:00   0 days 00:06:00\n",
       "                            ...      \n",
       "2004-07-05 19:55:00   0 days 07:36:00\n",
       "2004-07-06 09:28:00   0 days 00:06:00\n",
       "2004-07-06 16:28:00   0 days 00:06:00\n",
       "2004-07-14 04:04:00   0 days 00:06:00\n",
       "Length: 160, dtype: timedelta64[ns]"
      ]
     },
     "execution_count": 14,
     "metadata": {},
     "output_type": "execute_result"
    }
   ],
   "source": [
    "increments = temps.index.to_series().diff()\n",
    "gaps = increments[increments > pd.Timedelta(minutes=3)]\n",
    "gaps"
   ]
  },
  {
   "cell_type": "code",
   "execution_count": 15,
   "id": "881aa43c-c199-4bea-9e0e-531265509f74",
   "metadata": {},
   "outputs": [
    {
     "name": "stdout",
     "output_type": "stream",
     "text": [
      "2003-12-11 03:04:00   1 days 13:48:00\n",
      "2004-04-28 00:31:00   0 days 13:06:00\n",
      "2004-07-05 19:55:00   0 days 07:36:00\n",
      "2003-12-18 09:25:00   0 days 06:33:00\n",
      "2003-12-06 09:25:00   0 days 06:24:00\n",
      "2003-12-29 08:46:00   0 days 06:03:00\n",
      "2003-12-11 14:19:00   0 days 04:42:00\n",
      "2004-04-04 03:01:00   0 days 01:03:00\n",
      "2004-06-30 18:13:00   0 days 00:33:00\n",
      "2003-11-24 08:04:00   0 days 00:30:00\n",
      "2003-10-11 17:13:00   0 days 00:27:00\n",
      "2003-12-13 17:10:00   0 days 00:15:00\n",
      "2004-07-02 09:22:00   0 days 00:12:00\n",
      "2004-06-30 03:07:00   0 days 00:12:00\n",
      "2004-06-22 10:16:00   0 days 00:12:00\n",
      "dtype: timedelta64[ns]\n"
     ]
    }
   ],
   "source": [
    "with show_more_rows():\n",
    "    print(gaps.sort_values(ascending=False).head(15))"
   ]
  },
  {
   "cell_type": "code",
   "execution_count": 16,
   "id": "1ed3c59b-856a-476a-a50d-06482d48da69",
   "metadata": {},
   "outputs": [
    {
     "data": {
      "text/html": [
       "<div>\n",
       "<style scoped>\n",
       "    .dataframe tbody tr th:only-of-type {\n",
       "        vertical-align: middle;\n",
       "    }\n",
       "\n",
       "    .dataframe tbody tr th {\n",
       "        vertical-align: top;\n",
       "    }\n",
       "\n",
       "    .dataframe thead th {\n",
       "        text-align: right;\n",
       "    }\n",
       "</style>\n",
       "<table border=\"1\" class=\"dataframe\">\n",
       "  <thead>\n",
       "    <tr style=\"text-align: right;\">\n",
       "      <th></th>\n",
       "      <th>degrees</th>\n",
       "    </tr>\n",
       "  </thead>\n",
       "  <tbody>\n",
       "    <tr>\n",
       "      <th>2003-07-26 19:22:00</th>\n",
       "      <td>27.5</td>\n",
       "    </tr>\n",
       "    <tr>\n",
       "      <th>2003-07-26 19:28:00</th>\n",
       "      <td>27.1</td>\n",
       "    </tr>\n",
       "  </tbody>\n",
       "</table>\n",
       "</div>"
      ],
      "text/plain": [
       "                     degrees\n",
       "2003-07-26 19:22:00     27.5\n",
       "2003-07-26 19:28:00     27.1"
      ]
     },
     "execution_count": 16,
     "metadata": {},
     "output_type": "execute_result"
    }
   ],
   "source": [
    "temps.loc['2003-07-26 19:22:00':'2003-07-26 19:28:00']"
   ]
  },
  {
   "cell_type": "code",
   "execution_count": 17,
   "id": "bdab2387-0f00-4717-8a97-f23db2472fc3",
   "metadata": {},
   "outputs": [
    {
     "data": {
      "text/plain": [
       "2003-10-03 12:04:00   0 days 00:02:00\n",
       "2003-10-26 01:01:00   0 days 00:00:00\n",
       "2003-12-24 15:10:00   0 days 00:00:00\n",
       "2003-10-26 01:58:00   0 days 00:00:00\n",
       "                            ...      \n",
       "2003-10-26 01:13:00   0 days 00:00:00\n",
       "2003-10-26 01:10:00   0 days 00:00:00\n",
       "2003-10-26 01:07:00   0 days 00:00:00\n",
       "2003-12-24 15:10:00   0 days 00:00:00\n",
       "Length: 22, dtype: timedelta64[ns]"
      ]
     },
     "execution_count": 17,
     "metadata": {},
     "output_type": "execute_result"
    }
   ],
   "source": [
    "small_steps = increments[increments < pd.Timedelta(minutes=3)]\n",
    "small_steps.sort_values(ascending=False)"
   ]
  },
  {
   "cell_type": "code",
   "execution_count": 18,
   "id": "f5baedd0-c4d6-4449-b8b6-a1121bcb0839",
   "metadata": {},
   "outputs": [
    {
     "data": {
      "text/html": [
       "<div>\n",
       "<style scoped>\n",
       "    .dataframe tbody tr th:only-of-type {\n",
       "        vertical-align: middle;\n",
       "    }\n",
       "\n",
       "    .dataframe tbody tr th {\n",
       "        vertical-align: top;\n",
       "    }\n",
       "\n",
       "    .dataframe thead th {\n",
       "        text-align: right;\n",
       "    }\n",
       "</style>\n",
       "<table border=\"1\" class=\"dataframe\">\n",
       "  <thead>\n",
       "    <tr style=\"text-align: right;\">\n",
       "      <th></th>\n",
       "      <th>degrees</th>\n",
       "    </tr>\n",
       "  </thead>\n",
       "  <tbody>\n",
       "    <tr>\n",
       "      <th>2003-10-03 11:58:00</th>\n",
       "      <td>13.0</td>\n",
       "    </tr>\n",
       "    <tr>\n",
       "      <th>2003-10-03 12:02:00</th>\n",
       "      <td>12.8</td>\n",
       "    </tr>\n",
       "    <tr>\n",
       "      <th>2003-10-03 12:04:00</th>\n",
       "      <td>12.8</td>\n",
       "    </tr>\n",
       "    <tr>\n",
       "      <th>2003-10-03 12:07:00</th>\n",
       "      <td>12.8</td>\n",
       "    </tr>\n",
       "  </tbody>\n",
       "</table>\n",
       "</div>"
      ],
      "text/plain": [
       "                     degrees\n",
       "2003-10-03 11:58:00     13.0\n",
       "2003-10-03 12:02:00     12.8\n",
       "2003-10-03 12:04:00     12.8\n",
       "2003-10-03 12:07:00     12.8"
      ]
     },
     "execution_count": 18,
     "metadata": {},
     "output_type": "execute_result"
    }
   ],
   "source": [
    "# Pandas is valiable of locate index with a particular datetime range \n",
    "\n",
    "temps.loc['2003-10-03 11:57':'2003-10-03 12:08']"
   ]
  },
  {
   "cell_type": "code",
   "execution_count": 19,
   "id": "96a34271-df70-4206-8970-0a98cd2b604b",
   "metadata": {},
   "outputs": [
    {
     "data": {
      "text/html": [
       "<div>\n",
       "<style scoped>\n",
       "    .dataframe tbody tr th:only-of-type {\n",
       "        vertical-align: middle;\n",
       "    }\n",
       "\n",
       "    .dataframe tbody tr th {\n",
       "        vertical-align: top;\n",
       "    }\n",
       "\n",
       "    .dataframe thead th {\n",
       "        text-align: right;\n",
       "    }\n",
       "</style>\n",
       "<table border=\"1\" class=\"dataframe\">\n",
       "  <thead>\n",
       "    <tr style=\"text-align: right;\">\n",
       "      <th></th>\n",
       "      <th>degrees</th>\n",
       "    </tr>\n",
       "  </thead>\n",
       "  <tbody>\n",
       "    <tr>\n",
       "      <th>2003-10-26 01:01:00</th>\n",
       "      <td>1.9</td>\n",
       "    </tr>\n",
       "    <tr>\n",
       "      <th>2003-10-26 01:01:00</th>\n",
       "      <td>0.9</td>\n",
       "    </tr>\n",
       "    <tr>\n",
       "      <th>2003-10-26 01:07:00</th>\n",
       "      <td>1.9</td>\n",
       "    </tr>\n",
       "    <tr>\n",
       "      <th>2003-10-26 01:07:00</th>\n",
       "      <td>1.1</td>\n",
       "    </tr>\n",
       "    <tr>\n",
       "      <th>...</th>\n",
       "      <td>...</td>\n",
       "    </tr>\n",
       "    <tr>\n",
       "      <th>2003-10-26 01:58:00</th>\n",
       "      <td>0.1</td>\n",
       "    </tr>\n",
       "    <tr>\n",
       "      <th>2003-12-24 15:10:00</th>\n",
       "      <td>6.4</td>\n",
       "    </tr>\n",
       "    <tr>\n",
       "      <th>2003-12-24 15:10:00</th>\n",
       "      <td>20.9</td>\n",
       "    </tr>\n",
       "    <tr>\n",
       "      <th>2003-12-24 15:10:00</th>\n",
       "      <td>6.4</td>\n",
       "    </tr>\n",
       "  </tbody>\n",
       "</table>\n",
       "<p>41 rows × 1 columns</p>\n",
       "</div>"
      ],
      "text/plain": [
       "                     degrees\n",
       "2003-10-26 01:01:00      1.9\n",
       "2003-10-26 01:01:00      0.9\n",
       "2003-10-26 01:07:00      1.9\n",
       "2003-10-26 01:07:00      1.1\n",
       "...                      ...\n",
       "2003-10-26 01:58:00      0.1\n",
       "2003-12-24 15:10:00      6.4\n",
       "2003-12-24 15:10:00     20.9\n",
       "2003-12-24 15:10:00      6.4\n",
       "\n",
       "[41 rows x 1 columns]"
      ]
     },
     "execution_count": 19,
     "metadata": {},
     "output_type": "execute_result"
    }
   ],
   "source": [
    "# Duplicated Timestamps \n",
    "\n",
    "temps[temps.index.duplicated(keep=False)]"
   ]
  },
  {
   "cell_type": "code",
   "execution_count": 26,
   "id": "08ca1968-f5c0-466a-8a28-df169ff3b9e8",
   "metadata": {},
   "outputs": [
    {
     "name": "stdout",
     "output_type": "stream",
     "text": [
      "Length of original DataFrame : 169,513\n",
      "Length of de-duped DataFrame : 169,492\n"
     ]
    }
   ],
   "source": [
    "# Pandas .drop_duplicate() will delete rows with ambiguity such as the 7th row\n",
    "\n",
    "no_dups = (temps\n",
    "          .reset_index()\n",
    "          .drop_duplicates(keep='first', subset='index')\n",
    "          .set_index('index'))\n",
    "\n",
    "print(f\"Length of original DataFrame : {len(temps):,}\")\n",
    "print(f\"Length of de-duped DataFrame : {len(no_dups):,}\")\n"
   ]
  },
  {
   "cell_type": "code",
   "execution_count": 28,
   "id": "081947a7-ab2a-4ce8-8d51-b70526be099b",
   "metadata": {},
   "outputs": [
    {
     "name": "stdout",
     "output_type": "stream",
     "text": [
      "Length of mean-by-duplicate: 169,492\n"
     ]
    },
    {
     "data": {
      "text/plain": [
       "True"
      ]
     },
     "execution_count": 28,
     "metadata": {},
     "output_type": "execute_result"
    }
   ],
   "source": [
    "mean_dups = temps.groupby(temps.index).mean()\n",
    "\n",
    "print(f\"Length of mean-by-duplicate: {len(mean_dups):,}\")\n",
    "mean_dups.index.is_unique"
   ]
  },
  {
   "cell_type": "markdown",
   "id": "04b141e4-5206-4c12-986f-ca5c1ad8ee96",
   "metadata": {},
   "source": [
    "### Adding timestamps "
   ]
  },
  {
   "cell_type": "code",
   "execution_count": 30,
   "id": "25bf2373-200e-46b9-b5c3-689fd721e9c5",
   "metadata": {},
   "outputs": [
    {
     "data": {
      "text/html": [
       "<div>\n",
       "<style scoped>\n",
       "    .dataframe tbody tr th:only-of-type {\n",
       "        vertical-align: middle;\n",
       "    }\n",
       "\n",
       "    .dataframe tbody tr th {\n",
       "        vertical-align: top;\n",
       "    }\n",
       "\n",
       "    .dataframe thead th {\n",
       "        text-align: right;\n",
       "    }\n",
       "</style>\n",
       "<table border=\"1\" class=\"dataframe\">\n",
       "  <thead>\n",
       "    <tr style=\"text-align: right;\">\n",
       "      <th></th>\n",
       "      <th>degrees</th>\n",
       "    </tr>\n",
       "    <tr>\n",
       "      <th>index</th>\n",
       "      <th></th>\n",
       "    </tr>\n",
       "  </thead>\n",
       "  <tbody>\n",
       "    <tr>\n",
       "      <th>2003-07-31</th>\n",
       "      <td>21.508462</td>\n",
       "    </tr>\n",
       "    <tr>\n",
       "      <th>2003-08-31</th>\n",
       "      <td>20.945075</td>\n",
       "    </tr>\n",
       "    <tr>\n",
       "      <th>2003-09-30</th>\n",
       "      <td>14.179293</td>\n",
       "    </tr>\n",
       "    <tr>\n",
       "      <th>2003-10-31</th>\n",
       "      <td>12.544181</td>\n",
       "    </tr>\n",
       "    <tr>\n",
       "      <th>...</th>\n",
       "      <td>...</td>\n",
       "    </tr>\n",
       "    <tr>\n",
       "      <th>2004-04-30</th>\n",
       "      <td>7.708277</td>\n",
       "    </tr>\n",
       "    <tr>\n",
       "      <th>2004-05-31</th>\n",
       "      <td>14.357831</td>\n",
       "    </tr>\n",
       "    <tr>\n",
       "      <th>2004-06-30</th>\n",
       "      <td>15.420425</td>\n",
       "    </tr>\n",
       "    <tr>\n",
       "      <th>2004-07-31</th>\n",
       "      <td>20.527493</td>\n",
       "    </tr>\n",
       "  </tbody>\n",
       "</table>\n",
       "<p>13 rows × 1 columns</p>\n",
       "</div>"
      ],
      "text/plain": [
       "              degrees\n",
       "index                \n",
       "2003-07-31  21.508462\n",
       "2003-08-31  20.945075\n",
       "2003-09-30  14.179293\n",
       "2003-10-31  12.544181\n",
       "...               ...\n",
       "2004-04-30   7.708277\n",
       "2004-05-31  14.357831\n",
       "2004-06-30  15.420425\n",
       "2004-07-31  20.527493\n",
       "\n",
       "[13 rows x 1 columns]"
      ]
     },
     "execution_count": 30,
     "metadata": {},
     "output_type": "execute_result"
    }
   ],
   "source": [
    "# Adding timestamps : Resample the data to a desired frequency \n",
    "\n",
    "no_dups.resample(\"1M\").mean()"
   ]
  },
  {
   "cell_type": "code",
   "execution_count": 34,
   "id": "e1fa30e2-6a2b-46dd-97a5-6ec260e622d6",
   "metadata": {},
   "outputs": [
    {
     "data": {
      "text/html": [
       "<div>\n",
       "<style scoped>\n",
       "    .dataframe tbody tr th:only-of-type {\n",
       "        vertical-align: middle;\n",
       "    }\n",
       "\n",
       "    .dataframe tbody tr th {\n",
       "        vertical-align: top;\n",
       "    }\n",
       "\n",
       "    .dataframe thead th {\n",
       "        text-align: right;\n",
       "    }\n",
       "</style>\n",
       "<table border=\"1\" class=\"dataframe\">\n",
       "  <thead>\n",
       "    <tr style=\"text-align: right;\">\n",
       "      <th></th>\n",
       "      <th>degrees</th>\n",
       "    </tr>\n",
       "    <tr>\n",
       "      <th>month_name</th>\n",
       "      <th></th>\n",
       "    </tr>\n",
       "  </thead>\n",
       "  <tbody>\n",
       "    <tr>\n",
       "      <th>January</th>\n",
       "      <td>0.433968</td>\n",
       "    </tr>\n",
       "    <tr>\n",
       "      <th>February</th>\n",
       "      <td>-0.209109</td>\n",
       "    </tr>\n",
       "    <tr>\n",
       "      <th>March</th>\n",
       "      <td>7.848025</td>\n",
       "    </tr>\n",
       "    <tr>\n",
       "      <th>April</th>\n",
       "      <td>7.708277</td>\n",
       "    </tr>\n",
       "    <tr>\n",
       "      <th>...</th>\n",
       "      <td>...</td>\n",
       "    </tr>\n",
       "    <tr>\n",
       "      <th>September</th>\n",
       "      <td>14.179293</td>\n",
       "    </tr>\n",
       "    <tr>\n",
       "      <th>October</th>\n",
       "      <td>12.544181</td>\n",
       "    </tr>\n",
       "    <tr>\n",
       "      <th>November</th>\n",
       "      <td>2.332037</td>\n",
       "    </tr>\n",
       "    <tr>\n",
       "      <th>December</th>\n",
       "      <td>0.667080</td>\n",
       "    </tr>\n",
       "  </tbody>\n",
       "</table>\n",
       "<p>12 rows × 1 columns</p>\n",
       "</div>"
      ],
      "text/plain": [
       "              degrees\n",
       "month_name           \n",
       "January      0.433968\n",
       "February    -0.209109\n",
       "March        7.848025\n",
       "April        7.708277\n",
       "...               ...\n",
       "September   14.179293\n",
       "October     12.544181\n",
       "November     2.332037\n",
       "December     0.667080\n",
       "\n",
       "[12 rows x 1 columns]"
      ]
     },
     "execution_count": 34,
     "metadata": {},
     "output_type": "execute_result"
    }
   ],
   "source": [
    "# Getting the same effect using .groupby()\n",
    "\n",
    "# Groupby the month number and name\n",
    "by_month = no_dups.groupby(\n",
    "            [no_dups.index.month, no_dups.index.month_name()])\n",
    "\n",
    "# The mean themperature over the month \n",
    "by_month = by_month.mean()\n",
    "\n",
    "# Discard the month number now that the result is sorted\n",
    "by_month = by_month.droplevel(0)\n",
    "\n",
    "# Name the index\n",
    "by_month.index.name = 'month_name'\n",
    "by_month"
   ]
  },
  {
   "cell_type": "code",
   "execution_count": 37,
   "id": "b38c6aea-e67e-4da7-b496-2a53e504b271",
   "metadata": {},
   "outputs": [
    {
     "data": {
      "text/html": [
       "<div>\n",
       "<style scoped>\n",
       "    .dataframe tbody tr th:only-of-type {\n",
       "        vertical-align: middle;\n",
       "    }\n",
       "\n",
       "    .dataframe tbody tr th {\n",
       "        vertical-align: top;\n",
       "    }\n",
       "\n",
       "    .dataframe thead th {\n",
       "        text-align: right;\n",
       "    }\n",
       "</style>\n",
       "<table border=\"1\" class=\"dataframe\">\n",
       "  <thead>\n",
       "    <tr style=\"text-align: right;\">\n",
       "      <th></th>\n",
       "      <th>degrees</th>\n",
       "    </tr>\n",
       "    <tr>\n",
       "      <th>index</th>\n",
       "      <th></th>\n",
       "    </tr>\n",
       "  </thead>\n",
       "  <tbody>\n",
       "    <tr>\n",
       "      <th>2003-07-25 16:04:00</th>\n",
       "      <td>27.5</td>\n",
       "    </tr>\n",
       "    <tr>\n",
       "      <th>2003-07-25 16:07:00</th>\n",
       "      <td>27.3</td>\n",
       "    </tr>\n",
       "    <tr>\n",
       "      <th>2003-07-25 16:10:00</th>\n",
       "      <td>27.3</td>\n",
       "    </tr>\n",
       "    <tr>\n",
       "      <th>2003-07-25 16:13:00</th>\n",
       "      <td>27.4</td>\n",
       "    </tr>\n",
       "    <tr>\n",
       "      <th>...</th>\n",
       "      <td>...</td>\n",
       "    </tr>\n",
       "    <tr>\n",
       "      <th>2004-07-16 15:19:00</th>\n",
       "      <td>16.9</td>\n",
       "    </tr>\n",
       "    <tr>\n",
       "      <th>2004-07-16 15:22:00</th>\n",
       "      <td>16.8</td>\n",
       "    </tr>\n",
       "    <tr>\n",
       "      <th>2004-07-16 15:25:00</th>\n",
       "      <td>16.8</td>\n",
       "    </tr>\n",
       "    <tr>\n",
       "      <th>2004-07-16 15:28:00</th>\n",
       "      <td>16.4</td>\n",
       "    </tr>\n",
       "  </tbody>\n",
       "</table>\n",
       "<p>171349 rows × 1 columns</p>\n",
       "</div>"
      ],
      "text/plain": [
       "                     degrees\n",
       "index                       \n",
       "2003-07-25 16:04:00     27.5\n",
       "2003-07-25 16:07:00     27.3\n",
       "2003-07-25 16:10:00     27.3\n",
       "2003-07-25 16:13:00     27.4\n",
       "...                      ...\n",
       "2004-07-16 15:19:00     16.9\n",
       "2004-07-16 15:22:00     16.8\n",
       "2004-07-16 15:25:00     16.8\n",
       "2004-07-16 15:28:00     16.4\n",
       "\n",
       "[171349 rows x 1 columns]"
      ]
     },
     "execution_count": 37,
     "metadata": {},
     "output_type": "execute_result"
    }
   ],
   "source": [
    "filled_temps = no_dups.asfreq('3T')\n",
    "filled_temps"
   ]
  },
  {
   "cell_type": "code",
   "execution_count": 38,
   "id": "2c454c18-09c4-425f-8c50-fb562ef9ea7a",
   "metadata": {},
   "outputs": [
    {
     "data": {
      "text/plain": [
       "1858"
      ]
     },
     "execution_count": 38,
     "metadata": {},
     "output_type": "execute_result"
    }
   ],
   "source": [
    "sum(filled_temps.degrees.isnull())"
   ]
  },
  {
   "cell_type": "code",
   "execution_count": 39,
   "id": "56e80682-4d42-4e5c-9f02-395e0776d5c4",
   "metadata": {},
   "outputs": [],
   "source": [
    "# Performing high order interpolations : Upsample to one minute frequency and then fill missing timestamps using spline interpolation"
   ]
  },
  {
   "cell_type": "code",
   "execution_count": 40,
   "id": "28f38d46-94eb-49ba-9aae-4fe2615123fb",
   "metadata": {},
   "outputs": [
    {
     "data": {
      "text/html": [
       "<div>\n",
       "<style scoped>\n",
       "    .dataframe tbody tr th:only-of-type {\n",
       "        vertical-align: middle;\n",
       "    }\n",
       "\n",
       "    .dataframe tbody tr th {\n",
       "        vertical-align: top;\n",
       "    }\n",
       "\n",
       "    .dataframe thead th {\n",
       "        text-align: right;\n",
       "    }\n",
       "</style>\n",
       "<table border=\"1\" class=\"dataframe\">\n",
       "  <thead>\n",
       "    <tr style=\"text-align: right;\">\n",
       "      <th></th>\n",
       "      <th>degrees</th>\n",
       "    </tr>\n",
       "    <tr>\n",
       "      <th>Timestamp</th>\n",
       "      <th></th>\n",
       "    </tr>\n",
       "  </thead>\n",
       "  <tbody>\n",
       "    <tr>\n",
       "      <th>2003-07-25 16:04:00</th>\n",
       "      <td>27.5</td>\n",
       "    </tr>\n",
       "    <tr>\n",
       "      <th>2003-07-25 16:05:00</th>\n",
       "      <td>NaN</td>\n",
       "    </tr>\n",
       "    <tr>\n",
       "      <th>2003-07-25 16:06:00</th>\n",
       "      <td>NaN</td>\n",
       "    </tr>\n",
       "    <tr>\n",
       "      <th>2003-07-25 16:07:00</th>\n",
       "      <td>27.3</td>\n",
       "    </tr>\n",
       "    <tr>\n",
       "      <th>...</th>\n",
       "      <td>...</td>\n",
       "    </tr>\n",
       "    <tr>\n",
       "      <th>2004-07-16 15:25:00</th>\n",
       "      <td>16.8</td>\n",
       "    </tr>\n",
       "    <tr>\n",
       "      <th>2004-07-16 15:26:00</th>\n",
       "      <td>NaN</td>\n",
       "    </tr>\n",
       "    <tr>\n",
       "      <th>2004-07-16 15:27:00</th>\n",
       "      <td>NaN</td>\n",
       "    </tr>\n",
       "    <tr>\n",
       "      <th>2004-07-16 15:28:00</th>\n",
       "      <td>16.4</td>\n",
       "    </tr>\n",
       "  </tbody>\n",
       "</table>\n",
       "<p>514045 rows × 1 columns</p>\n",
       "</div>"
      ],
      "text/plain": [
       "                     degrees\n",
       "Timestamp                   \n",
       "2003-07-25 16:04:00     27.5\n",
       "2003-07-25 16:05:00      NaN\n",
       "2003-07-25 16:06:00      NaN\n",
       "2003-07-25 16:07:00     27.3\n",
       "...                      ...\n",
       "2004-07-16 15:25:00     16.8\n",
       "2004-07-16 15:26:00      NaN\n",
       "2004-07-16 15:27:00      NaN\n",
       "2004-07-16 15:28:00     16.4\n",
       "\n",
       "[514045 rows x 1 columns]"
      ]
     },
     "execution_count": 40,
     "metadata": {},
     "output_type": "execute_result"
    }
   ],
   "source": [
    "one_minute_temps = no_dups.asfreq(\"1T\")\n",
    "one_minute_temps.index.name = 'Timestamp'\n",
    "one_minute_temps"
   ]
  },
  {
   "cell_type": "code",
   "execution_count": 42,
   "id": "85e5b5c4-50ed-46c9-92e5-943889cbdc27",
   "metadata": {},
   "outputs": [
    {
     "data": {
      "text/html": [
       "<div>\n",
       "<style scoped>\n",
       "    .dataframe tbody tr th:only-of-type {\n",
       "        vertical-align: middle;\n",
       "    }\n",
       "\n",
       "    .dataframe tbody tr th {\n",
       "        vertical-align: top;\n",
       "    }\n",
       "\n",
       "    .dataframe thead th {\n",
       "        text-align: right;\n",
       "    }\n",
       "</style>\n",
       "<table border=\"1\" class=\"dataframe\">\n",
       "  <thead>\n",
       "    <tr style=\"text-align: right;\">\n",
       "      <th></th>\n",
       "      <th>degrees</th>\n",
       "    </tr>\n",
       "    <tr>\n",
       "      <th>Timestamp</th>\n",
       "      <th></th>\n",
       "    </tr>\n",
       "  </thead>\n",
       "  <tbody>\n",
       "    <tr>\n",
       "      <th>2003-07-25 16:04:00</th>\n",
       "      <td>27.500000</td>\n",
       "    </tr>\n",
       "    <tr>\n",
       "      <th>2003-07-25 16:05:00</th>\n",
       "      <td>27.082346</td>\n",
       "    </tr>\n",
       "    <tr>\n",
       "      <th>2003-07-25 16:06:00</th>\n",
       "      <td>27.079049</td>\n",
       "    </tr>\n",
       "    <tr>\n",
       "      <th>2003-07-25 16:07:00</th>\n",
       "      <td>27.300000</td>\n",
       "    </tr>\n",
       "    <tr>\n",
       "      <th>...</th>\n",
       "      <td>...</td>\n",
       "    </tr>\n",
       "    <tr>\n",
       "      <th>2004-07-16 15:25:00</th>\n",
       "      <td>16.800000</td>\n",
       "    </tr>\n",
       "    <tr>\n",
       "      <th>2004-07-16 15:26:00</th>\n",
       "      <td>15.690037</td>\n",
       "    </tr>\n",
       "    <tr>\n",
       "      <th>2004-07-16 15:27:00</th>\n",
       "      <td>15.645022</td>\n",
       "    </tr>\n",
       "    <tr>\n",
       "      <th>2004-07-16 15:28:00</th>\n",
       "      <td>16.400000</td>\n",
       "    </tr>\n",
       "  </tbody>\n",
       "</table>\n",
       "<p>514045 rows × 1 columns</p>\n",
       "</div>"
      ],
      "text/plain": [
       "                       degrees\n",
       "Timestamp                     \n",
       "2003-07-25 16:04:00  27.500000\n",
       "2003-07-25 16:05:00  27.082346\n",
       "2003-07-25 16:06:00  27.079049\n",
       "2003-07-25 16:07:00  27.300000\n",
       "...                        ...\n",
       "2004-07-16 15:25:00  16.800000\n",
       "2004-07-16 15:26:00  15.690037\n",
       "2004-07-16 15:27:00  15.645022\n",
       "2004-07-16 15:28:00  16.400000\n",
       "\n",
       "[514045 rows x 1 columns]"
      ]
     },
     "execution_count": 42,
     "metadata": {},
     "output_type": "execute_result"
    }
   ],
   "source": [
    "# The high sampling above produces many rows and many NaNs \n",
    "\n",
    "one_minute_temps.interpolate(method='spline', order=3, inplace=True)\n",
    "one_minute_temps"
   ]
  },
  {
   "cell_type": "code",
   "execution_count": 43,
   "id": "0ce023a0-dec4-4da5-b195-9923c3b82659",
   "metadata": {},
   "outputs": [
    {
     "data": {
      "image/png": "[encoded data removed]",
      "text/plain": [
       "<Figure size 1200x300 with 1 Axes>"
      ]
     },
     "metadata": {},
     "output_type": "display_data"
    }
   ],
   "source": [
    "(one_minute_temps\n",
    "    .loc['2003-12-07 ' : '2003-12-12', 'degrees']\n",
    "    .plot(title='Spline interpolation of missing temps',\n",
    "         figsize=(12,3)));\n"
   ]
  },
  {
   "cell_type": "markdown",
   "id": "52912a27-6165-405c-a76c-19affe5f502b",
   "metadata": {},
   "source": [
    "Choosing an interpolation technique is an art"
   ]
  },
  {
   "cell_type": "markdown",
   "id": "759a4605-8c5c-4d17-b14e-ba21b6257fd7",
   "metadata": {},
   "source": [
    "### String Fields \n",
    "\n",
    "• Numeric abstraction of text\n",
    "\n",
    "• Identification of embedded numbers\n",
    "\n",
    "• String distance measures\n",
    "\n",
    "• Phonetic canonicalization\n",
    "\n",
    "• Categorical versus small distinct value count\n",
    "\n",
    "• Uncommon values and factor levels\n",
    "\n",
    "• Parsing non-atomic fields into varying data types"
   ]
  },
  {
   "cell_type": "markdown",
   "id": "77f19a6f-bbb8-4351-ab4c-91b0ba2d1bdd",
   "metadata": {},
   "source": [
    "Data Scientists : \"We don't want books, articles or magazines. But rather categorical, numeric, ordinal or date information\""
   ]
  },
  {
   "cell_type": "code",
   "execution_count": 45,
   "id": "84fc3c38-074e-442a-b0f2-0c2b8642495e",
   "metadata": {},
   "outputs": [
    {
     "data": {
      "text/html": [
       "<div>\n",
       "<style scoped>\n",
       "    .dataframe tbody tr th:only-of-type {\n",
       "        vertical-align: middle;\n",
       "    }\n",
       "\n",
       "    .dataframe tbody tr th {\n",
       "        vertical-align: top;\n",
       "    }\n",
       "\n",
       "    .dataframe thead th {\n",
       "        text-align: right;\n",
       "    }\n",
       "</style>\n",
       "<table border=\"1\" class=\"dataframe\">\n",
       "  <thead>\n",
       "    <tr style=\"text-align: right;\">\n",
       "      <th></th>\n",
       "      <th>Part_No</th>\n",
       "      <th>Description</th>\n",
       "      <th>Maker</th>\n",
       "      <th>Price</th>\n",
       "    </tr>\n",
       "  </thead>\n",
       "  <tbody>\n",
       "    <tr>\n",
       "      <th>0</th>\n",
       "      <td>12345</td>\n",
       "      <td>Wankle rotary engine</td>\n",
       "      <td>Acme Corporation</td>\n",
       "      <td>$ 555.55</td>\n",
       "    </tr>\n",
       "    <tr>\n",
       "      <th>1</th>\n",
       "      <td>No.678</td>\n",
       "      <td>Sousaphone</td>\n",
       "      <td>Marching Inc.</td>\n",
       "      <td>$ 333.33</td>\n",
       "    </tr>\n",
       "    <tr>\n",
       "      <th>2</th>\n",
       "      <td>2468</td>\n",
       "      <td>Feather Duster</td>\n",
       "      <td>Sweeps Bros</td>\n",
       "      <td>$  22.22</td>\n",
       "    </tr>\n",
       "    <tr>\n",
       "      <th>3</th>\n",
       "      <td>#9922</td>\n",
       "      <td>Area 51 metal fragment</td>\n",
       "      <td>No Such Agency</td>\n",
       "      <td>$9999.99</td>\n",
       "    </tr>\n",
       "  </tbody>\n",
       "</table>\n",
       "</div>"
      ],
      "text/plain": [
       "  Part_No             Description             Maker     Price\n",
       "0   12345    Wankle rotary engine  Acme Corporation  $ 555.55\n",
       "1  No.678              Sousaphone     Marching Inc.  $ 333.33\n",
       "2    2468          Feather Duster       Sweeps Bros  $  22.22\n",
       "3   #9922  Area 51 metal fragment    No Such Agency  $9999.99"
      ]
     },
     "execution_count": 45,
     "metadata": {},
     "output_type": "execute_result"
    }
   ],
   "source": [
    "df = pd.read_fwf('data/parts2.fwf')\n",
    "df"
   ]
  },
  {
   "cell_type": "code",
   "execution_count": 64,
   "id": "adff92f1-ddba-4939-8be7-d6c081efea58",
   "metadata": {},
   "outputs": [],
   "source": [
    "# Problem : A dataset has a number of similar family names, that comes from various language but can represent the same person or family "
   ]
  },
  {
   "cell_type": "code",
   "execution_count": 65,
   "id": "9a4ef2cc-51d7-4ee4-9e7c-7e636d15a4a6",
   "metadata": {},
   "outputs": [
    {
     "data": {
      "text/html": [
       "<div>\n",
       "<style scoped>\n",
       "    .dataframe tbody tr th:only-of-type {\n",
       "        vertical-align: middle;\n",
       "    }\n",
       "\n",
       "    .dataframe tbody tr th {\n",
       "        vertical-align: top;\n",
       "    }\n",
       "\n",
       "    .dataframe thead th {\n",
       "        text-align: right;\n",
       "    }\n",
       "</style>\n",
       "<table border=\"1\" class=\"dataframe\">\n",
       "  <thead>\n",
       "    <tr style=\"text-align: right;\">\n",
       "      <th></th>\n",
       "      <th>Group</th>\n",
       "      <th>Last_Name</th>\n",
       "      <th>Other_Data</th>\n",
       "    </tr>\n",
       "  </thead>\n",
       "  <tbody>\n",
       "    <tr>\n",
       "      <th>0</th>\n",
       "      <td>1</td>\n",
       "      <td>Levenshtein</td>\n",
       "      <td>103</td>\n",
       "    </tr>\n",
       "    <tr>\n",
       "      <th>1</th>\n",
       "      <td>1</td>\n",
       "      <td>Levenschtein</td>\n",
       "      <td>158</td>\n",
       "    </tr>\n",
       "    <tr>\n",
       "      <th>2</th>\n",
       "      <td>1</td>\n",
       "      <td>Levenstein</td>\n",
       "      <td>110</td>\n",
       "    </tr>\n",
       "    <tr>\n",
       "      <th>3</th>\n",
       "      <td>2</td>\n",
       "      <td>Hagelin</td>\n",
       "      <td>136</td>\n",
       "    </tr>\n",
       "    <tr>\n",
       "      <th>...</th>\n",
       "      <td>...</td>\n",
       "      <td>...</td>\n",
       "      <td>...</td>\n",
       "    </tr>\n",
       "    <tr>\n",
       "      <th>54</th>\n",
       "      <td>6</td>\n",
       "      <td>Joung</td>\n",
       "      <td>168</td>\n",
       "    </tr>\n",
       "    <tr>\n",
       "      <th>55</th>\n",
       "      <td>6</td>\n",
       "      <td>Chong</td>\n",
       "      <td>101</td>\n",
       "    </tr>\n",
       "    <tr>\n",
       "      <th>56</th>\n",
       "      <td>6</td>\n",
       "      <td>Cheong</td>\n",
       "      <td>133</td>\n",
       "    </tr>\n",
       "    <tr>\n",
       "      <th>57</th>\n",
       "      <td>6</td>\n",
       "      <td>Choung</td>\n",
       "      <td>104</td>\n",
       "    </tr>\n",
       "  </tbody>\n",
       "</table>\n",
       "<p>58 rows × 3 columns</p>\n",
       "</div>"
      ],
      "text/plain": [
       "    Group     Last_Name  Other_Data\n",
       "0       1   Levenshtein         103\n",
       "1       1  Levenschtein         158\n",
       "2       1    Levenstein         110\n",
       "3       2       Hagelin         136\n",
       "..    ...           ...         ...\n",
       "54      6         Joung         168\n",
       "55      6         Chong         101\n",
       "56      6        Cheong         133\n",
       "57      6        Choung         104\n",
       "\n",
       "[58 rows x 3 columns]"
      ]
     },
     "execution_count": 65,
     "metadata": {},
     "output_type": "execute_result"
    }
   ],
   "source": [
    "names = pd.read_csv('data/names.csv')\n",
    "names"
   ]
  },
  {
   "cell_type": "code",
   "execution_count": 66,
   "id": "1d8a5c0d-859d-46ac-b2fd-34f7ad53e6a1",
   "metadata": {},
   "outputs": [],
   "source": [
    "# The metaphone package and the function doublemethapone() produces a pair of primary/secondary encodings for every input string "
   ]
  },
  {
   "cell_type": "code",
   "execution_count": 81,
   "id": "e3fdba12-6df6-455d-aaa2-791892beeb6e",
   "metadata": {},
   "outputs": [],
   "source": [
    "from metaphone import doublemetaphone\n",
    "metas = zip(*names.Last_Name.map(doublemetaphone))\n",
    "names['meta1'], names['meta2'] = metas"
   ]
  },
  {
   "cell_type": "code",
   "execution_count": 82,
   "id": "1071f6fd-f8b4-434c-8ccc-402420fc7bd1",
   "metadata": {},
   "outputs": [
    {
     "name": "stdout",
     "output_type": "stream",
     "text": [
      "Group               2\n",
      "Last_Name     Heislen\n",
      "Other_Data        181\n",
      "meta1             HLN\n",
      "meta2                \n",
      "Name: 6, dtype: object\n"
     ]
    }
   ],
   "source": [
    "with show_more_rows():\n",
    "    print(names.iloc[6])"
   ]
  },
  {
   "cell_type": "code",
   "execution_count": 83,
   "id": "0f1e736f-ba0b-4fba-bfb8-73eade6e0f01",
   "metadata": {},
   "outputs": [
    {
     "name": "stdout",
     "output_type": "stream",
     "text": [
      "Group                2\n",
      "Last_Name     Haugland\n",
      "Other_Data         190\n",
      "meta1            HKLNT\n",
      "meta2                 \n",
      "Name: 5, dtype: object\n"
     ]
    }
   ],
   "source": [
    "with show_more_rows():\n",
    "    print(names.loc[5])"
   ]
  },
  {
   "cell_type": "markdown",
   "id": "3d5d4b62-6275-44f2-aaa1-897400c4645c",
   "metadata": {},
   "source": [
    "### Explicit categories"
   ]
  },
  {
   "cell_type": "code",
   "execution_count": 85,
   "id": "0f70cebf-914a-434d-a0e6-fa4860b65bc7",
   "metadata": {},
   "outputs": [
    {
     "data": {
      "text/html": [
       "<div>\n",
       "<style scoped>\n",
       "    .dataframe tbody tr th:only-of-type {\n",
       "        vertical-align: middle;\n",
       "    }\n",
       "\n",
       "    .dataframe tbody tr th {\n",
       "        vertical-align: top;\n",
       "    }\n",
       "\n",
       "    .dataframe thead th {\n",
       "        text-align: right;\n",
       "    }\n",
       "</style>\n",
       "<table border=\"1\" class=\"dataframe\">\n",
       "  <thead>\n",
       "    <tr style=\"text-align: right;\">\n",
       "      <th></th>\n",
       "      <th>Name</th>\n",
       "      <th>Height</th>\n",
       "      <th>Weight</th>\n",
       "    </tr>\n",
       "  </thead>\n",
       "  <tbody>\n",
       "    <tr>\n",
       "      <th>0</th>\n",
       "      <td>James</td>\n",
       "      <td>167.089607</td>\n",
       "      <td>64.806216</td>\n",
       "    </tr>\n",
       "    <tr>\n",
       "      <th>1</th>\n",
       "      <td>David</td>\n",
       "      <td>181.648633</td>\n",
       "      <td>78.281527</td>\n",
       "    </tr>\n",
       "    <tr>\n",
       "      <th>2</th>\n",
       "      <td>Barbara</td>\n",
       "      <td>176.272800</td>\n",
       "      <td>87.767722</td>\n",
       "    </tr>\n",
       "    <tr>\n",
       "      <th>3</th>\n",
       "      <td>John</td>\n",
       "      <td>173.270164</td>\n",
       "      <td>81.635672</td>\n",
       "    </tr>\n",
       "    <tr>\n",
       "      <th>...</th>\n",
       "      <td>...</td>\n",
       "      <td>...</td>\n",
       "      <td>...</td>\n",
       "    </tr>\n",
       "    <tr>\n",
       "      <th>24996</th>\n",
       "      <td>Michael</td>\n",
       "      <td>163.952580</td>\n",
       "      <td>68.936137</td>\n",
       "    </tr>\n",
       "    <tr>\n",
       "      <th>24997</th>\n",
       "      <td>Marie</td>\n",
       "      <td>164.334317</td>\n",
       "      <td>67.830516</td>\n",
       "    </tr>\n",
       "    <tr>\n",
       "      <th>24998</th>\n",
       "      <td>Robert</td>\n",
       "      <td>171.524117</td>\n",
       "      <td>75.861686</td>\n",
       "    </tr>\n",
       "    <tr>\n",
       "      <th>24999</th>\n",
       "      <td>James</td>\n",
       "      <td>174.949129</td>\n",
       "      <td>71.620899</td>\n",
       "    </tr>\n",
       "  </tbody>\n",
       "</table>\n",
       "<p>25000 rows × 3 columns</p>\n",
       "</div>"
      ],
      "text/plain": [
       "          Name      Height     Weight\n",
       "0        James  167.089607  64.806216\n",
       "1        David  181.648633  78.281527\n",
       "2      Barbara  176.272800  87.767722\n",
       "3         John  173.270164  81.635672\n",
       "...        ...         ...        ...\n",
       "24996  Michael  163.952580  68.936137\n",
       "24997    Marie  164.334317  67.830516\n",
       "24998   Robert  171.524117  75.861686\n",
       "24999    James  174.949129  71.620899\n",
       "\n",
       "[25000 rows x 3 columns]"
      ]
     },
     "execution_count": 85,
     "metadata": {},
     "output_type": "execute_result"
    }
   ],
   "source": [
    "# Problem : Most names are probably mispelling  \n",
    "\n",
    "humans = pd.read_csv('data/humans-names.csv')\n",
    "humans"
   ]
  },
  {
   "cell_type": "code",
   "execution_count": 86,
   "id": "a30a58b8-95d6-4a40-848f-d00ec3a33dd3",
   "metadata": {},
   "outputs": [
    {
     "data": {
      "text/html": [
       "<div>\n",
       "<style scoped>\n",
       "    .dataframe tbody tr th:only-of-type {\n",
       "        vertical-align: middle;\n",
       "    }\n",
       "\n",
       "    .dataframe tbody tr th {\n",
       "        vertical-align: top;\n",
       "    }\n",
       "\n",
       "    .dataframe thead th {\n",
       "        text-align: right;\n",
       "    }\n",
       "</style>\n",
       "<table border=\"1\" class=\"dataframe\">\n",
       "  <thead>\n",
       "    <tr style=\"text-align: right;\">\n",
       "      <th></th>\n",
       "      <th>Name</th>\n",
       "      <th>Height</th>\n",
       "      <th>Weight</th>\n",
       "    </tr>\n",
       "  </thead>\n",
       "  <tbody>\n",
       "    <tr>\n",
       "      <th>0</th>\n",
       "      <td>James</td>\n",
       "      <td>167.089607</td>\n",
       "      <td>64.806216</td>\n",
       "    </tr>\n",
       "    <tr>\n",
       "      <th>1</th>\n",
       "      <td>David</td>\n",
       "      <td>181.648633</td>\n",
       "      <td>78.281527</td>\n",
       "    </tr>\n",
       "    <tr>\n",
       "      <th>2</th>\n",
       "      <td>Barbara</td>\n",
       "      <td>176.272800</td>\n",
       "      <td>87.767722</td>\n",
       "    </tr>\n",
       "    <tr>\n",
       "      <th>3</th>\n",
       "      <td>John</td>\n",
       "      <td>173.270164</td>\n",
       "      <td>81.635672</td>\n",
       "    </tr>\n",
       "    <tr>\n",
       "      <th>...</th>\n",
       "      <td>...</td>\n",
       "      <td>...</td>\n",
       "      <td>...</td>\n",
       "    </tr>\n",
       "    <tr>\n",
       "      <th>24579</th>\n",
       "      <td>Michael</td>\n",
       "      <td>163.952580</td>\n",
       "      <td>68.936137</td>\n",
       "    </tr>\n",
       "    <tr>\n",
       "      <th>24580</th>\n",
       "      <td>Marie</td>\n",
       "      <td>164.334317</td>\n",
       "      <td>67.830516</td>\n",
       "    </tr>\n",
       "    <tr>\n",
       "      <th>24581</th>\n",
       "      <td>Robert</td>\n",
       "      <td>171.524117</td>\n",
       "      <td>75.861686</td>\n",
       "    </tr>\n",
       "    <tr>\n",
       "      <th>24582</th>\n",
       "      <td>James</td>\n",
       "      <td>174.949129</td>\n",
       "      <td>71.620899</td>\n",
       "    </tr>\n",
       "  </tbody>\n",
       "</table>\n",
       "<p>24583 rows × 3 columns</p>\n",
       "</div>"
      ],
      "text/plain": [
       "          Name      Height     Weight\n",
       "0        James  167.089607  64.806216\n",
       "1        David  181.648633  78.281527\n",
       "2      Barbara  176.272800  87.767722\n",
       "3         John  173.270164  81.635672\n",
       "...        ...         ...        ...\n",
       "24579  Michael  163.952580  68.936137\n",
       "24580    Marie  164.334317  67.830516\n",
       "24581   Robert  171.524117  75.861686\n",
       "24582    James  174.949129  71.620899\n",
       "\n",
       "[24583 rows x 3 columns]"
      ]
     },
     "execution_count": 86,
     "metadata": {},
     "output_type": "execute_result"
    }
   ],
   "source": [
    "name_counts = humans.Name.value_counts()\n",
    "uncommon = name_counts[name_counts < 10]\n",
    "humans = (humans\n",
    "          .set_index('Name')\n",
    "          .drop(uncommon.index)\n",
    "          .reset_index())\n",
    "\n",
    "humans"
   ]
  },
  {
   "cell_type": "code",
   "execution_count": 89,
   "id": "1097fdc3-f23c-44ee-8f06-f91e29276f96",
   "metadata": {},
   "outputs": [
    {
     "data": {
      "text/plain": [
       "CategoricalDtype(categories=['Barbara', 'David', 'Elizabeth', 'James', 'Jennifer',\n",
       "                  'Jessica', 'John', 'Jon', 'Joseph', 'Linda', 'Marie', 'Mary',\n",
       "                  'Michael', 'Patricia', 'Richard', 'Robert', 'Susan',\n",
       "                  'William'],\n",
       ", ordered=False, categories_dtype=object)"
      ]
     },
     "execution_count": 89,
     "metadata": {},
     "output_type": "execute_result"
    }
   ],
   "source": [
    "# Only 18 unique names remaining \n",
    "\n",
    "humans['Name'] = humans.Name.astype('category')\n",
    "humans.Name.dtype"
   ]
  },
  {
   "cell_type": "code",
   "execution_count": 90,
   "id": "ccf1195c-5126-43c9-9b81-b3a57615c8f8",
   "metadata": {},
   "outputs": [
    {
     "data": {
      "text/html": [
       "<div>\n",
       "<style scoped>\n",
       "    .dataframe tbody tr th:only-of-type {\n",
       "        vertical-align: middle;\n",
       "    }\n",
       "\n",
       "    .dataframe tbody tr th {\n",
       "        vertical-align: top;\n",
       "    }\n",
       "\n",
       "    .dataframe thead th {\n",
       "        text-align: right;\n",
       "    }\n",
       "</style>\n",
       "<table border=\"1\" class=\"dataframe\">\n",
       "  <thead>\n",
       "    <tr style=\"text-align: right;\">\n",
       "      <th></th>\n",
       "      <th>Name</th>\n",
       "      <th>Height</th>\n",
       "      <th>Weight</th>\n",
       "    </tr>\n",
       "  </thead>\n",
       "  <tbody>\n",
       "    <tr>\n",
       "      <th>19</th>\n",
       "      <td>Mary</td>\n",
       "      <td>170.513197</td>\n",
       "      <td>71.145258</td>\n",
       "    </tr>\n",
       "    <tr>\n",
       "      <th>35</th>\n",
       "      <td>Mary</td>\n",
       "      <td>175.783570</td>\n",
       "      <td>73.843096</td>\n",
       "    </tr>\n",
       "    <tr>\n",
       "      <th>54</th>\n",
       "      <td>Mary</td>\n",
       "      <td>166.074242</td>\n",
       "      <td>70.826540</td>\n",
       "    </tr>\n",
       "    <tr>\n",
       "      <th>61</th>\n",
       "      <td>Mary</td>\n",
       "      <td>175.258933</td>\n",
       "      <td>78.888337</td>\n",
       "    </tr>\n",
       "    <tr>\n",
       "      <th>...</th>\n",
       "      <td>...</td>\n",
       "      <td>...</td>\n",
       "      <td>...</td>\n",
       "    </tr>\n",
       "    <tr>\n",
       "      <th>24532</th>\n",
       "      <td>Mary</td>\n",
       "      <td>172.602398</td>\n",
       "      <td>72.602118</td>\n",
       "    </tr>\n",
       "    <tr>\n",
       "      <th>24536</th>\n",
       "      <td>Mary</td>\n",
       "      <td>172.159574</td>\n",
       "      <td>70.383305</td>\n",
       "    </tr>\n",
       "    <tr>\n",
       "      <th>24547</th>\n",
       "      <td>Mary</td>\n",
       "      <td>173.902497</td>\n",
       "      <td>71.545191</td>\n",
       "    </tr>\n",
       "    <tr>\n",
       "      <th>24549</th>\n",
       "      <td>Mary</td>\n",
       "      <td>169.510964</td>\n",
       "      <td>71.460077</td>\n",
       "    </tr>\n",
       "  </tbody>\n",
       "</table>\n",
       "<p>1515 rows × 3 columns</p>\n",
       "</div>"
      ],
      "text/plain": [
       "       Name      Height     Weight\n",
       "19     Mary  170.513197  71.145258\n",
       "35     Mary  175.783570  73.843096\n",
       "54     Mary  166.074242  70.826540\n",
       "61     Mary  175.258933  78.888337\n",
       "...     ...         ...        ...\n",
       "24532  Mary  172.602398  72.602118\n",
       "24536  Mary  172.159574  70.383305\n",
       "24547  Mary  173.902497  71.545191\n",
       "24549  Mary  169.510964  71.460077\n",
       "\n",
       "[1515 rows x 3 columns]"
      ]
     },
     "execution_count": 90,
     "metadata": {},
     "output_type": "execute_result"
    }
   ],
   "source": [
    "humans[humans.Name == 'Mary']"
   ]
  },
  {
   "cell_type": "code",
   "execution_count": 93,
   "id": "bcd1665b-c014-4e52-9bed-3d983b382b42",
   "metadata": {},
   "outputs": [
    {
     "name": "stdout",
     "output_type": "stream",
     "text": [
      "Rows: 25000 Columns: 3\n",
      "── Column specification ────────────────────────────────────────────────────────\n",
      "Delimiter: \",\"\n",
      "chr (1): Name\n",
      "dbl (2): Height, Weight\n",
      "\n",
      "ℹ Use `spec()` to retrieve the full column specification for this data.\n",
      "ℹ Specify the column types or set `show_col_types = FALSE` to quiet this message.\n",
      "# A tibble: 25,000 × 3\n",
      "   Name      Height Weight\n",
      "   <chr>      <dbl>  <dbl>\n",
      " 1 James       167.   64.8\n",
      " 2 David       182.   78.3\n",
      " 3 Barbara     176.   87.8\n",
      " 4 John        173.   81.6\n",
      " 5 Michael     172.   82.8\n",
      " 6 William     174.   70.7\n",
      " 7 Elizabeth   177.   81.2\n",
      " 8 Joseph      178.   78.3\n",
      " 9 Jessica     172.   64.5\n",
      "10 William     170.   69.2\n",
      "# … with 24,990 more rows\n"
     ]
    }
   ],
   "source": [
    "%%R\n",
    "# Analyzing the same dataset in R\n",
    "# Advantage : Easy conversion between factor variables and the underlying datatype\n",
    "\n",
    "humans <- read_csv('data/humans-names.csv')\n",
    "humans"
   ]
  },
  {
   "cell_type": "code",
   "execution_count": 95,
   "id": "462c70b3-01fe-4098-89d2-e28113101e53",
   "metadata": {},
   "outputs": [
    {
     "name": "stdout",
     "output_type": "stream",
     "text": [
      "# A tibble: 25,000 × 3\n",
      "   Name      Height Weight\n",
      "   <fct>      <dbl>  <dbl>\n",
      " 1 James       167.   64.8\n",
      " 2 David       182.   78.3\n",
      " 3 Barbara     176.   87.8\n",
      " 4 John        173.   81.6\n",
      " 5 Michael     172.   82.8\n",
      " 6 William     174.   70.7\n",
      " 7 Elizabeth   177.   81.2\n",
      " 8 Joseph      178.   78.3\n",
      " 9 Jessica     172.   64.5\n",
      "10 William     170.   69.2\n",
      "# … with 24,990 more rows\n"
     ]
    }
   ],
   "source": [
    "%%R \n",
    "\n",
    "# Make the column name into a factor variable\n",
    "humans <- mutate_at(humans, vars(Name), factor)\n",
    "\n",
    "# Any values occurring fewer than 100 times will be added to the factor variable 'UNCOMMON'\n",
    "\n",
    "humans['Name'] <- fct_lump_min(humans$Name, min = 100, other_level = 'UNCOMMON')\n",
    "humans"
   ]
  },
  {
   "cell_type": "code",
   "execution_count": 97,
   "id": "137d194f-d756-4db2-90a3-1848d767fe4d",
   "metadata": {},
   "outputs": [
    {
     "name": "stdout",
     "output_type": "stream",
     "text": [
      " [1] \"Barbara\"   \"David\"     \"Elizabeth\" \"James\"     \"Jennifer\"  \"Jessica\"  \n",
      " [7] \"John\"      \"Jon\"       \"Joseph\"    \"Linda\"     \"Marie\"     \"Mary\"     \n",
      "[13] \"Michael\"   \"Patricia\"  \"Richard\"   \"Robert\"    \"Susan\"     \"William\"  \n",
      "[19] \"UNCOMMON\" \n"
     ]
    }
   ],
   "source": [
    "%%R \n",
    "levels(humans$Name)"
   ]
  },
  {
   "cell_type": "code",
   "execution_count": 98,
   "id": "f7aba2e6-b647-475f-a9fd-ecc658bcc686",
   "metadata": {},
   "outputs": [
    {
     "name": "stdout",
     "output_type": "stream",
     "text": [
      "# A tibble: 417 × 3\n",
      "   Name     Height Weight\n",
      "   <fct>     <dbl>  <dbl>\n",
      " 1 UNCOMMON   172.   76.5\n",
      " 2 UNCOMMON   167.   60.3\n",
      " 3 UNCOMMON   182.   85.2\n",
      " 4 UNCOMMON   176.   72.3\n",
      " 5 UNCOMMON   174.   82.1\n",
      " 6 UNCOMMON   170.   66.8\n",
      " 7 UNCOMMON   171.   60.0\n",
      " 8 UNCOMMON   171.   73.9\n",
      " 9 UNCOMMON   171.   80.4\n",
      "10 UNCOMMON   177.   73.3\n",
      "# … with 407 more rows\n"
     ]
    }
   ],
   "source": [
    "%%R\n",
    "\n",
    "\n",
    "humans %>% filter(Name == 'UNCOMMON')"
   ]
  },
  {
   "cell_type": "code",
   "execution_count": 100,
   "id": "03969f24-0406-4414-9b97-5f51d19fc014",
   "metadata": {},
   "outputs": [
    {
     "data": {
      "image/png": "[encoded data removed]",
      "text/plain": [
       "<IPython.core.display.Image object>"
      ]
     },
     "metadata": {},
     "output_type": "display_data"
    }
   ],
   "source": [
    "%%R \n",
    "# Checking the distribution plot \n",
    "ggplot(humans, aes(y = Name)) + geom_bar(stat = 'count')"
   ]
  },
  {
   "cell_type": "markdown",
   "id": "5c98d9b0-1b1c-4fbc-9e3c-954f6ec9e3e0",
   "metadata": {},
   "source": [
    "### String Vectors\n",
    "\n",
    "Strings in the natural language processing sense : texts of human languages which we might transform\n",
    "into numeric representations.\n",
    "\n",
    "Concepts:\n",
    "\n",
    "• Bag-of-words\n",
    "\n",
    "• Word2Vec\n",
    "\n",
    "• Cosine similarity\n",
    "\n",
    "• Stop words, tokenization, lemmatization\n",
    "\n",
    "How can you encode strings of natural language into numeric features ? "
   ]
  },
  {
   "cell_type": "code",
   "execution_count": 102,
   "id": "9e16a97c-c90b-497e-b58c-fb9b74de5a03",
   "metadata": {},
   "outputs": [],
   "source": [
    "# William Butler Yeats\n",
    "\n",
    "second_coming = \"\"\"\n",
    "Turning and turning in the widening gyre\n",
    "The falcon cannot hear the falconer;\n",
    "Things fall apart; the centre cannot hold;\n",
    "Mere anarchy is loosed upon the world,\n",
    "The blood-dimmed tide is loosed, and everywhere\n",
    "The ceremony of innocence is drowned;\n",
    "The best lack all conviction, while the worst\n",
    "Are full of passionate intensity.\n",
    "Surely some revelation is at hand;\n",
    "Surely the Second Coming is at hand.\n",
    "The Second Coming! Hardly are those words out\n",
    "When a vast image out of Spiritus Mundi\n",
    "Troubles my sight: somewhere in sands of the desert\n",
    "A shape with lion body and the head of a man,\n",
    "A gaze blank and pitiless as the sun,\n",
    "Is moving its slow thighs, while all about it\n",
    "Reel shadows of the indignant desert birds.\n",
    "The darkness drops again; but now I know\n",
    "That twenty centuries of stony sleep\n",
    "Were vexed to nightmare by a rocking cradle,\n",
    "And what rough beast, its hour come round at last,\n",
    "Slouches towards Bethlehem to be born?\n",
    "\"\"\""
   ]
  },
  {
   "cell_type": "code",
   "execution_count": 110,
   "id": "fbdf0f52-e9fc-4c7e-af5e-7184f085cecf",
   "metadata": {},
   "outputs": [
    {
     "data": {
      "text/plain": [
       "['turning', 'turning', 'widening', 'gyre', 'falcon', 'cannot']"
      ]
     },
     "execution_count": 110,
     "metadata": {},
     "output_type": "execute_result"
    }
   ],
   "source": [
    "# Problem 1 : Reduce the mote to a sequence of more canonical words  (Tokenization)\n",
    "\n",
    "def simplify_text(text):\n",
    "    stops = nltk.corpus.stopwords.words('english')\n",
    "    words = re.findall(r'[a-z]+', text.lower())\n",
    "    return [w for w in words if w not in stops]\n",
    "\n",
    "poem = simplify_text(second_coming)\n",
    "poem[:6]\n"
   ]
  },
  {
   "cell_type": "code",
   "execution_count": 107,
   "id": "d547dc79-dc48-4da3-b392-6a8927647d98",
   "metadata": {},
   "outputs": [],
   "source": [
    "# Goal encode each fragment (any kind of division in the data) using a vector"
   ]
  },
  {
   "cell_type": "code",
   "execution_count": 106,
   "id": "9e4b480f-abc3-4d95-b902-2b59988e5539",
   "metadata": {},
   "outputs": [
    {
     "name": "stdout",
     "output_type": "stream",
     "text": [
      "Vector dimensions=84\n"
     ]
    },
    {
     "data": {
      "text/plain": [
       "[('darkness', 0), ('sun', 1), ('image', 2), ('turning', 3), ('vast', 4)]"
      ]
     },
     "execution_count": 106,
     "metadata": {},
     "output_type": "execute_result"
    }
   ],
   "source": [
    "word2ndx = {w:n for (n, w) in enumerate(set(poem))}\n",
    "print(f\"Vector dimensions={len(word2ndx)}\")\n",
    "\n",
    "def make_vector(words, word2ndx=word2ndx):\n",
    "    # Generate the vector of zero count per dimension\n",
    "    vec = np.zeros(len(word2ndx), dtype=np.uint16)\n",
    "    for word in words:\n",
    "\n",
    "            # we might ignore unknown word or attempt\n",
    "            # to canonicalize it, here we raise exception\n",
    "            assert word in word2ndx\n",
    "            n = word2ndx[word]\n",
    "            vec[n] += 1\n",
    "    return vec\n",
    "list(word2ndx.items())[:5]"
   ]
  },
  {
   "cell_type": "code",
   "execution_count": 116,
   "id": "86f27061-77dc-475c-96a5-805797261713",
   "metadata": {},
   "outputs": [
    {
     "name": "stdout",
     "output_type": "stream",
     "text": [
      "Stanza 1:\n",
      "[1 1 1 2 1 1 1 1 1 1 2 1 1 2 1 1 1 1 1 1 1 1 1 1 1 1 1 1 1 1 1 1 1 1 1 1 1\n",
      " 1 1 1 2 1 1 1 1 1 1 1 1 1 1 1 1 1 1 1 2 1 1 1 1 2 1 1 1 1 1 1 1 1 1 1 1 1\n",
      " 1 1 1 1 1 1 2 1 1 2]\n"
     ]
    }
   ],
   "source": [
    "# Encode each stanza or fragment as a vector \n",
    "\n",
    "for i, stanza in enumerate(second_coming.split('\\n\\n')):\n",
    "    print(f'Stanza {i+1}:')\n",
    "    print(make_vector(simplify_text(stanza)))"
   ]
  },
  {
   "cell_type": "code",
   "execution_count": 117,
   "id": "fcb3210a-ac41-479a-9204-f10848427671",
   "metadata": {},
   "outputs": [],
   "source": [
    "# These vectors above represent a distinction between the meaning of the two stanzas "
   ]
  },
  {
   "cell_type": "code",
   "execution_count": 119,
   "id": "d72bad25-e13b-4da3-9b2d-be28823070f2",
   "metadata": {},
   "outputs": [
    {
     "name": "stdout",
     "output_type": "stream",
     "text": [
      "[('Paul_Faust',\n",
      "  'United',\n",
      "  '@united Love to report how horrible this flight is to '\n",
      "  \"your team. Let's make it worse...as they get to my \"\n",
      "  'seat...out of all snacks'),\n",
      " ('Jennsaint8',\n",
      "  'Southwest',\n",
      "  '@SouthwestAir any chance they will change this to '\n",
      "  'include Northeast airports?  JetBlue has.'),\n",
      " ('_stephanieejayy',\n",
      "  'Delta',\n",
      "  '@JetBlue do you have any afternoon flights going from '\n",
      "  'BQN to JFK? I only seem to find early morning flights.')]\n"
     ]
    }
   ],
   "source": [
    "# Ilustrating Word2Vec\n",
    "\n",
    "db = sqlite3.connect('data/Airline-Tweets.sqlite')\n",
    "cur = db.cursor()\n",
    "\n",
    "sql = \"\"\"\n",
    "    SELECT name, airline, text\n",
    "    FROM Tweets\n",
    "\"\"\"\n",
    "\n",
    "cur.execute(sql)\n",
    "tweets = cur.fetchall()\n",
    "pprint(tweets[5000:5003], width=60)"
   ]
  },
  {
   "cell_type": "code",
   "execution_count": 121,
   "id": "eecb77b7-e2cc-4956-be61-d06f1b4a195a",
   "metadata": {},
   "outputs": [
    {
     "name": "stdout",
     "output_type": "stream",
     "text": [
      "Collecting gensim\n",
      "  Downloading gensim-4.3.2-cp311-cp311-manylinux_2_17_x86_64.manylinux2014_x86_64.whl.metadata (8.3 kB)\n",
      "Requirement already satisfied: numpy>=1.18.5 in /home/jose/anaconda3/envs/data-cleaning/lib/python3.11/site-packages (from gensim) (1.26.3)\n",
      "Requirement already satisfied: scipy>=1.7.0 in /home/jose/anaconda3/envs/data-cleaning/lib/python3.11/site-packages (from gensim) (1.11.4)\n",
      "Collecting smart-open>=1.8.1 (from gensim)\n",
      "  Downloading smart_open-6.4.0-py3-none-any.whl.metadata (21 kB)\n",
      "Downloading gensim-4.3.2-cp311-cp311-manylinux_2_17_x86_64.manylinux2014_x86_64.whl (26.7 MB)\n",
      "\u001b[2K   \u001b[38;2;114;156;31m━━━━━━━━━━━━━━━━━━━━━━━━━━━━━━━━━━━━━━━━\u001b[0m \u001b[32m26.7/26.7 MB\u001b[0m \u001b[31m2.9 MB/s\u001b[0m eta \u001b[36m0:00:00\u001b[0mm eta \u001b[36m0:00:01\u001b[0m[36m0:00:01\u001b[0m\n",
      "\u001b[?25hDownloading smart_open-6.4.0-py3-none-any.whl (57 kB)\n",
      "\u001b[2K   \u001b[38;2;114;156;31m━━━━━━━━━━━━━━━━━━━━━━━━━━━━━━━━━━━━━━━━\u001b[0m \u001b[32m57.0/57.0 kB\u001b[0m \u001b[31m248.5 kB/s\u001b[0m eta \u001b[36m0:00:00\u001b[0m1m24.1 MB/s\u001b[0m eta \u001b[36m0:00:01\u001b[0m\n",
      "\u001b[?25hInstalling collected packages: smart-open, gensim\n",
      "Successfully installed gensim-4.3.2 smart-open-6.4.0\n"
     ]
    }
   ],
   "source": [
    "!pip3 install gensim"
   ]
  },
  {
   "cell_type": "code",
   "execution_count": 122,
   "id": "87b8b5a4-a900-430c-bc01-d69a15f70bb4",
   "metadata": {},
   "outputs": [],
   "source": [
    "# Ilustrating the gensim API\n",
    "\n",
    "from gensim.models.doc2vec import Doc2Vec, TaggedDocument\n",
    "\n",
    "docs = []\n",
    "\n",
    "for (author, airline, msg) in tweets:\n",
    "    td = TaggedDocument(simplify_text(msg), [author, airline])\n",
    "    docs.append(td)\n",
    "\n",
    "model = Doc2Vec(docs, vector_size=10, window=2, min_count=4)"
   ]
  },
  {
   "cell_type": "code",
   "execution_count": 125,
   "id": "8bc87243-da30-4170-b637-aadfb16418d6",
   "metadata": {},
   "outputs": [
    {
     "name": "stdout",
     "output_type": "stream",
     "text": [
      "@AmericanAir thank you for responding rather quickly btw\n"
     ]
    },
    {
     "data": {
      "text/plain": [
       "array([-0.14964332, -0.03346601, -0.10249715, -0.1389846 , -0.05954354,\n",
       "       -0.05517555,  0.2092617 , -0.07574931, -0.31764498, -0.38325563],\n",
       "      dtype=float32)"
      ]
     },
     "execution_count": 125,
     "metadata": {},
     "output_type": "execute_result"
    }
   ],
   "source": [
    "msg = tweets[11_001][2]\n",
    "print(msg)\n",
    "model.infer_vector(simplify_text(msg))"
   ]
  },
  {
   "cell_type": "code",
   "execution_count": 126,
   "id": "29a0a797-d90f-43f3-ac98-3332535ff3b2",
   "metadata": {},
   "outputs": [
    {
     "data": {
      "text/plain": [
       "array([-0.02554564, -0.02768496, -0.04438451, -0.14018553, -0.10809704,\n",
       "       -0.07857754,  0.04561354, -0.03316664, -0.04109631, -0.10278367],\n",
       "      dtype=float32)"
      ]
     },
     "execution_count": 126,
     "metadata": {},
     "output_type": "execute_result"
    }
   ],
   "source": [
    "badservice = model.infer_vector(['bad' , 'service'])\n",
    "badservice"
   ]
  },
  {
   "cell_type": "code",
   "execution_count": 127,
   "id": "8be4295c-52b7-4632-a448-5bfafdae0bc7",
   "metadata": {},
   "outputs": [
    {
     "data": {
      "text/plain": [
       "[('provided', 0.9343312978744507),\n",
       " ('worse', 0.9230579733848572),\n",
       " ('july', 0.9085635542869568),\n",
       " ('part', 0.9077404141426086),\n",
       " ('disappointed', 0.9020770788192749),\n",
       " ('experienced', 0.900313138961792),\n",
       " ('fail', 0.8963047862052917),\n",
       " ('attitude', 0.8924351334571838),\n",
       " ('upset', 0.8894950151443481),\n",
       " ('nightmare', 0.8790352940559387)]"
      ]
     },
     "execution_count": 127,
     "metadata": {},
     "output_type": "execute_result"
    }
   ],
   "source": [
    "model.wv.most_similar(['bad', 'service'])"
   ]
  },
  {
   "cell_type": "code",
   "execution_count": 131,
   "id": "0b93280c-8a11-4279-aa83-bec80d7b64f6",
   "metadata": {},
   "outputs": [
    {
     "name": "stdout",
     "output_type": "stream",
     "text": [
      "Delta:\n",
      "[ -0.3979866   -1.9696087   -3.0869608   -6.275085    -1.3127531\n",
      "  -1.2575351    0.90009034   5.050528   -10.164126    -8.840483  ]\n",
      "\n",
      "United:\n",
      "[ -1.7012129   -4.726956    -0.8999869   -5.741073     0.99306643\n",
      "  -4.1931753    1.6685336   -1.3974644   -1.5957341  -10.233624  ]\n",
      "\n",
      "JetBlue:\n",
      "[-0.04790262 -0.05752031  0.11416654 -0.09059612  0.06250089 -0.02703419\n",
      " -0.01217271 -0.00646286  0.01464811  0.04913175]\n",
      "\n"
     ]
    }
   ],
   "source": [
    "airlines = ('Delta', 'United', 'JetBlue')\n",
    "delta, united, jetblue = (model.docvecs[x] for x in airlines)\n",
    "print(f\"Delta:\\n{delta}\\n\")\n",
    "print(f\"United:\\n{united}\\n\")\n",
    "print(f\"JetBlue:\\n{jetblue}\\n\")\n",
    "\n"
   ]
  },
  {
   "cell_type": "code",
   "execution_count": 132,
   "id": "fcc55430-df22-4465-bfe3-694a5b3f6632",
   "metadata": {},
   "outputs": [
    {
     "name": "stdout",
     "output_type": "stream",
     "text": [
      "Delta | United | 0.312\n",
      "Delta | JetBlue | 1.108\n",
      "United | JetBlue | 0.840\n"
     ]
    }
   ],
   "source": [
    "from scipy.spatial.distance import cosine\n",
    "# How similar is what people tweet about these airlines ? \n",
    "\n",
    "print(f\"Delta | United | {cosine(delta, united):.3f}\")\n",
    "print(f\"Delta | JetBlue | {cosine(delta, jetblue):.3f}\")\n",
    "print(f\"United | JetBlue | {cosine(united, jetblue):.3f}\")\n"
   ]
  },
  {
   "cell_type": "markdown",
   "id": "3cb54af4-cf38-488c-b675-0076cfc1ce73",
   "metadata": {},
   "source": [
    "### Decompositions \n",
    "\n",
    "Concepts:\n",
    "\n",
    "• Principal Component Analysis and other decompositions\n",
    "\n",
    "• Whitening\n",
    "\n",
    "• Dimensionality reduction\n",
    "\n",
    "• Visualization with t-SNE and UMAP"
   ]
  },
  {
   "cell_type": "markdown",
   "id": "f805acb2-598c-49f2-9301-486e302f7b10",
   "metadata": {},
   "source": [
    "### Rotation and Whitening "
   ]
  },
  {
   "cell_type": "code",
   "execution_count": 138,
   "id": "e6846453-c84b-4ff7-81bd-5be8fe604856",
   "metadata": {},
   "outputs": [
    {
     "data": {
      "image/png": "[encoded data removed]",
      "text/plain": [
       "<Figure size 640x480 with 1 Axes>"
      ]
     },
     "metadata": {},
     "output_type": "display_data"
    }
   ],
   "source": [
    "from src.whiten import data, show \n",
    "\n",
    "show(data, \"Parameter space for two features\", \"Raw Feature 1\", \"Raw Feature 2\")"
   ]
  },
  {
   "cell_type": "code",
   "execution_count": 139,
   "id": "4ee5bb40-e8a5-47b5-b080-33b6713dfcd7",
   "metadata": {},
   "outputs": [
    {
     "data": {
      "image/png": "[encoded data removed]",
      "text/plain": [
       "<Figure size 640x480 with 1 Axes>"
      ]
     },
     "metadata": {},
     "output_type": "display_data"
    }
   ],
   "source": [
    "from sklearn.decomposition import PCA\n",
    "show(PCA().fit_transform(data),\n",
    "    \"PCA Components\", \"Synthetic Axis 1\", \"Synthetic Axis 2 \")"
   ]
  },
  {
   "cell_type": "markdown",
   "id": "c5fb6cdf-a492-430f-aef2-a99ca444d1b6",
   "metadata": {},
   "source": [
    "Application of decomposition : Reduce the number of features while maintaining the most information possible"
   ]
  },
  {
   "cell_type": "markdown",
   "id": "462faede-172c-4139-92b1-81079dc45e43",
   "metadata": {},
   "source": [
    "### Dimensionality reduction\n",
    "using the Wisconsin Breast Cancer dataset"
   ]
  },
  {
   "cell_type": "code",
   "execution_count": 149,
   "id": "cfbacb5e-382e-4f82-8c92-c8248fa81489",
   "metadata": {},
   "outputs": [],
   "source": [
    "cancer = load_breast_cancer()\n",
    "X_raw = StandardScaler().fit_transform(cancer.data)\n",
    "y = cancer.target"
   ]
  },
  {
   "cell_type": "code",
   "execution_count": 150,
   "id": "04a2149d-d3ca-452d-b2e4-e7743413be60",
   "metadata": {},
   "outputs": [],
   "source": [
    "X_pca1 = PCA(n_components=1, whiten=True).fit_transform(X_raw)\n",
    "X_pca2 = PCA(n_components=2, whiten=True).fit_transform(X_raw)\n",
    "X_pca4 = PCA(n_components=4, whiten=True).fit_transform(X_raw)"
   ]
  },
  {
   "cell_type": "code",
   "execution_count": 154,
   "id": "f07a6c73-fb8d-4ac1-8497-be6e3d95ebb5",
   "metadata": {},
   "outputs": [
    {
     "name": "stdout",
     "output_type": "stream",
     "text": [
      "Features | X.shape=(569, 30)\t | 4.90%\n",
      "Features | X.shape=(569, 1)\t | 9.79%\n",
      "Features | X.shape=(569, 2)\t | 6.99%\n",
      "Features | X.shape=(569, 4)\t | 4.20%\n"
     ]
    }
   ],
   "source": [
    "for X in (X_raw, X_pca1, X_pca2, X_pca4):\n",
    "    X_train, X_test, y_train, y_test = (\n",
    "        train_test_split(X, y, random_state=1))\n",
    "    model = KNeighborsClassifier().fit(X_train, y_train)\n",
    "    accuracy = model.score(X_test, y_test)\n",
    "    error_rate = 100*(1-accuracy)\n",
    "    print(f\"Features | {X.shape=}\\t | {error_rate:.2f}%\")\n",
    "    "
   ]
  },
  {
   "cell_type": "code",
   "execution_count": 155,
   "id": "b6ee80b0-8513-4ffb-8d5e-9ff4680e4b4b",
   "metadata": {},
   "outputs": [
    {
     "data": {
      "text/html": [
       "<div>\n",
       "<style scoped>\n",
       "    .dataframe tbody tr th:only-of-type {\n",
       "        vertical-align: middle;\n",
       "    }\n",
       "\n",
       "    .dataframe tbody tr th {\n",
       "        vertical-align: top;\n",
       "    }\n",
       "\n",
       "    .dataframe thead th {\n",
       "        text-align: right;\n",
       "    }\n",
       "</style>\n",
       "<table border=\"1\" class=\"dataframe\">\n",
       "  <thead>\n",
       "    <tr style=\"text-align: right;\">\n",
       "      <th></th>\n",
       "      <th>pca_1</th>\n",
       "      <th>pca_2</th>\n",
       "      <th>pca_3</th>\n",
       "    </tr>\n",
       "  </thead>\n",
       "  <tbody>\n",
       "    <tr>\n",
       "      <th>mean radius</th>\n",
       "      <td>0.218902</td>\n",
       "      <td>-0.233857</td>\n",
       "      <td>-0.008531</td>\n",
       "    </tr>\n",
       "    <tr>\n",
       "      <th>mean texture</th>\n",
       "      <td>0.103725</td>\n",
       "      <td>-0.059706</td>\n",
       "      <td>0.064550</td>\n",
       "    </tr>\n",
       "    <tr>\n",
       "      <th>mean perimeter</th>\n",
       "      <td>0.227537</td>\n",
       "      <td>-0.215181</td>\n",
       "      <td>-0.009314</td>\n",
       "    </tr>\n",
       "    <tr>\n",
       "      <th>mean area</th>\n",
       "      <td>0.220995</td>\n",
       "      <td>-0.231077</td>\n",
       "      <td>0.028700</td>\n",
       "    </tr>\n",
       "    <tr>\n",
       "      <th>...</th>\n",
       "      <td>...</td>\n",
       "      <td>...</td>\n",
       "      <td>...</td>\n",
       "    </tr>\n",
       "    <tr>\n",
       "      <th>worst concavity</th>\n",
       "      <td>0.228768</td>\n",
       "      <td>0.097964</td>\n",
       "      <td>-0.173057</td>\n",
       "    </tr>\n",
       "    <tr>\n",
       "      <th>worst concave points</th>\n",
       "      <td>0.250886</td>\n",
       "      <td>-0.008257</td>\n",
       "      <td>-0.170344</td>\n",
       "    </tr>\n",
       "    <tr>\n",
       "      <th>worst symmetry</th>\n",
       "      <td>0.122905</td>\n",
       "      <td>0.141883</td>\n",
       "      <td>-0.271313</td>\n",
       "    </tr>\n",
       "    <tr>\n",
       "      <th>worst fractal dimension</th>\n",
       "      <td>0.131784</td>\n",
       "      <td>0.275339</td>\n",
       "      <td>-0.232791</td>\n",
       "    </tr>\n",
       "  </tbody>\n",
       "</table>\n",
       "<p>30 rows × 3 columns</p>\n",
       "</div>"
      ],
      "text/plain": [
       "                            pca_1     pca_2     pca_3\n",
       "mean radius              0.218902 -0.233857 -0.008531\n",
       "mean texture             0.103725 -0.059706  0.064550\n",
       "mean perimeter           0.227537 -0.215181 -0.009314\n",
       "mean area                0.220995 -0.231077  0.028700\n",
       "...                           ...       ...       ...\n",
       "worst concavity          0.228768  0.097964 -0.173057\n",
       "worst concave points     0.250886 -0.008257 -0.170344\n",
       "worst symmetry           0.122905  0.141883 -0.271313\n",
       "worst fractal dimension  0.131784  0.275339 -0.232791\n",
       "\n",
       "[30 rows x 3 columns]"
      ]
     },
     "execution_count": 155,
     "metadata": {},
     "output_type": "execute_result"
    }
   ],
   "source": [
    "pca3 = PCA(n_components=3).fit(X_raw)\n",
    "pd.DataFrame(pca3.components_.T,\n",
    "    index=cancer.feature_names,\n",
    "    columns=['pca_1', 'pca_2', 'pca_3'])"
   ]
  },
  {
   "cell_type": "markdown",
   "id": "d046ea05-0ffb-41df-b1ef-8d852e327876",
   "metadata": {},
   "source": [
    "### Visualization"
   ]
  },
  {
   "cell_type": "code",
   "execution_count": 156,
   "id": "af7db6fe-278c-4736-8e1f-cd103f088965",
   "metadata": {},
   "outputs": [
    {
     "data": {
      "image/png": "[encoded data removed]",
      "text/plain": [
       "<Figure size 1000x500 with 10 Axes>"
      ]
     },
     "metadata": {},
     "output_type": "display_data"
    }
   ],
   "source": [
    "digits = get_digits()"
   ]
  },
  {
   "cell_type": "code",
   "execution_count": 158,
   "id": "e7a09051-99ca-4977-81ed-aab7984a2d89",
   "metadata": {},
   "outputs": [
    {
     "data": {
      "image/png": "[encoded data removed]",
      "text/plain": [
       "<Figure size 800x800 with 1 Axes>"
      ]
     },
     "metadata": {},
     "output_type": "display_data"
    }
   ],
   "source": [
    "pca_digits = PCA(n_components = 2).fit_transform(digits.data)\n",
    "plot_digits(pca_digits, digits, 'PCA')"
   ]
  },
  {
   "cell_type": "code",
   "execution_count": 159,
   "id": "c4182117-218c-4f45-9d3a-37336a7f1249",
   "metadata": {},
   "outputs": [],
   "source": [
    "# t-NSE with logistic regression "
   ]
  },
  {
   "cell_type": "code",
   "execution_count": 160,
   "id": "87fd2e94-01ba-4efa-845e-944b19019748",
   "metadata": {},
   "outputs": [
    {
     "data": {
      "image/png": "[encoded data removed]",
      "text/plain": [
       "<Figure size 800x800 with 1 Axes>"
      ]
     },
     "metadata": {},
     "output_type": "display_data"
    }
   ],
   "source": [
    "tsne_digits = TSNE(random_state=1).fit_transform(digits.data)\n",
    "plot_digits(tsne_digits, digits, 't-SNE')"
   ]
  },
  {
   "cell_type": "code",
   "execution_count": null,
   "id": "d099043e-edf5-492e-97e6-2ade781c4ddb",
   "metadata": {},
   "outputs": [],
   "source": []
  }
 ],
 "metadata": {
  "kernelspec": {
   "display_name": "Python 3 (ipykernel)",
   "language": "python",
   "name": "python3"
  },
  "language_info": {
   "codemirror_mode": {
    "name": "ipython",
    "version": 3
   },
   "file_extension": ".py",
   "mimetype": "text/x-python",
   "name": "python",
   "nbconvert_exporter": "python",
   "pygments_lexer": "ipython3",
   "version": "3.11.5"
  }
 },
 "nbformat": 4,
 "nbformat_minor": 5
}
